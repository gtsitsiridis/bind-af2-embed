{
 "cells": [
  {
   "cell_type": "markdown",
   "metadata": {
    "pycharm": {
     "name": "#%% md\n"
    }
   },
   "source": [
    "# Visualize Data 4\n",
    "\n",
    "In this project I will try to predict protein binding residues using ProtT5 embeddings and distance maps computed from AF2 structures.\n",
    "To better understand the data input and decide on an appropriate Machine Learning (ML) model, I am creating this notebook to visualize the data.\n",
    "I am particularly interested in seeing if there are some obvious patterns first on the protein level and second on the residue level of the data.\n",
    "Finally, I want to analyze some characteristics of binding sites such us binding site length and the 3D structure of binding sites."
   ]
  },
  {
   "cell_type": "code",
   "execution_count": 1,
   "metadata": {
    "pycharm": {
     "name": "#%%\n"
    }
   },
   "outputs": [],
   "source": [
    "# Import dependencies\n",
    "%load_ext autoreload\n",
    "%autoreload 2\n",
    "\n",
    "import pandas as pd\n",
    "from config import AppConfig\n",
    "from dataset import Dataset\n",
    "import plotly.express as px\n",
    "from umap import UMAP\n",
    "from visualize_data import umap_plots, umap_plots_2d\n",
    "import numpy as np"
   ]
  },
  {
   "cell_type": "markdown",
   "metadata": {
    "pycharm": {
     "name": "#%% md\n"
    }
   },
   "source": [
    "## Read data"
   ]
  },
  {
   "cell_type": "code",
   "execution_count": 2,
   "metadata": {
    "pycharm": {
     "name": "#%%\n"
    }
   },
   "outputs": [],
   "source": [
    "dataset = Dataset(config=AppConfig())"
   ]
  },
  {
   "cell_type": "markdown",
   "metadata": {
    "pycharm": {
     "name": "#%% md\n"
    }
   },
   "source": [
    "## Inspect residue level stats\n",
    "\n",
    "I am extracting embedings and distograms for each residue. \n",
    "I am interested to find patterns in AA composition that could be used as predictors for binding residues and/or binding sites."
   ]
  },
  {
   "cell_type": "code",
   "execution_count": 4,
   "metadata": {
    "pycharm": {
     "name": "#%%\n"
    }
   },
   "outputs": [
    {
     "name": "stdout",
     "output_type": "stream",
     "text": [
      "Distogram length is different for id: Q00277. Seq length: 169, Distogram length: 168. Skipping...\n",
      "Distogram length is different for id: P84801. Seq length: 121, Distogram length: 120. Skipping...\n",
      "Distogram length is different for id: Q9NZV6. Seq length: 116, Distogram length: 115. Skipping...\n",
      "Distogram length is different for id: C8BD48. Seq length: 99, Distogram length: 98. Skipping...\n"
     ]
    }
   ],
   "source": [
    "long_df, long_embeddings, long_labels, long_distograms = dataset.long_data()"
   ]
  },
  {
   "cell_type": "markdown",
   "source": [
    "## Questions\n",
    "\n",
    "### Would the filtering based on pLDDT affect the patterns?\n",
    "\n",
    "### What is the pLDDT distribution of my data?\n",
    "\n",
    "### What does the binding site structure look like in the data? How long are the binding sites? How far appart in sequence are their binding residues?\n",
    "\n",
    "### This raises the question about the 3D structure of the binding sites. Do the binding residues reside close to each other in sequence? Or do the distograms acctually help bring distant binding residues (in sequence) together to form a single binding site?"
   ],
   "metadata": {
    "collapsed": false,
    "pycharm": {
     "name": "#%% md\n"
    }
   }
  },
  {
   "cell_type": "code",
   "execution_count": null,
   "outputs": [],
   "source": [],
   "metadata": {
    "collapsed": false,
    "pycharm": {
     "name": "#%%\n"
    }
   }
  }
 ],
 "metadata": {
  "kernelspec": {
   "display_name": "Python 3 (ipykernel)",
   "language": "python",
   "name": "python3"
  },
  "language_info": {
   "codemirror_mode": {
    "name": "ipython",
    "version": 3
   },
   "file_extension": ".py",
   "mimetype": "text/x-python",
   "name": "python",
   "nbconvert_exporter": "python",
   "pygments_lexer": "ipython3",
   "version": "3.8.10"
  }
 },
 "nbformat": 4,
 "nbformat_minor": 1
}