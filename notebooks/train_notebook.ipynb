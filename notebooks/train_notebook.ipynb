{
 "cells": [
  {
   "cell_type": "code",
   "execution_count": 1,
   "metadata": {
    "pycharm": {
     "name": "#%%\n"
    }
   },
   "outputs": [],
   "source": [
    "\n",
    "import sys\n",
    "\n",
    "sys.path.insert(0, '/home/george/Projects/Python/bind-af2-embed/src')\n",
    "sys.path.insert(0, '/Users/tsitsiridis/Projects/bind-af2-embed/src')\n",
    "\n",
    "\n",
    "# Import dependencies\n",
    "%load_ext autoreload\n",
    "%autoreload 2\n",
    "\n",
    "import pandas as pd\n",
    "from config import AppConfig\n",
    "from plots import Plots\n",
    "from ml.common import Performance\n",
    "import numpy as np\n",
    "import math\n",
    "from scipy.stats import t\n",
    "import matplotlib.pyplot as plt\n",
    "from sklearn.metrics import confusion_matrix, roc_curve, auc"
   ]
  },
  {
   "cell_type": "markdown",
   "metadata": {
    "pycharm": {
     "name": "#%% md\n"
    }
   },
   "source": [
    "### Read predictions files"
   ]
  },
  {
   "cell_type": "code",
   "execution_count": 2,
   "metadata": {
    "pycharm": {
     "name": "#%%\n"
    }
   },
   "outputs": [],
   "source": [
    "def read_predictions_df(tag: str, cutoff: float = 0.5) -> Performance:\n",
    "    config = AppConfig()\n",
    "    predictions_path = config.get_ml_predictions_path()\n",
    "    predictions_path = predictions_path / tag / 'test_total.csv'\n",
    "    df = pd.read_csv(str(predictions_path))\n",
    "    return df\n",
    "\n",
    "def read_performance_df(tag: str, cutoff: float = 0.5) -> pd.DataFrame:\n",
    "    config = AppConfig()\n",
    "    perf_path = config.get_ml_model_path()\n",
    "    perf_path = perf_path / tag / 'model_test_perf.csv'\n",
    "    df = pd.read_csv(str(perf_path))\n",
    "    return df"
   ]
  },
  {
   "cell_type": "code",
   "execution_count": 3,
   "metadata": {},
   "outputs": [],
   "source": [
    "#tags = ['emb_filtered', 'emb_total', 'emb_binary_filtered', 'cnn_combined_2', 'cnn_combined_3', 'cnn_combined_binary_3']\n",
    "tags = ['emb_filtered', 'cnn_combined_3']\n",
    "\n",
    "\n",
    "performance_df = {tag: read_performance_df(tag) for tag in tags}\n",
    "\n",
    "predictions_df = {tag: read_predictions_df(tag) for tag in tags}"
   ]
  },
  {
   "cell_type": "code",
   "execution_count": 7,
   "metadata": {
    "pycharm": {
     "name": "#%%\n"
    }
   },
   "outputs": [],
   "source": [
    "df = predictions_df['emb_filtered']\n",
    "perf = Performance.df_to_performance(df[df.cutoff == 0.5], is_train=False)"
   ]
  },
  {
   "cell_type": "code",
   "execution_count": 16,
   "metadata": {
    "pycharm": {
     "name": "#%%\n"
    }
   },
   "outputs": [
    {
     "name": "stdout",
     "output_type": "stream",
     "text": [
      "{'mcc': '0.35 ± 0.03 %', 'f1': '0.33 ± 0.03 %', 'rec': '0.293 ± 0.03 %', 'prec': '0.54 ± 0.04 %'}\n"
     ]
    },
    {
     "ename": "ValueError",
     "evalue": "If using all scalar values, you must pass an index",
     "output_type": "error",
     "traceback": [
      "\u001b[0;31m---------------------------------------------------------------------------\u001b[0m",
      "\u001b[0;31mValueError\u001b[0m                                Traceback (most recent call last)",
      "Input \u001b[0;32mIn [16]\u001b[0m, in \u001b[0;36m<cell line: 3>\u001b[0;34m()\u001b[0m\n\u001b[1;32m      1\u001b[0m perf\u001b[38;5;241m.\u001b[39mto_dict()\n\u001b[1;32m      2\u001b[0m fig, ax \u001b[38;5;241m=\u001b[39m plt\u001b[38;5;241m.\u001b[39msubplots()\n\u001b[0;32m----> 3\u001b[0m \u001b[43mPlots\u001b[49m\u001b[38;5;241;43m.\u001b[39;49m\u001b[43mplot_performance_table\u001b[49m\u001b[43m(\u001b[49m\u001b[43mperf\u001b[49m\u001b[38;5;241;43m.\u001b[39;49m\u001b[43mto_dict\u001b[49m\u001b[43m(\u001b[49m\u001b[43m)\u001b[49m\u001b[43m,\u001b[49m\u001b[43m \u001b[49m\u001b[43max\u001b[49m\u001b[38;5;241;43m=\u001b[39;49m\u001b[43max\u001b[49m\u001b[43m,\u001b[49m\u001b[43m \u001b[49m\u001b[43mclass_label\u001b[49m\u001b[38;5;241;43m=\u001b[39;49m\u001b[38;5;124;43m'\u001b[39;49m\u001b[38;5;124;43mtotal\u001b[39;49m\u001b[38;5;124;43m'\u001b[39;49m\u001b[43m)\u001b[49m\n\u001b[1;32m      4\u001b[0m fig\u001b[38;5;241m.\u001b[39mshow()\n",
      "File \u001b[0;32m~/Projects/Python/bind-af2-embed/src/plots.py:239\u001b[0m, in \u001b[0;36mPlots.plot_performance_table\u001b[0;34m(metrics, ax, class_label)\u001b[0m\n\u001b[1;32m    237\u001b[0m results \u001b[38;5;241m=\u001b[39m {labels[i]: \u001b[38;5;124mf\u001b[39m\u001b[38;5;124m'\u001b[39m\u001b[38;5;132;01m{\u001b[39;00m\u001b[38;5;28mstr\u001b[39m(means[i])\u001b[38;5;132;01m}\u001b[39;00m\u001b[38;5;124m ± %0.2f %%\u001b[39m\u001b[38;5;124m'\u001b[39m \u001b[38;5;241m%\u001b[39m cis[i] \u001b[38;5;28;01mfor\u001b[39;00m i \u001b[38;5;129;01min\u001b[39;00m \u001b[38;5;28mrange\u001b[39m(\u001b[38;5;28mlen\u001b[39m(labels))}\n\u001b[1;32m    238\u001b[0m \u001b[38;5;28mprint\u001b[39m(results)\n\u001b[0;32m--> 239\u001b[0m df \u001b[38;5;241m=\u001b[39m \u001b[43mpd\u001b[49m\u001b[38;5;241;43m.\u001b[39;49m\u001b[43mDataFrame\u001b[49m\u001b[38;5;241;43m.\u001b[39;49m\u001b[43mfrom_dict\u001b[49m\u001b[43m(\u001b[49m\u001b[43mresults\u001b[49m\u001b[43m)\u001b[49m\n\u001b[1;32m    240\u001b[0m \u001b[38;5;28mprint\u001b[39m(df)\n\u001b[1;32m    241\u001b[0m ax\u001b[38;5;241m.\u001b[39mtable(cellText\u001b[38;5;241m=\u001b[39mdf\u001b[38;5;241m.\u001b[39mvalues, colLabels\u001b[38;5;241m=\u001b[39mdf\u001b[38;5;241m.\u001b[39mcolumns, loc\u001b[38;5;241m=\u001b[39m\u001b[38;5;124m'\u001b[39m\u001b[38;5;124mcenter\u001b[39m\u001b[38;5;124m'\u001b[39m)\n",
      "File \u001b[0;32m~/Projects/Python/bind-af2-embed/venv/lib/python3.8/site-packages/pandas/core/frame.py:1677\u001b[0m, in \u001b[0;36mDataFrame.from_dict\u001b[0;34m(cls, data, orient, dtype, columns)\u001b[0m\n\u001b[1;32m   1674\u001b[0m     \u001b[38;5;28;01mraise\u001b[39;00m \u001b[38;5;167;01mValueError\u001b[39;00m(\u001b[38;5;124m\"\u001b[39m\u001b[38;5;124monly recognize index or columns for orient\u001b[39m\u001b[38;5;124m\"\u001b[39m)\n\u001b[1;32m   1676\u001b[0m \u001b[38;5;28;01mif\u001b[39;00m orient \u001b[38;5;241m!=\u001b[39m \u001b[38;5;124m\"\u001b[39m\u001b[38;5;124mtight\u001b[39m\u001b[38;5;124m\"\u001b[39m:\n\u001b[0;32m-> 1677\u001b[0m     \u001b[38;5;28;01mreturn\u001b[39;00m \u001b[38;5;28;43mcls\u001b[39;49m\u001b[43m(\u001b[49m\u001b[43mdata\u001b[49m\u001b[43m,\u001b[49m\u001b[43m \u001b[49m\u001b[43mindex\u001b[49m\u001b[38;5;241;43m=\u001b[39;49m\u001b[43mindex\u001b[49m\u001b[43m,\u001b[49m\u001b[43m \u001b[49m\u001b[43mcolumns\u001b[49m\u001b[38;5;241;43m=\u001b[39;49m\u001b[43mcolumns\u001b[49m\u001b[43m,\u001b[49m\u001b[43m \u001b[49m\u001b[43mdtype\u001b[49m\u001b[38;5;241;43m=\u001b[39;49m\u001b[43mdtype\u001b[49m\u001b[43m)\u001b[49m\n\u001b[1;32m   1678\u001b[0m \u001b[38;5;28;01melse\u001b[39;00m:\n\u001b[1;32m   1679\u001b[0m     realdata \u001b[38;5;241m=\u001b[39m data[\u001b[38;5;124m\"\u001b[39m\u001b[38;5;124mdata\u001b[39m\u001b[38;5;124m\"\u001b[39m]\n",
      "File \u001b[0;32m~/Projects/Python/bind-af2-embed/venv/lib/python3.8/site-packages/pandas/core/frame.py:636\u001b[0m, in \u001b[0;36mDataFrame.__init__\u001b[0;34m(self, data, index, columns, dtype, copy)\u001b[0m\n\u001b[1;32m    630\u001b[0m     mgr \u001b[38;5;241m=\u001b[39m \u001b[38;5;28mself\u001b[39m\u001b[38;5;241m.\u001b[39m_init_mgr(\n\u001b[1;32m    631\u001b[0m         data, axes\u001b[38;5;241m=\u001b[39m{\u001b[38;5;124m\"\u001b[39m\u001b[38;5;124mindex\u001b[39m\u001b[38;5;124m\"\u001b[39m: index, \u001b[38;5;124m\"\u001b[39m\u001b[38;5;124mcolumns\u001b[39m\u001b[38;5;124m\"\u001b[39m: columns}, dtype\u001b[38;5;241m=\u001b[39mdtype, copy\u001b[38;5;241m=\u001b[39mcopy\n\u001b[1;32m    632\u001b[0m     )\n\u001b[1;32m    634\u001b[0m \u001b[38;5;28;01melif\u001b[39;00m \u001b[38;5;28misinstance\u001b[39m(data, \u001b[38;5;28mdict\u001b[39m):\n\u001b[1;32m    635\u001b[0m     \u001b[38;5;66;03m# GH#38939 de facto copy defaults to False only in non-dict cases\u001b[39;00m\n\u001b[0;32m--> 636\u001b[0m     mgr \u001b[38;5;241m=\u001b[39m \u001b[43mdict_to_mgr\u001b[49m\u001b[43m(\u001b[49m\u001b[43mdata\u001b[49m\u001b[43m,\u001b[49m\u001b[43m \u001b[49m\u001b[43mindex\u001b[49m\u001b[43m,\u001b[49m\u001b[43m \u001b[49m\u001b[43mcolumns\u001b[49m\u001b[43m,\u001b[49m\u001b[43m \u001b[49m\u001b[43mdtype\u001b[49m\u001b[38;5;241;43m=\u001b[39;49m\u001b[43mdtype\u001b[49m\u001b[43m,\u001b[49m\u001b[43m \u001b[49m\u001b[43mcopy\u001b[49m\u001b[38;5;241;43m=\u001b[39;49m\u001b[43mcopy\u001b[49m\u001b[43m,\u001b[49m\u001b[43m \u001b[49m\u001b[43mtyp\u001b[49m\u001b[38;5;241;43m=\u001b[39;49m\u001b[43mmanager\u001b[49m\u001b[43m)\u001b[49m\n\u001b[1;32m    637\u001b[0m \u001b[38;5;28;01melif\u001b[39;00m \u001b[38;5;28misinstance\u001b[39m(data, ma\u001b[38;5;241m.\u001b[39mMaskedArray):\n\u001b[1;32m    638\u001b[0m     \u001b[38;5;28;01mimport\u001b[39;00m \u001b[38;5;21;01mnumpy\u001b[39;00m\u001b[38;5;21;01m.\u001b[39;00m\u001b[38;5;21;01mma\u001b[39;00m\u001b[38;5;21;01m.\u001b[39;00m\u001b[38;5;21;01mmrecords\u001b[39;00m \u001b[38;5;28;01mas\u001b[39;00m \u001b[38;5;21;01mmrecords\u001b[39;00m\n",
      "File \u001b[0;32m~/Projects/Python/bind-af2-embed/venv/lib/python3.8/site-packages/pandas/core/internals/construction.py:502\u001b[0m, in \u001b[0;36mdict_to_mgr\u001b[0;34m(data, index, columns, dtype, typ, copy)\u001b[0m\n\u001b[1;32m    494\u001b[0m     arrays \u001b[38;5;241m=\u001b[39m [\n\u001b[1;32m    495\u001b[0m         x\n\u001b[1;32m    496\u001b[0m         \u001b[38;5;28;01mif\u001b[39;00m \u001b[38;5;129;01mnot\u001b[39;00m \u001b[38;5;28mhasattr\u001b[39m(x, \u001b[38;5;124m\"\u001b[39m\u001b[38;5;124mdtype\u001b[39m\u001b[38;5;124m\"\u001b[39m) \u001b[38;5;129;01mor\u001b[39;00m \u001b[38;5;129;01mnot\u001b[39;00m \u001b[38;5;28misinstance\u001b[39m(x\u001b[38;5;241m.\u001b[39mdtype, ExtensionDtype)\n\u001b[1;32m    497\u001b[0m         \u001b[38;5;28;01melse\u001b[39;00m x\u001b[38;5;241m.\u001b[39mcopy()\n\u001b[1;32m    498\u001b[0m         \u001b[38;5;28;01mfor\u001b[39;00m x \u001b[38;5;129;01min\u001b[39;00m arrays\n\u001b[1;32m    499\u001b[0m     ]\n\u001b[1;32m    500\u001b[0m     \u001b[38;5;66;03m# TODO: can we get rid of the dt64tz special case above?\u001b[39;00m\n\u001b[0;32m--> 502\u001b[0m \u001b[38;5;28;01mreturn\u001b[39;00m \u001b[43marrays_to_mgr\u001b[49m\u001b[43m(\u001b[49m\u001b[43marrays\u001b[49m\u001b[43m,\u001b[49m\u001b[43m \u001b[49m\u001b[43mcolumns\u001b[49m\u001b[43m,\u001b[49m\u001b[43m \u001b[49m\u001b[43mindex\u001b[49m\u001b[43m,\u001b[49m\u001b[43m \u001b[49m\u001b[43mdtype\u001b[49m\u001b[38;5;241;43m=\u001b[39;49m\u001b[43mdtype\u001b[49m\u001b[43m,\u001b[49m\u001b[43m \u001b[49m\u001b[43mtyp\u001b[49m\u001b[38;5;241;43m=\u001b[39;49m\u001b[43mtyp\u001b[49m\u001b[43m,\u001b[49m\u001b[43m \u001b[49m\u001b[43mconsolidate\u001b[49m\u001b[38;5;241;43m=\u001b[39;49m\u001b[43mcopy\u001b[49m\u001b[43m)\u001b[49m\n",
      "File \u001b[0;32m~/Projects/Python/bind-af2-embed/venv/lib/python3.8/site-packages/pandas/core/internals/construction.py:120\u001b[0m, in \u001b[0;36marrays_to_mgr\u001b[0;34m(arrays, columns, index, dtype, verify_integrity, typ, consolidate)\u001b[0m\n\u001b[1;32m    117\u001b[0m \u001b[38;5;28;01mif\u001b[39;00m verify_integrity:\n\u001b[1;32m    118\u001b[0m     \u001b[38;5;66;03m# figure out the index, if necessary\u001b[39;00m\n\u001b[1;32m    119\u001b[0m     \u001b[38;5;28;01mif\u001b[39;00m index \u001b[38;5;129;01mis\u001b[39;00m \u001b[38;5;28;01mNone\u001b[39;00m:\n\u001b[0;32m--> 120\u001b[0m         index \u001b[38;5;241m=\u001b[39m \u001b[43m_extract_index\u001b[49m\u001b[43m(\u001b[49m\u001b[43marrays\u001b[49m\u001b[43m)\u001b[49m\n\u001b[1;32m    121\u001b[0m     \u001b[38;5;28;01melse\u001b[39;00m:\n\u001b[1;32m    122\u001b[0m         index \u001b[38;5;241m=\u001b[39m ensure_index(index)\n",
      "File \u001b[0;32m~/Projects/Python/bind-af2-embed/venv/lib/python3.8/site-packages/pandas/core/internals/construction.py:664\u001b[0m, in \u001b[0;36m_extract_index\u001b[0;34m(data)\u001b[0m\n\u001b[1;32m    661\u001b[0m         \u001b[38;5;28;01mraise\u001b[39;00m \u001b[38;5;167;01mValueError\u001b[39;00m(\u001b[38;5;124m\"\u001b[39m\u001b[38;5;124mPer-column arrays must each be 1-dimensional\u001b[39m\u001b[38;5;124m\"\u001b[39m)\n\u001b[1;32m    663\u001b[0m \u001b[38;5;28;01mif\u001b[39;00m \u001b[38;5;129;01mnot\u001b[39;00m indexes \u001b[38;5;129;01mand\u001b[39;00m \u001b[38;5;129;01mnot\u001b[39;00m raw_lengths:\n\u001b[0;32m--> 664\u001b[0m     \u001b[38;5;28;01mraise\u001b[39;00m \u001b[38;5;167;01mValueError\u001b[39;00m(\u001b[38;5;124m\"\u001b[39m\u001b[38;5;124mIf using all scalar values, you must pass an index\u001b[39m\u001b[38;5;124m\"\u001b[39m)\n\u001b[1;32m    666\u001b[0m \u001b[38;5;28;01melif\u001b[39;00m have_series:\n\u001b[1;32m    667\u001b[0m     index \u001b[38;5;241m=\u001b[39m union_indexes(indexes)\n",
      "\u001b[0;31mValueError\u001b[0m: If using all scalar values, you must pass an index"
     ]
    },
    {
     "data": {
      "image/png": "[encoded data removed]",
      "text/plain": [
       "<Figure size 432x288 with 1 Axes>"
      ]
     },
     "metadata": {
      "needs_background": "light"
     },
     "output_type": "display_data"
    }
   ],
   "source": [
    "perf.to_dict()\n",
    "fig, ax = plt.subplots()\n",
    "Plots.plot_performance_table(perf.to_dict(), ax=ax, class_label='total')\n",
    "fig.show()"
   ]
  },
  {
   "cell_type": "code",
   "execution_count": null,
   "metadata": {
    "pycharm": {
     "name": "#%%\n"
    }
   },
   "outputs": [],
   "source": [
    "def get_mean_ci(vec):\n",
    "    \"\"\"\n",
    "    Calculate mean and 95% CI for a given vector\n",
    "    :param vec: vector\n",
    "    :return: mean and ci\n",
    "    \"\"\"\n",
    "    mean = round(np.average(vec), 3)\n",
    "    if len(vec) > 1:\n",
    "        ci = round(np.std(vec)/math.sqrt(len(vec)) * t.ppf((1 + 0.95) / 2, len(vec)), 3)\n",
    "    else:\n",
    "        ci = 0\n",
    "\n",
    "    return mean, ci\n",
    "\n",
    "ci_values_per_tag = {}\n",
    "for tag, df in performance_df.items():\n",
    "    columns = df.columns[1:-2]\n",
    "    ci_values = {}\n",
    "    for column in columns:\n",
    "        mean, ci = get_mean_ci(df[0:-1][column])\n",
    "        ci_values[column] = f'{str(mean)} ± %0.2f' % ci\n",
    "    ci_values_per_tag[tag] = ci_values\n",
    "\n",
    "df=pd.DataFrame.from_dict(ci_values_per_tag, orient='index')\n",
    "df.to_csv('stats.csv')\n",
    "#     mean, ci = get_mean_ci(df[0:-1].f1_total)\n",
    "#     print(df[0:-1])\n",
    "#     print(f'{tag}: f1 total = {str(mean)} +- {str(ci)}')               "
   ]
  },
  {
   "cell_type": "code",
   "execution_count": 20,
   "metadata": {
    "pycharm": {
     "name": "#%%\n"
    }
   },
   "outputs": [],
   "source": [
    "def get_mean_ci(vec):\n",
    "    \"\"\"\n",
    "    Calculate mean and 95% CI for a given vector\n",
    "    :param vec: vector\n",
    "    :return: mean and ci\n",
    "    \"\"\"\n",
    "    mean = round(np.average(vec), 3)\n",
    "    if len(vec) > 1:\n",
    "        ci = round(np.std(vec)/math.sqrt(len(vec)) * t.ppf((1 + 0.95) / 2, len(vec)), 3)\n",
    "    else:\n",
    "        ci = 0\n",
    "\n",
    "    return mean, ci\n",
    "\n",
    "ci_values_per_tag = {}\n",
    "for tag, df in performance_df.items():\n",
    "    columns = df.columns[1:-2]\n",
    "    ci_values = {}\n",
    "    for column in columns:\n",
    "        mean, ci = get_mean_ci(df[0:-1][column])\n",
    "        ci_values[column] = f'{str(mean)} ± %0.2f' % ci\n",
    "    ci_values_per_tag[tag] = ci_values\n",
    "\n",
    "df=pd.DataFrame.from_dict(ci_values_per_tag, orient='index')\n",
    "df.to_csv('stats.csv')\n",
    "#     mean, ci = get_mean_ci(df[0:-1].f1_total)\n",
    "#     print(df[0:-1])\n",
    "#     print(f'{tag}: f1 total = {str(mean)} +- {str(ci)}')               "
   ]
  },
  {
   "cell_type": "code",
   "execution_count": 21,
   "metadata": {},
   "outputs": [
    {
     "data": {
      "image/png": "[encoded data removed]",
      "text/plain": [
       "<Figure size 432x288 with 1 Axes>"
      ]
     },
     "metadata": {
      "needs_background": "light"
     },
     "output_type": "display_data"
    }
   ],
   "source": [
    "def plot_roc(y_true, y_score, tag: str, ax: plt.axes, col: str):\n",
    "    fpr, tpr, _ = roc_curve(y_true, y_score)\n",
    "    roc_auc = auc(fpr, tpr)\n",
    "\n",
    "    ax.plot(\n",
    "        fpr,\n",
    "        tpr,\n",
    "        color=col,\n",
    "        lw=2,\n",
    "        label=f\"{tag} (area = %0.2f)\" % roc_auc,\n",
    "    )\n",
    "\n",
    "def get_df(df, ligand=None):\n",
    "    if ligand is None:\n",
    "        return df\n",
    "    return df[df.ligand == ligand]\n",
    "    \n",
    "fig, ax = plt.subplots()\n",
    "colors = [\"darkorange\",\"green\", \"blue\"]\n",
    "def plot_rocs(ligand=None):\n",
    "    i = 0\n",
    "    for tag, df in predictions_df.items():\n",
    "        plot_roc(get_df(df, ligand=ligand)['target'], get_df(df,ligand=ligand)['prediction'], tag, ax,col=colors[i])\n",
    "        i+=1\n",
    "\n",
    "    ax.plot([0, 1], [0, 1], color=\"navy\", lw=2, linestyle=\"--\")\n",
    "    ax.set_xlim([0.0, 1.0])\n",
    "    ax.set_ylim([0.0, 1.05])\n",
    "    ax.set_xlabel(\"False Positive Rate\")\n",
    "    ax.set_ylabel(\"True Positive Rate\")\n",
    "    ax.set_title(\"ROC curve\" )\n",
    "    ax.legend(loc=\"lower right\")\n",
    "plot_rocs()\n",
    "#plot_rocs(ligand='binding')"
   ]
  },
  {
   "cell_type": "code",
   "execution_count": 5,
   "metadata": {
    "pycharm": {
     "name": "#%%\n"
    }
   },
   "outputs": [],
   "source": [
    "counts = df[['target', 'prediction']].value_counts()\n",
    "tp = counts.loc[(1,1)] / sum(counts)\n",
    "fp = counts.loc[(0,1)] / sum(counts)\n",
    "tn = counts.loc[(0,0)] / sum(counts)\n",
    "fn = counts.loc[(1,0)] / sum(counts)"
   ]
  },
  {
   "cell_type": "code",
   "execution_count": 6,
   "metadata": {
    "pycharm": {
     "name": "#%%\n"
    }
   },
   "outputs": [
    {
     "data": {
      "text/html": [
       "<div>\n",
       "<style scoped>\n",
       "    .dataframe tbody tr th:only-of-type {\n",
       "        vertical-align: middle;\n",
       "    }\n",
       "\n",
       "    .dataframe tbody tr th {\n",
       "        vertical-align: top;\n",
       "    }\n",
       "\n",
       "    .dataframe thead th {\n",
       "        text-align: right;\n",
       "    }\n",
       "</style>\n",
       "<table border=\"1\" class=\"dataframe\">\n",
       "  <thead>\n",
       "    <tr style=\"text-align: right;\">\n",
       "      <th></th>\n",
       "      <th>tag</th>\n",
       "      <th>protd_id</th>\n",
       "      <th>position</th>\n",
       "      <th>ligand</th>\n",
       "      <th>target</th>\n",
       "      <th>prediction</th>\n",
       "      <th>cutoff</th>\n",
       "      <th>ri</th>\n",
       "      <th>prob</th>\n",
       "      <th>loss</th>\n",
       "    </tr>\n",
       "  </thead>\n",
       "  <tbody>\n",
       "    <tr>\n",
       "      <th>393</th>\n",
       "      <td>test</td>\n",
       "      <td>O25094</td>\n",
       "      <td>33</td>\n",
       "      <td>small</td>\n",
       "      <td>1.0</td>\n",
       "      <td>1</td>\n",
       "      <td>0.5</td>\n",
       "      <td>1.026</td>\n",
       "      <td>0.557</td>\n",
       "      <td>0.000</td>\n",
       "    </tr>\n",
       "    <tr>\n",
       "      <th>397</th>\n",
       "      <td>test</td>\n",
       "      <td>O25094</td>\n",
       "      <td>37</td>\n",
       "      <td>small</td>\n",
       "      <td>1.0</td>\n",
       "      <td>1</td>\n",
       "      <td>0.5</td>\n",
       "      <td>0.396</td>\n",
       "      <td>0.522</td>\n",
       "      <td>0.000</td>\n",
       "    </tr>\n",
       "    <tr>\n",
       "      <th>450</th>\n",
       "      <td>test</td>\n",
       "      <td>O25094</td>\n",
       "      <td>90</td>\n",
       "      <td>small</td>\n",
       "      <td>1.0</td>\n",
       "      <td>1</td>\n",
       "      <td>0.5</td>\n",
       "      <td>0.180</td>\n",
       "      <td>0.510</td>\n",
       "      <td>0.000</td>\n",
       "    </tr>\n",
       "    <tr>\n",
       "      <th>451</th>\n",
       "      <td>test</td>\n",
       "      <td>O25094</td>\n",
       "      <td>91</td>\n",
       "      <td>small</td>\n",
       "      <td>1.0</td>\n",
       "      <td>1</td>\n",
       "      <td>0.5</td>\n",
       "      <td>0.864</td>\n",
       "      <td>0.548</td>\n",
       "      <td>0.000</td>\n",
       "    </tr>\n",
       "    <tr>\n",
       "      <th>452</th>\n",
       "      <td>test</td>\n",
       "      <td>O25094</td>\n",
       "      <td>92</td>\n",
       "      <td>small</td>\n",
       "      <td>1.0</td>\n",
       "      <td>0</td>\n",
       "      <td>0.5</td>\n",
       "      <td>0.486</td>\n",
       "      <td>0.473</td>\n",
       "      <td>0.000</td>\n",
       "    </tr>\n",
       "    <tr>\n",
       "      <th>...</th>\n",
       "      <td>...</td>\n",
       "      <td>...</td>\n",
       "      <td>...</td>\n",
       "      <td>...</td>\n",
       "      <td>...</td>\n",
       "      <td>...</td>\n",
       "      <td>...</td>\n",
       "      <td>...</td>\n",
       "      <td>...</td>\n",
       "      <td>...</td>\n",
       "    </tr>\n",
       "    <tr>\n",
       "      <th>250662</th>\n",
       "      <td>test</td>\n",
       "      <td>Q9HAN9</td>\n",
       "      <td>185</td>\n",
       "      <td>binding</td>\n",
       "      <td>1.0</td>\n",
       "      <td>0</td>\n",
       "      <td>0.5</td>\n",
       "      <td>3.996</td>\n",
       "      <td>0.278</td>\n",
       "      <td>627.031</td>\n",
       "    </tr>\n",
       "    <tr>\n",
       "      <th>250691</th>\n",
       "      <td>test</td>\n",
       "      <td>Q9HAN9</td>\n",
       "      <td>214</td>\n",
       "      <td>binding</td>\n",
       "      <td>1.0</td>\n",
       "      <td>0</td>\n",
       "      <td>0.5</td>\n",
       "      <td>8.874</td>\n",
       "      <td>0.007</td>\n",
       "      <td>2245.562</td>\n",
       "    </tr>\n",
       "    <tr>\n",
       "      <th>250695</th>\n",
       "      <td>test</td>\n",
       "      <td>Q9HAN9</td>\n",
       "      <td>218</td>\n",
       "      <td>binding</td>\n",
       "      <td>1.0</td>\n",
       "      <td>0</td>\n",
       "      <td>0.5</td>\n",
       "      <td>5.400</td>\n",
       "      <td>0.200</td>\n",
       "      <td>1334.799</td>\n",
       "    </tr>\n",
       "    <tr>\n",
       "      <th>250696</th>\n",
       "      <td>test</td>\n",
       "      <td>Q9HAN9</td>\n",
       "      <td>219</td>\n",
       "      <td>binding</td>\n",
       "      <td>1.0</td>\n",
       "      <td>0</td>\n",
       "      <td>0.5</td>\n",
       "      <td>3.600</td>\n",
       "      <td>0.300</td>\n",
       "      <td>862.029</td>\n",
       "    </tr>\n",
       "    <tr>\n",
       "      <th>250745</th>\n",
       "      <td>test</td>\n",
       "      <td>Q9HAN9</td>\n",
       "      <td>268</td>\n",
       "      <td>binding</td>\n",
       "      <td>1.0</td>\n",
       "      <td>0</td>\n",
       "      <td>0.5</td>\n",
       "      <td>9.000</td>\n",
       "      <td>0.000</td>\n",
       "      <td>4472.968</td>\n",
       "    </tr>\n",
       "  </tbody>\n",
       "</table>\n",
       "<p>12126 rows × 10 columns</p>\n",
       "</div>"
      ],
      "text/plain": [
       "         tag protd_id  position   ligand  target  prediction  cutoff     ri  \\\n",
       "393     test   O25094        33    small     1.0           1     0.5  1.026   \n",
       "397     test   O25094        37    small     1.0           1     0.5  0.396   \n",
       "450     test   O25094        90    small     1.0           1     0.5  0.180   \n",
       "451     test   O25094        91    small     1.0           1     0.5  0.864   \n",
       "452     test   O25094        92    small     1.0           0     0.5  0.486   \n",
       "...      ...      ...       ...      ...     ...         ...     ...    ...   \n",
       "250662  test   Q9HAN9       185  binding     1.0           0     0.5  3.996   \n",
       "250691  test   Q9HAN9       214  binding     1.0           0     0.5  8.874   \n",
       "250695  test   Q9HAN9       218  binding     1.0           0     0.5  5.400   \n",
       "250696  test   Q9HAN9       219  binding     1.0           0     0.5  3.600   \n",
       "250745  test   Q9HAN9       268  binding     1.0           0     0.5  9.000   \n",
       "\n",
       "         prob      loss  \n",
       "393     0.557     0.000  \n",
       "397     0.522     0.000  \n",
       "450     0.510     0.000  \n",
       "451     0.548     0.000  \n",
       "452     0.473     0.000  \n",
       "...       ...       ...  \n",
       "250662  0.278   627.031  \n",
       "250691  0.007  2245.562  \n",
       "250695  0.200  1334.799  \n",
       "250696  0.300   862.029  \n",
       "250745  0.000  4472.968  \n",
       "\n",
       "[12126 rows x 10 columns]"
      ]
     },
     "execution_count": 6,
     "metadata": {},
     "output_type": "execute_result"
    }
   ],
   "source": [
    "df[df.target == 1]"
   ]
  },
  {
   "cell_type": "code",
   "execution_count": 45,
   "metadata": {
    "pycharm": {
     "name": "#%%\n"
    }
   },
   "outputs": [
    {
     "data": {
      "text/plain": [
       "136.207361801911"
      ]
     },
     "execution_count": 45,
     "metadata": {},
     "output_type": "execute_result"
    }
   ],
   "source": [
    "df.loss.mean()"
   ]
  },
  {
   "cell_type": "code",
   "execution_count": 64,
   "metadata": {
    "pycharm": {
     "name": "#%%\n"
    }
   },
   "outputs": [
    {
     "name": "stderr",
     "output_type": "stream",
     "text": [
      "/tmp/ipykernel_7867/3335055868.py:20: UserWarning: Matplotlib is currently using module://matplotlib_inline.backend_inline, which is a non-GUI backend, so cannot show the figure.\n",
      "  fig.show()\n"
     ]
    },
    {
     "data": {
      "image/png": "[encoded data removed]",
      "text/plain": [
       "<Figure size 432x288 with 1 Axes>"
      ]
     },
     "metadata": {
      "needs_background": "light"
     },
     "output_type": "display_data"
    }
   ],
   "source": [
    "import numpy as np\n",
    "from ml.common import Performance\n",
    "import matplotlib.pyplot as plt\n",
    "\n",
    "cutoffs = df.cutoff.unique()\n",
    "rec = []\n",
    "prec = []\n",
    "covonebind = []\n",
    "for cutoff in cutoffs:\n",
    "    performance = Performance.df_to_performance(df[df.cutoff==cutoff])\n",
    "    rec.append(performance['rec_total'])\n",
    "    prec.append(performance['prec_total'])\n",
    "    covonebind.append(performance['covonebind_total'])\n",
    "\n",
    "fig, ax = plt.subplots()\n",
    "ax.plot(cutoffs, rec,color='green', label='Recall')\n",
    "ax.plot(cutoffs, prec,color='blue', label='Precission')\n",
    "ax.plot(cutoffs, covonebind,color='orange', label = \"CovOneBind\")\n",
    "ax.legend()\n",
    "fig.show()"
   ]
  },
  {
   "cell_type": "code",
   "execution_count": 46,
   "metadata": {
    "pycharm": {
     "name": "#%%\n"
    }
   },
   "outputs": [
    {
     "name": "stdout",
     "output_type": "stream",
     "text": [
      "1e-05\n"
     ]
    },
    {
     "name": "stderr",
     "output_type": "stream",
     "text": [
      "/tmp/ipykernel_7867/2613190845.py:1: FutureWarning: Indexing with multiple keys (implicitly converted to a tuple of keys) will be deprecated, use a list instead.\n",
      "  df1 = df.groupby('protd_id')['prediction', 'target'].sum()\n"
     ]
    }
   ],
   "source": [
    "df1 = df.groupby('protd_id')['prediction', 'target'].sum()\n",
    "covonebind = len(df1[df1.prediction > 0])/len(df1[df1.target > 0])\n",
    "print(1e-5)"
   ]
  },
  {
   "cell_type": "code",
   "execution_count": 42,
   "metadata": {
    "pycharm": {
     "name": "#%%\n"
    }
   },
   "outputs": [
    {
     "data": {
      "text/html": [
       "<div>\n",
       "<style scoped>\n",
       "    .dataframe tbody tr th:only-of-type {\n",
       "        vertical-align: middle;\n",
       "    }\n",
       "\n",
       "    .dataframe tbody tr th {\n",
       "        vertical-align: top;\n",
       "    }\n",
       "\n",
       "    .dataframe thead th {\n",
       "        text-align: right;\n",
       "    }\n",
       "</style>\n",
       "<table border=\"1\" class=\"dataframe\">\n",
       "  <thead>\n",
       "    <tr style=\"text-align: right;\">\n",
       "      <th></th>\n",
       "      <th>tag</th>\n",
       "      <th>protd_id</th>\n",
       "      <th>position</th>\n",
       "      <th>ligand</th>\n",
       "      <th>target</th>\n",
       "      <th>prediction</th>\n",
       "      <th>cutoff</th>\n",
       "      <th>ri</th>\n",
       "      <th>prob</th>\n",
       "      <th>loss</th>\n",
       "    </tr>\n",
       "  </thead>\n",
       "  <tbody>\n",
       "    <tr>\n",
       "      <th>0</th>\n",
       "      <td>validation_epoch_19</td>\n",
       "      <td>P0AE05</td>\n",
       "      <td>0</td>\n",
       "      <td>metal</td>\n",
       "      <td>0.0</td>\n",
       "      <td>1</td>\n",
       "      <td>0.0</td>\n",
       "      <td>inf</td>\n",
       "      <td>7.150692e-04</td>\n",
       "      <td>0.126600</td>\n",
       "    </tr>\n",
       "    <tr>\n",
       "      <th>1</th>\n",
       "      <td>validation_epoch_19</td>\n",
       "      <td>P0AE05</td>\n",
       "      <td>1</td>\n",
       "      <td>metal</td>\n",
       "      <td>0.0</td>\n",
       "      <td>1</td>\n",
       "      <td>0.0</td>\n",
       "      <td>inf</td>\n",
       "      <td>1.505545e-04</td>\n",
       "      <td>0.026670</td>\n",
       "    </tr>\n",
       "    <tr>\n",
       "      <th>2</th>\n",
       "      <td>validation_epoch_19</td>\n",
       "      <td>P0AE05</td>\n",
       "      <td>2</td>\n",
       "      <td>metal</td>\n",
       "      <td>0.0</td>\n",
       "      <td>1</td>\n",
       "      <td>0.0</td>\n",
       "      <td>inf</td>\n",
       "      <td>5.079052e-07</td>\n",
       "      <td>0.000000</td>\n",
       "    </tr>\n",
       "    <tr>\n",
       "      <th>3</th>\n",
       "      <td>validation_epoch_19</td>\n",
       "      <td>P0AE05</td>\n",
       "      <td>3</td>\n",
       "      <td>metal</td>\n",
       "      <td>0.0</td>\n",
       "      <td>1</td>\n",
       "      <td>0.0</td>\n",
       "      <td>inf</td>\n",
       "      <td>5.576067e-07</td>\n",
       "      <td>0.000169</td>\n",
       "    </tr>\n",
       "    <tr>\n",
       "      <th>4</th>\n",
       "      <td>validation_epoch_19</td>\n",
       "      <td>P0AE05</td>\n",
       "      <td>4</td>\n",
       "      <td>metal</td>\n",
       "      <td>0.0</td>\n",
       "      <td>1</td>\n",
       "      <td>0.0</td>\n",
       "      <td>inf</td>\n",
       "      <td>3.618223e-07</td>\n",
       "      <td>0.000000</td>\n",
       "    </tr>\n",
       "    <tr>\n",
       "      <th>...</th>\n",
       "      <td>...</td>\n",
       "      <td>...</td>\n",
       "      <td>...</td>\n",
       "      <td>...</td>\n",
       "      <td>...</td>\n",
       "      <td>...</td>\n",
       "      <td>...</td>\n",
       "      <td>...</td>\n",
       "      <td>...</td>\n",
       "      <td>...</td>\n",
       "    </tr>\n",
       "    <tr>\n",
       "      <th>72235</th>\n",
       "      <td>validation_epoch_19</td>\n",
       "      <td>D1BQI7</td>\n",
       "      <td>213</td>\n",
       "      <td>binding</td>\n",
       "      <td>0.0</td>\n",
       "      <td>0</td>\n",
       "      <td>0.9</td>\n",
       "      <td>8.965245</td>\n",
       "      <td>3.475481e-03</td>\n",
       "      <td>0.758943</td>\n",
       "    </tr>\n",
       "    <tr>\n",
       "      <th>72236</th>\n",
       "      <td>validation_epoch_19</td>\n",
       "      <td>D1BQI7</td>\n",
       "      <td>214</td>\n",
       "      <td>binding</td>\n",
       "      <td>0.0</td>\n",
       "      <td>0</td>\n",
       "      <td>0.9</td>\n",
       "      <td>8.990463</td>\n",
       "      <td>9.536662e-04</td>\n",
       "      <td>0.208005</td>\n",
       "    </tr>\n",
       "    <tr>\n",
       "      <th>72237</th>\n",
       "      <td>validation_epoch_19</td>\n",
       "      <td>D1BQI7</td>\n",
       "      <td>215</td>\n",
       "      <td>binding</td>\n",
       "      <td>0.0</td>\n",
       "      <td>0</td>\n",
       "      <td>0.9</td>\n",
       "      <td>8.984796</td>\n",
       "      <td>1.520480e-03</td>\n",
       "      <td>0.331706</td>\n",
       "    </tr>\n",
       "    <tr>\n",
       "      <th>72238</th>\n",
       "      <td>validation_epoch_19</td>\n",
       "      <td>D1BQI7</td>\n",
       "      <td>216</td>\n",
       "      <td>binding</td>\n",
       "      <td>0.0</td>\n",
       "      <td>0</td>\n",
       "      <td>0.9</td>\n",
       "      <td>8.881128</td>\n",
       "      <td>1.188718e-02</td>\n",
       "      <td>2.606871</td>\n",
       "    </tr>\n",
       "    <tr>\n",
       "      <th>72239</th>\n",
       "      <td>validation_epoch_19</td>\n",
       "      <td>D1BQI7</td>\n",
       "      <td>217</td>\n",
       "      <td>binding</td>\n",
       "      <td>0.0</td>\n",
       "      <td>0</td>\n",
       "      <td>0.9</td>\n",
       "      <td>8.922716</td>\n",
       "      <td>7.728423e-03</td>\n",
       "      <td>1.691379</td>\n",
       "    </tr>\n",
       "  </tbody>\n",
       "</table>\n",
       "<p>72240 rows × 10 columns</p>\n",
       "</div>"
      ],
      "text/plain": [
       "                       tag protd_id  position   ligand  target  prediction  \\\n",
       "0      validation_epoch_19   P0AE05         0    metal     0.0           1   \n",
       "1      validation_epoch_19   P0AE05         1    metal     0.0           1   \n",
       "2      validation_epoch_19   P0AE05         2    metal     0.0           1   \n",
       "3      validation_epoch_19   P0AE05         3    metal     0.0           1   \n",
       "4      validation_epoch_19   P0AE05         4    metal     0.0           1   \n",
       "...                    ...      ...       ...      ...     ...         ...   \n",
       "72235  validation_epoch_19   D1BQI7       213  binding     0.0           0   \n",
       "72236  validation_epoch_19   D1BQI7       214  binding     0.0           0   \n",
       "72237  validation_epoch_19   D1BQI7       215  binding     0.0           0   \n",
       "72238  validation_epoch_19   D1BQI7       216  binding     0.0           0   \n",
       "72239  validation_epoch_19   D1BQI7       217  binding     0.0           0   \n",
       "\n",
       "       cutoff        ri          prob      loss  \n",
       "0         0.0       inf  7.150692e-04  0.126600  \n",
       "1         0.0       inf  1.505545e-04  0.026670  \n",
       "2         0.0       inf  5.079052e-07  0.000000  \n",
       "3         0.0       inf  5.576067e-07  0.000169  \n",
       "4         0.0       inf  3.618223e-07  0.000000  \n",
       "...       ...       ...           ...       ...  \n",
       "72235     0.9  8.965245  3.475481e-03  0.758943  \n",
       "72236     0.9  8.990463  9.536662e-04  0.208005  \n",
       "72237     0.9  8.984796  1.520480e-03  0.331706  \n",
       "72238     0.9  8.881128  1.188718e-02  2.606871  \n",
       "72239     0.9  8.922716  7.728423e-03  1.691379  \n",
       "\n",
       "[72240 rows x 10 columns]"
      ]
     },
     "execution_count": 42,
     "metadata": {},
     "output_type": "execute_result"
    }
   ],
   "source": [
    "df"
   ]
  },
  {
   "cell_type": "code",
   "execution_count": 17,
   "metadata": {
    "pycharm": {
     "name": "#%%\n"
    }
   },
   "outputs": [
    {
     "data": {
      "image/png": "[encoded data removed]",
      "text/plain": [
       "<Figure size 432x288 with 1 Axes>"
      ]
     },
     "metadata": {
      "needs_background": "light"
     },
     "output_type": "display_data"
    }
   ],
   "source": [
    "import matplotlib.pyplot as plt\n",
    "import numpy as np\n",
    "from plots import Plots\n",
    "\n",
    "fig1, ax1 = plt.subplots()\n",
    "Plots.plot_hist(df.prob, ax=ax1, title='Probability')"
   ]
  },
  {
   "cell_type": "code",
   "execution_count": 60,
   "metadata": {
    "pycharm": {
     "name": "#%%\n"
    }
   },
   "outputs": [
    {
     "data": {
      "text/plain": [
       "array([0. , 0.1, 0.2, 0.3, 0.4, 0.5, 0.6, 0.7, 0.8, 1. ])"
      ]
     },
     "execution_count": 60,
     "metadata": {},
     "output_type": "execute_result"
    }
   ],
   "source": [
    "cutoffs = np.linspace(0, 1, 10, endpoint=True)\n",
    "cutoffs = (cutoffs * 10).astype(int) / 10"
   ]
  },
  {
   "cell_type": "code",
   "execution_count": 53,
   "metadata": {
    "pycharm": {
     "name": "#%%\n"
    }
   },
   "outputs": [],
   "source": []
  },
  {
   "cell_type": "code",
   "execution_count": null,
   "metadata": {
    "pycharm": {
     "name": "#%%\n"
    }
   },
   "outputs": [],
   "source": []
  }
 ],
 "metadata": {
  "kernelspec": {
   "display_name": "Python 3 (ipykernel)",
   "language": "python",
   "name": "python3"
  },
  "language_info": {
   "codemirror_mode": {
    "name": "ipython",
    "version": 3
   },
   "file_extension": ".py",
   "mimetype": "text/x-python",
   "name": "python",
   "nbconvert_exporter": "python",
   "pygments_lexer": "ipython3",
   "version": "3.8.10"
  }
 },
 "nbformat": 4,
 "nbformat_minor": 1
}
