{
 "cells": [
  {
   "cell_type": "code",
   "execution_count": 11,
   "metadata": {
    "collapsed": true,
    "pycharm": {
     "name": "#%%\n"
    }
   },
   "outputs": [
    {
     "name": "stdout",
     "output_type": "stream",
     "text": [
      "The autoreload extension is already loaded. To reload it, use:\n",
      "  %reload_ext autoreload\n"
     ]
    }
   ],
   "source": [
    "\n",
    "import sys\n",
    "\n",
    "sys.path.insert(0, '/home/george/Projects/Python/bind-af2-embed/src')\n",
    "\n",
    "# Import dependencies\n",
    "%load_ext autoreload\n",
    "%autoreload 2\n",
    "\n",
    "import pandas as pd\n",
    "from config import AppConfig\n",
    "from plots import Plots"
   ]
  },
  {
   "cell_type": "markdown",
   "source": [
    "### Read predictions files"
   ],
   "metadata": {
    "collapsed": false,
    "pycharm": {
     "name": "#%% md\n"
    }
   }
  },
  {
   "cell_type": "code",
   "execution_count": 42,
   "outputs": [],
   "source": [
    "tag = '202207041511_CNN1D_EMBEDDINGS'\n",
    "\n",
    "config = AppConfig()\n",
    "predictions_path = config.get_ml_predictions_path()\n",
    "predictions_path = predictions_path / tag / 'test_norm.csv'\n",
    "df = pd.read_csv(str(predictions_path))"
   ],
   "metadata": {
    "collapsed": false,
    "pycharm": {
     "name": "#%%\n"
    }
   }
  },
  {
   "cell_type": "code",
   "execution_count": 43,
   "outputs": [],
   "source": [
    "counts = df[['target', 'prediction']].value_counts()\n",
    "tp = counts.loc[(1,1)] / sum(counts)\n",
    "fp = counts.loc[(0,1)] / sum(counts)\n",
    "tn = counts.loc[(0,0)] / sum(counts)\n",
    "fn = counts.loc[(1,0)] / sum(counts)"
   ],
   "metadata": {
    "collapsed": false,
    "pycharm": {
     "name": "#%%\n"
    }
   }
  },
  {
   "cell_type": "code",
   "execution_count": 44,
   "outputs": [
    {
     "data": {
      "text/plain": "         tag protd_id  position   ligand  target  prediction  cutoff  \\\n99      test   P02281        99    metal     1.0           0     0.5   \n100     test   P02281       100    metal     1.0           0     0.5   \n102     test   P02281       102    metal     1.0           0     0.5   \n105     test   P02281       105    metal     1.0           0     0.5   \n108     test   P02281       108    metal     1.0           0     0.5   \n...      ...      ...       ...      ...     ...         ...     ...   \n250647  test   P40347        52  binding     1.0           1     0.5   \n250692  test   P40347        97  binding     1.0           1     0.5   \n250695  test   P40347       100  binding     1.0           0     0.5   \n250727  test   P40347       132  binding     1.0           1     0.5   \n250729  test   P40347       134  binding     1.0           0     0.5   \n\n              ri   prob      loss  \n99      7.488000  0.084  2729.514  \n100     8.082000  0.051  3387.816  \n102     8.190000  0.045  3552.204  \n105     2.214000  0.377  1602.228  \n108     8.784000  0.012  4361.887  \n...          ...    ...       ...  \n250647  8.028000  0.946    10.029  \n250692  7.308001  0.906    18.225  \n250695  6.858000  0.119   415.518  \n250727  0.954000  0.553   115.693  \n250729  2.106000  0.383   176.582  \n\n[12126 rows x 10 columns]",
      "text/html": "<div>\n<style scoped>\n    .dataframe tbody tr th:only-of-type {\n        vertical-align: middle;\n    }\n\n    .dataframe tbody tr th {\n        vertical-align: top;\n    }\n\n    .dataframe thead th {\n        text-align: right;\n    }\n</style>\n<table border=\"1\" class=\"dataframe\">\n  <thead>\n    <tr style=\"text-align: right;\">\n      <th></th>\n      <th>tag</th>\n      <th>protd_id</th>\n      <th>position</th>\n      <th>ligand</th>\n      <th>target</th>\n      <th>prediction</th>\n      <th>cutoff</th>\n      <th>ri</th>\n      <th>prob</th>\n      <th>loss</th>\n    </tr>\n  </thead>\n  <tbody>\n    <tr>\n      <th>99</th>\n      <td>test</td>\n      <td>P02281</td>\n      <td>99</td>\n      <td>metal</td>\n      <td>1.0</td>\n      <td>0</td>\n      <td>0.5</td>\n      <td>7.488000</td>\n      <td>0.084</td>\n      <td>2729.514</td>\n    </tr>\n    <tr>\n      <th>100</th>\n      <td>test</td>\n      <td>P02281</td>\n      <td>100</td>\n      <td>metal</td>\n      <td>1.0</td>\n      <td>0</td>\n      <td>0.5</td>\n      <td>8.082000</td>\n      <td>0.051</td>\n      <td>3387.816</td>\n    </tr>\n    <tr>\n      <th>102</th>\n      <td>test</td>\n      <td>P02281</td>\n      <td>102</td>\n      <td>metal</td>\n      <td>1.0</td>\n      <td>0</td>\n      <td>0.5</td>\n      <td>8.190000</td>\n      <td>0.045</td>\n      <td>3552.204</td>\n    </tr>\n    <tr>\n      <th>105</th>\n      <td>test</td>\n      <td>P02281</td>\n      <td>105</td>\n      <td>metal</td>\n      <td>1.0</td>\n      <td>0</td>\n      <td>0.5</td>\n      <td>2.214000</td>\n      <td>0.377</td>\n      <td>1602.228</td>\n    </tr>\n    <tr>\n      <th>108</th>\n      <td>test</td>\n      <td>P02281</td>\n      <td>108</td>\n      <td>metal</td>\n      <td>1.0</td>\n      <td>0</td>\n      <td>0.5</td>\n      <td>8.784000</td>\n      <td>0.012</td>\n      <td>4361.887</td>\n    </tr>\n    <tr>\n      <th>...</th>\n      <td>...</td>\n      <td>...</td>\n      <td>...</td>\n      <td>...</td>\n      <td>...</td>\n      <td>...</td>\n      <td>...</td>\n      <td>...</td>\n      <td>...</td>\n      <td>...</td>\n    </tr>\n    <tr>\n      <th>250647</th>\n      <td>test</td>\n      <td>P40347</td>\n      <td>52</td>\n      <td>binding</td>\n      <td>1.0</td>\n      <td>1</td>\n      <td>0.5</td>\n      <td>8.028000</td>\n      <td>0.946</td>\n      <td>10.029</td>\n    </tr>\n    <tr>\n      <th>250692</th>\n      <td>test</td>\n      <td>P40347</td>\n      <td>97</td>\n      <td>binding</td>\n      <td>1.0</td>\n      <td>1</td>\n      <td>0.5</td>\n      <td>7.308001</td>\n      <td>0.906</td>\n      <td>18.225</td>\n    </tr>\n    <tr>\n      <th>250695</th>\n      <td>test</td>\n      <td>P40347</td>\n      <td>100</td>\n      <td>binding</td>\n      <td>1.0</td>\n      <td>0</td>\n      <td>0.5</td>\n      <td>6.858000</td>\n      <td>0.119</td>\n      <td>415.518</td>\n    </tr>\n    <tr>\n      <th>250727</th>\n      <td>test</td>\n      <td>P40347</td>\n      <td>132</td>\n      <td>binding</td>\n      <td>1.0</td>\n      <td>1</td>\n      <td>0.5</td>\n      <td>0.954000</td>\n      <td>0.553</td>\n      <td>115.693</td>\n    </tr>\n    <tr>\n      <th>250729</th>\n      <td>test</td>\n      <td>P40347</td>\n      <td>134</td>\n      <td>binding</td>\n      <td>1.0</td>\n      <td>0</td>\n      <td>0.5</td>\n      <td>2.106000</td>\n      <td>0.383</td>\n      <td>176.582</td>\n    </tr>\n  </tbody>\n</table>\n<p>12126 rows × 10 columns</p>\n</div>"
     },
     "execution_count": 44,
     "metadata": {},
     "output_type": "execute_result"
    }
   ],
   "source": [
    "df[df.target == 1]"
   ],
   "metadata": {
    "collapsed": false,
    "pycharm": {
     "name": "#%%\n"
    }
   }
  },
  {
   "cell_type": "code",
   "execution_count": 45,
   "outputs": [
    {
     "data": {
      "text/plain": "136.207361801911"
     },
     "execution_count": 45,
     "metadata": {},
     "output_type": "execute_result"
    }
   ],
   "source": [
    "df.loss.mean()"
   ],
   "metadata": {
    "collapsed": false,
    "pycharm": {
     "name": "#%%\n"
    }
   }
  },
  {
   "cell_type": "code",
   "execution_count": 46,
   "outputs": [
    {
     "data": {
      "text/plain": "array(['metal', 'nuclear', 'small', 'binding'], dtype=object)"
     },
     "execution_count": 46,
     "metadata": {},
     "output_type": "execute_result"
    }
   ],
   "source": [
    " df.ligand.unique()"
   ],
   "metadata": {
    "collapsed": false,
    "pycharm": {
     "name": "#%%\n"
    }
   }
  },
  {
   "cell_type": "code",
   "execution_count": 47,
   "outputs": [
    {
     "data": {
      "text/plain": "         tag protd_id  position   ligand  target  prediction  cutoff  \\\n0       test   P02281         0    metal     0.0           0     0.5   \n1       test   P02281         1    metal     0.0           0     0.5   \n2       test   P02281         2    metal     0.0           0     0.5   \n3       test   P02281         3    metal     0.0           0     0.5   \n4       test   P02281         4    metal     0.0           0     0.5   \n...      ...      ...       ...      ...     ...         ...     ...   \n250751  test   P40347       156  binding     0.0           0     0.5   \n250752  test   P40347       157  binding     0.0           0     0.5   \n250753  test   P40347       158  binding     0.0           0     0.5   \n250754  test   P40347       159  binding     0.0           0     0.5   \n250755  test   P40347       160  binding     0.0           0     0.5   \n\n              ri   prob    loss  \n0       6.138001  0.159  22.311  \n1       6.066000  0.163  23.056  \n2       6.318000  0.149  20.776  \n3       8.604000  0.022   2.780  \n4       8.676000  0.018   2.329  \n...          ...    ...     ...  \n250751  9.000000  0.000   0.063  \n250752  9.000000  0.000   0.022  \n250753  9.000000  0.000   0.063  \n250754  8.982000  0.001   0.170  \n250755  8.946000  0.003   0.365  \n\n[250756 rows x 10 columns]",
      "text/html": "<div>\n<style scoped>\n    .dataframe tbody tr th:only-of-type {\n        vertical-align: middle;\n    }\n\n    .dataframe tbody tr th {\n        vertical-align: top;\n    }\n\n    .dataframe thead th {\n        text-align: right;\n    }\n</style>\n<table border=\"1\" class=\"dataframe\">\n  <thead>\n    <tr style=\"text-align: right;\">\n      <th></th>\n      <th>tag</th>\n      <th>protd_id</th>\n      <th>position</th>\n      <th>ligand</th>\n      <th>target</th>\n      <th>prediction</th>\n      <th>cutoff</th>\n      <th>ri</th>\n      <th>prob</th>\n      <th>loss</th>\n    </tr>\n  </thead>\n  <tbody>\n    <tr>\n      <th>0</th>\n      <td>test</td>\n      <td>P02281</td>\n      <td>0</td>\n      <td>metal</td>\n      <td>0.0</td>\n      <td>0</td>\n      <td>0.5</td>\n      <td>6.138001</td>\n      <td>0.159</td>\n      <td>22.311</td>\n    </tr>\n    <tr>\n      <th>1</th>\n      <td>test</td>\n      <td>P02281</td>\n      <td>1</td>\n      <td>metal</td>\n      <td>0.0</td>\n      <td>0</td>\n      <td>0.5</td>\n      <td>6.066000</td>\n      <td>0.163</td>\n      <td>23.056</td>\n    </tr>\n    <tr>\n      <th>2</th>\n      <td>test</td>\n      <td>P02281</td>\n      <td>2</td>\n      <td>metal</td>\n      <td>0.0</td>\n      <td>0</td>\n      <td>0.5</td>\n      <td>6.318000</td>\n      <td>0.149</td>\n      <td>20.776</td>\n    </tr>\n    <tr>\n      <th>3</th>\n      <td>test</td>\n      <td>P02281</td>\n      <td>3</td>\n      <td>metal</td>\n      <td>0.0</td>\n      <td>0</td>\n      <td>0.5</td>\n      <td>8.604000</td>\n      <td>0.022</td>\n      <td>2.780</td>\n    </tr>\n    <tr>\n      <th>4</th>\n      <td>test</td>\n      <td>P02281</td>\n      <td>4</td>\n      <td>metal</td>\n      <td>0.0</td>\n      <td>0</td>\n      <td>0.5</td>\n      <td>8.676000</td>\n      <td>0.018</td>\n      <td>2.329</td>\n    </tr>\n    <tr>\n      <th>...</th>\n      <td>...</td>\n      <td>...</td>\n      <td>...</td>\n      <td>...</td>\n      <td>...</td>\n      <td>...</td>\n      <td>...</td>\n      <td>...</td>\n      <td>...</td>\n      <td>...</td>\n    </tr>\n    <tr>\n      <th>250751</th>\n      <td>test</td>\n      <td>P40347</td>\n      <td>156</td>\n      <td>binding</td>\n      <td>0.0</td>\n      <td>0</td>\n      <td>0.5</td>\n      <td>9.000000</td>\n      <td>0.000</td>\n      <td>0.063</td>\n    </tr>\n    <tr>\n      <th>250752</th>\n      <td>test</td>\n      <td>P40347</td>\n      <td>157</td>\n      <td>binding</td>\n      <td>0.0</td>\n      <td>0</td>\n      <td>0.5</td>\n      <td>9.000000</td>\n      <td>0.000</td>\n      <td>0.022</td>\n    </tr>\n    <tr>\n      <th>250753</th>\n      <td>test</td>\n      <td>P40347</td>\n      <td>158</td>\n      <td>binding</td>\n      <td>0.0</td>\n      <td>0</td>\n      <td>0.5</td>\n      <td>9.000000</td>\n      <td>0.000</td>\n      <td>0.063</td>\n    </tr>\n    <tr>\n      <th>250754</th>\n      <td>test</td>\n      <td>P40347</td>\n      <td>159</td>\n      <td>binding</td>\n      <td>0.0</td>\n      <td>0</td>\n      <td>0.5</td>\n      <td>8.982000</td>\n      <td>0.001</td>\n      <td>0.170</td>\n    </tr>\n    <tr>\n      <th>250755</th>\n      <td>test</td>\n      <td>P40347</td>\n      <td>160</td>\n      <td>binding</td>\n      <td>0.0</td>\n      <td>0</td>\n      <td>0.5</td>\n      <td>8.946000</td>\n      <td>0.003</td>\n      <td>0.365</td>\n    </tr>\n  </tbody>\n</table>\n<p>250756 rows × 10 columns</p>\n</div>"
     },
     "execution_count": 47,
     "metadata": {},
     "output_type": "execute_result"
    }
   ],
   "source": [
    "df"
   ],
   "metadata": {
    "collapsed": false,
    "pycharm": {
     "name": "#%%\n"
    }
   }
  },
  {
   "cell_type": "code",
   "execution_count": null,
   "outputs": [],
   "source": [],
   "metadata": {
    "collapsed": false,
    "pycharm": {
     "name": "#%%\n"
    }
   }
  }
 ],
 "metadata": {
  "kernelspec": {
   "display_name": "Python 3",
   "language": "python",
   "name": "python3"
  },
  "language_info": {
   "codemirror_mode": {
    "name": "ipython",
    "version": 2
   },
   "file_extension": ".py",
   "mimetype": "text/x-python",
   "name": "python",
   "nbconvert_exporter": "python",
   "pygments_lexer": "ipython2",
   "version": "2.7.6"
  }
 },
 "nbformat": 4,
 "nbformat_minor": 0
}