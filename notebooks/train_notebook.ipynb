{
 "cells": [
  {
   "cell_type": "code",
   "execution_count": 11,
   "metadata": {
    "collapsed": true,
    "pycharm": {
     "name": "#%%\n"
    }
   },
   "outputs": [
    {
     "name": "stdout",
     "output_type": "stream",
     "text": [
      "The autoreload extension is already loaded. To reload it, use:\n",
      "  %reload_ext autoreload\n"
     ]
    }
   ],
   "source": [
    "\n",
    "import sys\n",
    "\n",
    "sys.path.insert(0, '/home/george/Projects/Python/bind-af2-embed/src')\n",
    "\n",
    "# Import dependencies\n",
    "%load_ext autoreload\n",
    "%autoreload 2\n",
    "\n",
    "import pandas as pd\n",
    "from config import AppConfig\n",
    "from plots import Plots"
   ]
  },
  {
   "cell_type": "markdown",
   "source": [
    "### Read predictions files"
   ],
   "metadata": {
    "collapsed": false,
    "pycharm": {
     "name": "#%% md\n"
    }
   }
  },
  {
   "cell_type": "code",
   "execution_count": 42,
   "outputs": [],
   "source": [
    "tag = '202207041511_CNN1D_EMBEDDINGS'\n",
    "\n",
    "config = AppConfig()\n",
    "predictions_path = config.get_ml_predictions_path()\n",
    "predictions_path = predictions_path / tag / 'test_norm.csv'\n",
    "df = pd.read_csv(str(predictions_path))"
   ],
   "metadata": {
    "collapsed": false,
    "pycharm": {
     "name": "#%%\n"
    }
   }
  },
  {
   "cell_type": "code",
   "execution_count": 43,
   "outputs": [],
   "source": [
    "counts = df[['target', 'prediction']].value_counts()\n",
    "tp = counts.loc[(1,1)] / sum(counts)\n",
    "fp = counts.loc[(0,1)] / sum(counts)\n",
    "tn = counts.loc[(0,0)] / sum(counts)\n",
    "fn = counts.loc[(1,0)] / sum(counts)"
   ],
   "metadata": {
    "collapsed": false,
    "pycharm": {
     "name": "#%%\n"
    }
   }
  },
  {
   "cell_type": "code",
   "execution_count": 44,
   "outputs": [
    {
     "data": {
      "text/plain": "         tag protd_id  position   ligand  target  prediction  cutoff  \\\n99      test   P02281        99    metal     1.0           0     0.5   \n100     test   P02281       100    metal     1.0           0     0.5   \n102     test   P02281       102    metal     1.0           0     0.5   \n105     test   P02281       105    metal     1.0           0     0.5   \n108     test   P02281       108    metal     1.0           0     0.5   \n...      ...      ...       ...      ...     ...         ...     ...   \n250647  test   P40347        52  binding     1.0           1     0.5   \n250692  test   P40347        97  binding     1.0           1     0.5   \n250695  test   P40347       100  binding     1.0           0     0.5   \n250727  test   P40347       132  binding     1.0           1     0.5   \n250729  test   P40347       134  binding     1.0           0     0.5   \n\n              ri   prob      loss  \n99      7.488000  0.084  2729.514  \n100     8.082000  0.051  3387.816  \n102     8.190000  0.045  3552.204  \n105     2.214000  0.377  1602.228  \n108     8.784000  0.012  4361.887  \n...          ...    ...       ...  \n250647  8.028000  0.946    10.029  \n250692  7.308001  0.906    18.225  \n250695  6.858000  0.119   415.518  \n250727  0.954000  0.553   115.693  \n250729  2.106000  0.383   176.582  \n\n[12126 rows x 10 columns]",
      "text/html": "<div>\n<style scoped>\n    .dataframe tbody tr th:only-of-type {\n        vertical-align: middle;\n    }\n\n    .dataframe tbody tr th {\n        vertical-align: top;\n    }\n\n    .dataframe thead th {\n        text-align: right;\n    }\n</style>\n<table border=\"1\" class=\"dataframe\">\n  <thead>\n    <tr style=\"text-align: right;\">\n      <th></th>\n      <th>tag</th>\n      <th>protd_id</th>\n      <th>position</th>\n      <th>ligand</th>\n      <th>target</th>\n      <th>prediction</th>\n      <th>cutoff</th>\n      <th>ri</th>\n      <th>prob</th>\n      <th>loss</th>\n    </tr>\n  </thead>\n  <tbody>\n    <tr>\n      <th>99</th>\n      <td>test</td>\n      <td>P02281</td>\n      <td>99</td>\n      <td>metal</td>\n      <td>1.0</td>\n      <td>0</td>\n      <td>0.5</td>\n      <td>7.488000</td>\n      <td>0.084</td>\n      <td>2729.514</td>\n    </tr>\n    <tr>\n      <th>100</th>\n      <td>test</td>\n      <td>P02281</td>\n      <td>100</td>\n      <td>metal</td>\n      <td>1.0</td>\n      <td>0</td>\n      <td>0.5</td>\n      <td>8.082000</td>\n      <td>0.051</td>\n      <td>3387.816</td>\n    </tr>\n    <tr>\n      <th>102</th>\n      <td>test</td>\n      <td>P02281</td>\n      <td>102</td>\n      <td>metal</td>\n      <td>1.0</td>\n      <td>0</td>\n      <td>0.5</td>\n      <td>8.190000</td>\n      <td>0.045</td>\n      <td>3552.204</td>\n    </tr>\n    <tr>\n      <th>105</th>\n      <td>test</td>\n      <td>P02281</td>\n      <td>105</td>\n      <td>metal</td>\n      <td>1.0</td>\n      <td>0</td>\n      <td>0.5</td>\n      <td>2.214000</td>\n      <td>0.377</td>\n      <td>1602.228</td>\n    </tr>\n    <tr>\n      <th>108</th>\n      <td>test</td>\n      <td>P02281</td>\n      <td>108</td>\n      <td>metal</td>\n      <td>1.0</td>\n      <td>0</td>\n      <td>0.5</td>\n      <td>8.784000</td>\n      <td>0.012</td>\n      <td>4361.887</td>\n    </tr>\n    <tr>\n      <th>...</th>\n      <td>...</td>\n      <td>...</td>\n      <td>...</td>\n      <td>...</td>\n      <td>...</td>\n      <td>...</td>\n      <td>...</td>\n      <td>...</td>\n      <td>...</td>\n      <td>...</td>\n    </tr>\n    <tr>\n      <th>250647</th>\n      <td>test</td>\n      <td>P40347</td>\n      <td>52</td>\n      <td>binding</td>\n      <td>1.0</td>\n      <td>1</td>\n      <td>0.5</td>\n      <td>8.028000</td>\n      <td>0.946</td>\n      <td>10.029</td>\n    </tr>\n    <tr>\n      <th>250692</th>\n      <td>test</td>\n      <td>P40347</td>\n      <td>97</td>\n      <td>binding</td>\n      <td>1.0</td>\n      <td>1</td>\n      <td>0.5</td>\n      <td>7.308001</td>\n      <td>0.906</td>\n      <td>18.225</td>\n    </tr>\n    <tr>\n      <th>250695</th>\n      <td>test</td>\n      <td>P40347</td>\n      <td>100</td>\n      <td>binding</td>\n      <td>1.0</td>\n      <td>0</td>\n      <td>0.5</td>\n      <td>6.858000</td>\n      <td>0.119</td>\n      <td>415.518</td>\n    </tr>\n    <tr>\n      <th>250727</th>\n      <td>test</td>\n      <td>P40347</td>\n      <td>132</td>\n      <td>binding</td>\n      <td>1.0</td>\n      <td>1</td>\n      <td>0.5</td>\n      <td>0.954000</td>\n      <td>0.553</td>\n      <td>115.693</td>\n    </tr>\n    <tr>\n      <th>250729</th>\n      <td>test</td>\n      <td>P40347</td>\n      <td>134</td>\n      <td>binding</td>\n      <td>1.0</td>\n      <td>0</td>\n      <td>0.5</td>\n      <td>2.106000</td>\n      <td>0.383</td>\n      <td>176.582</td>\n    </tr>\n  </tbody>\n</table>\n<p>12126 rows × 10 columns</p>\n</div>"
     },
     "execution_count": 44,
     "metadata": {},
     "output_type": "execute_result"
    }
   ],
   "source": [
    "df[df.target == 1]"
   ],
   "metadata": {
    "collapsed": false,
    "pycharm": {
     "name": "#%%\n"
    }
   }
  },
  {
   "cell_type": "code",
   "execution_count": 45,
   "outputs": [
    {
     "data": {
      "text/plain": "136.207361801911"
     },
     "execution_count": 45,
     "metadata": {},
     "output_type": "execute_result"
    }
   ],
   "source": [
    "df.loss.mean()"
   ],
   "metadata": {
    "collapsed": false,
    "pycharm": {
     "name": "#%%\n"
    }
   }
  },
  {
   "cell_type": "code",
   "execution_count": null,
   "outputs": [],
   "source": [],
   "metadata": {
    "collapsed": false,
    "pycharm": {
     "name": "#%%\n"
    }
   }
  }
 ],
 "metadata": {
  "kernelspec": {
   "display_name": "Python 3",
   "language": "python",
   "name": "python3"
  },
  "language_info": {
   "codemirror_mode": {
    "name": "ipython",
    "version": 2
   },
   "file_extension": ".py",
   "mimetype": "text/x-python",
   "name": "python",
   "nbconvert_exporter": "python",
   "pygments_lexer": "ipython2",
   "version": "2.7.6"
  }
 },
 "nbformat": 4,
 "nbformat_minor": 0
}