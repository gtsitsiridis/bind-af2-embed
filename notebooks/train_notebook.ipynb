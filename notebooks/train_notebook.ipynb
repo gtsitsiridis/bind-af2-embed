{
 "cells": [
  {
   "cell_type": "markdown",
   "metadata": {
    "pycharm": {
     "name": "#%% md\n"
    }
   },
   "source": [
    "# Compare models\n",
    "\n"
   ]
  },
  {
   "cell_type": "markdown",
   "metadata": {},
   "source": [
    "## Questions\n",
    "- How do I get the best F1 for binding? binding_1 vs binding_2, train just binding vs all ligands\n",
    "- Does pLDDT affect performance?\n",
    "- Plot RI against performance"
   ]
  },
  {
   "cell_type": "code",
   "execution_count": 185,
   "metadata": {
    "pycharm": {
     "name": "#%%\n"
    },
    "scrolled": false
   },
   "outputs": [
    {
     "name": "stdout",
     "output_type": "stream",
     "text": [
      "The autoreload extension is already loaded. To reload it, use:\n",
      "  %reload_ext autoreload\n"
     ]
    }
   ],
   "source": [
    "# Import bind-af2-embed\n",
    "import sys\n",
    "\n",
    "sys.path.insert(0, '/home/george/Projects/Python/bind-af2-embed/src')\n",
    "sys.path.insert(0, '/Users/tsitsiridis/Projects/bind-af2-embed/src')\n",
    "\n",
    "\n",
    "# Import dependencies\n",
    "%load_ext autoreload\n",
    "%autoreload 2\n",
    "\n",
    "import pandas as pd\n",
    "from config import AppConfig\n",
    "from plots import Plots\n",
    "from ml.common import Performance\n",
    "import numpy as np\n",
    "import math\n",
    "from scipy.stats import t\n",
    "import matplotlib.pyplot as plt\n",
    "from sklearn.metrics import confusion_matrix, roc_curve, auc\n",
    "from pathlib import Path\n",
    "from IPython.display import display, HTML\n",
    "\n",
    "# analysis path\n",
    "analysis_path = Path('../data/output/analysis')"
   ]
  },
  {
   "cell_type": "markdown",
   "metadata": {},
   "source": [
    "## Intro\n",
    "\n",
    "In this notebook I want to compare the various models I run. I categorized my models according to input and classification task. \n",
    "There are 3 different input types:\n",
    "\n",
    "- Only *Embeddings*\n",
    "- Only *Distance maps*\n",
    "- *Distance maps* and *embeddings*\n",
    "\n",
    "There are 2 different classification tasks.\n",
    "\n",
    "- *Ligand class* prediction: Each residue can belong to multiple classes (multi-class classification).\n",
    "    - residues binding to metal ions\n",
    "    - nucleic acids (DNA and RNA)\n",
    "    - regular small molecules.\n",
    "- *Binary prediction*: Each residue is classified as either binding or not (binary classification.\n",
    "\n"
   ]
  },
  {
   "cell_type": "code",
   "execution_count": 183,
   "metadata": {
    "pycharm": {
     "name": "#%%\n"
    },
    "scrolled": false
   },
   "outputs": [
    {
     "name": "stdout",
     "output_type": "stream",
     "text": [
      "                               run              model train_mode  data_type  \\\n",
      "0          202207120223_combinedv1         combinedv1     ligand   combined   \n",
      "1        202207121401_combinedv2_1       combinedv2_1     ligand   combined   \n",
      "2        202207121144_combinedv2_2       combinedv2_2     ligand   combined   \n",
      "3   202207121728_combinedv2_2_bind  combinedv2_2_bind    binding   combined   \n",
      "4           202207120217_distmapv1          distmapv1     ligand    distmap   \n",
      "5           202207120138_distmapv2          distmapv2     ligand    distmap   \n",
      "6      202207121620_distmapv2_bind     distmapv2_bind    binding    distmap   \n",
      "7           202207121113_embedding          embedding     ligand  embedding   \n",
      "8           202207131333_embedding          embedding     ligand  embedding   \n",
      "9           202207131414_embedding          embedding     ligand  embedding   \n",
      "10     202207122348_embedding_bind     embedding_bind    binding  embedding   \n",
      "\n",
      "    pLDDT_filter  prot_length_filter  \n",
      "0             70                 540  \n",
      "1             70                 540  \n",
      "2             70                 540  \n",
      "3             70                 540  \n",
      "4             70                 540  \n",
      "5             70                 540  \n",
      "6             70                 540  \n",
      "7             70                 540  \n",
      "8             70                 811  \n",
      "9              0                 811  \n",
      "10            70                 540  \n"
     ]
    }
   ],
   "source": [
    "runs_df = pd.read_csv(analysis_path / 'runs.csv')\n",
    "print(runs_df)\n",
    "\n",
    "ligands=['metal', 'small', 'nuclear']"
   ]
  },
  {
   "cell_type": "markdown",
   "metadata": {
    "pycharm": {
     "name": "#%% md\n"
    }
   },
   "source": [
    "### Read predictions files"
   ]
  },
  {
   "cell_type": "code",
   "execution_count": 377,
   "metadata": {
    "pycharm": {
     "name": "#%%\n"
    },
    "scrolled": false
   },
   "outputs": [],
   "source": [
    "def read_predictions_df(run: str, model: str, cutoff: float = 0.5, test: bool = False) -> Performance:\n",
    "    eval_type = 'validation'\n",
    "    if test:\n",
    "        eval_type='test'\n",
    "    \n",
    "    predictions_path = Path('../data/output/ml/predictions')\n",
    "    predictions_path = predictions_path / model / run / f'{eval_type}_total.csv'\n",
    "    df = pd.read_csv(str(predictions_path))\n",
    "    return df\n",
    "\n",
    "def read_performance_df(run: str, model: str, test: bool = False) -> pd.DataFrame:\n",
    "    eval_type = 'validation'\n",
    "    if test:\n",
    "        eval_type='test'\n",
    "    config = AppConfig()\n",
    "    perf_path = Path('../data/output/ml/models')\n",
    "    perf_path = perf_path / model / run / f'model_{eval_type}_perf.csv'\n",
    "    df = pd.read_csv(str(perf_path))\n",
    "    return df\n",
    "\n",
    "def pretty_mean_ci(mean, ci):\n",
    "    return f'%0.1f ± %0.1f%%' % (mean * 100, ci * 100)\n",
    "\n",
    "def pretty_performance(df, columns):\n",
    "    df = df.sort_values(by=columns, ascending=False)\n",
    "\n",
    "    def _pretty(x, columns):\n",
    "        res = {}\n",
    "        for column in columns:\n",
    "            res[column] = pretty_mean_ci(x[column], x[column + \"_ci\"])\n",
    "        return pd.Series(res)\n",
    "    \n",
    "    return df.apply(lambda x: _pretty(x, columns), axis=1)\n",
    "\n",
    "def plot_single_performance(df, column, ax):\n",
    "    means = df[column].to_list()\n",
    "    cis = df[column + \"_ci\"].to_list()\n",
    "    models = df.index.to_list()\n",
    "\n",
    "    for idx, model in enumerate(models):\n",
    "        ax.bar(idx, means[idx], yerr=cis[idx], align='center', alpha=0.5, ecolor='black', capsize=10, label=model)\n",
    "    ax.yaxis.grid(True)\n",
    "    ax.set_ylim([0, 1])    \n",
    "    ax.legend()\n",
    "    \n",
    "def plot_multimodel_performance(df, columns, ax):\n",
    "    pretty_columns = {\n",
    "        'f1': 'F1',\n",
    "        'mcc': 'MCC',\n",
    "        'prec': 'Precission',\n",
    "        'rec': 'Recall',\n",
    "        'acc': 'Accuracy'\n",
    "    }\n",
    "    \n",
    "    n=df.shape[0]\n",
    "    if n < 3:\n",
    "        barWidth = 0.3\n",
    "    elif n == 3:\n",
    "        barWidth = 0.25\n",
    "    elif n == 4:\n",
    "        barWidth = 0.20\n",
    "    elif n > 4:\n",
    "        barWidth = 0.1\n",
    "    \n",
    "    model_names = df.index\n",
    "    model_means = [df[columns].iloc[i].to_list() for i in range(n)]\n",
    "    model_cis = [df[list(map(lambda x: x + '_ci', columns))].iloc[i].to_list() for i in range(n)] \n",
    "    columns = [c.split('_')[0] for c in columns]\n",
    "    columns = [pretty_columns.get(c, c) for c in columns]\n",
    "\n",
    "    # Set position of bar on X axis\n",
    "    # set width of bars\n",
    "    r = [np.arange(len(columns))]\n",
    "    for i in range(n - 1):\n",
    "        r.append([x + barWidth for x in r[-1]])\n",
    "\n",
    "    for i in range(n):\n",
    "        ax.bar(r[i], model_means[i], yerr=model_cis[i], \n",
    "               width=barWidth, edgecolor='white', label=model_names[i])\n",
    "    plt.xticks([i + barWidth for i in range(len(columns))], columns)\n",
    "    ax.yaxis.grid(True)\n",
    "    ax.set_ylim([0, 1]) \n",
    "    ax.legend()"
   ]
  },
  {
   "cell_type": "code",
   "execution_count": 387,
   "metadata": {
    "scrolled": false
   },
   "outputs": [],
   "source": [
    "# performance per run\n",
    "def get_total(x, test = False):\n",
    "    df = read_performance_df(run=x.run, model=x.model, test=test)\n",
    "    total = df[df.tag == 'model_total'].iloc[0]\n",
    "    total = pd.concat([total, x])\n",
    "    return total\n",
    "    \n",
    "performance_df = runs_df.apply(lambda x: get_total(x), axis =1)\n",
    "performance_df.set_index('run', inplace=True)\n"
   ]
  },
  {
   "cell_type": "markdown",
   "metadata": {},
   "source": [
    "## Does the filtering affect the performance of the embeddings?"
   ]
  },
  {
   "cell_type": "code",
   "execution_count": 144,
   "metadata": {
    "scrolled": false
   },
   "outputs": [
    {
     "data": {
      "text/html": [
       "<div>\n",
       "<style scoped>\n",
       "    .dataframe tbody tr th:only-of-type {\n",
       "        vertical-align: middle;\n",
       "    }\n",
       "\n",
       "    .dataframe tbody tr th {\n",
       "        vertical-align: top;\n",
       "    }\n",
       "\n",
       "    .dataframe thead th {\n",
       "        text-align: right;\n",
       "    }\n",
       "</style>\n",
       "<table border=\"1\" class=\"dataframe\">\n",
       "  <thead>\n",
       "    <tr style=\"text-align: right;\">\n",
       "      <th></th>\n",
       "      <th></th>\n",
       "      <th></th>\n",
       "      <th>f1_total</th>\n",
       "      <th>acc_total</th>\n",
       "      <th>prec_total</th>\n",
       "      <th>rec_total</th>\n",
       "    </tr>\n",
       "    <tr>\n",
       "      <th>run</th>\n",
       "      <th>pLDDT_filter</th>\n",
       "      <th>prot_length_filter</th>\n",
       "      <th></th>\n",
       "      <th></th>\n",
       "      <th></th>\n",
       "      <th></th>\n",
       "    </tr>\n",
       "  </thead>\n",
       "  <tbody>\n",
       "    <tr>\n",
       "      <th>202207131414_embedding</th>\n",
       "      <th>0</th>\n",
       "      <th>811</th>\n",
       "      <td>30.1 ± 1.6%</td>\n",
       "      <td>95.3 ± 0.2%</td>\n",
       "      <td>42.4 ± 2.1%</td>\n",
       "      <td>29.0 ± 1.8%</td>\n",
       "    </tr>\n",
       "    <tr>\n",
       "      <th>202207121113_embedding</th>\n",
       "      <th>70</th>\n",
       "      <th>540</th>\n",
       "      <td>30.0 ± 1.6%</td>\n",
       "      <td>95.3 ± 0.2%</td>\n",
       "      <td>42.7 ± 2.1%</td>\n",
       "      <td>28.9 ± 1.8%</td>\n",
       "    </tr>\n",
       "    <tr>\n",
       "      <th>202207131333_embedding</th>\n",
       "      <th>70</th>\n",
       "      <th>811</th>\n",
       "      <td>29.3 ± 1.6%</td>\n",
       "      <td>95.3 ± 0.3%</td>\n",
       "      <td>41.8 ± 2.1%</td>\n",
       "      <td>28.4 ± 1.8%</td>\n",
       "    </tr>\n",
       "  </tbody>\n",
       "</table>\n",
       "</div>"
      ],
      "text/plain": [
       "                                                           f1_total  \\\n",
       "run                    pLDDT_filter prot_length_filter                \n",
       "202207131414_embedding 0            811                 30.1 ± 1.6%   \n",
       "202207121113_embedding 70           540                 30.0 ± 1.6%   \n",
       "202207131333_embedding 70           811                 29.3 ± 1.6%   \n",
       "\n",
       "                                                          acc_total  \\\n",
       "run                    pLDDT_filter prot_length_filter                \n",
       "202207131414_embedding 0            811                 95.3 ± 0.2%   \n",
       "202207121113_embedding 70           540                 95.3 ± 0.2%   \n",
       "202207131333_embedding 70           811                 95.3 ± 0.3%   \n",
       "\n",
       "                                                         prec_total  \\\n",
       "run                    pLDDT_filter prot_length_filter                \n",
       "202207131414_embedding 0            811                 42.4 ± 2.1%   \n",
       "202207121113_embedding 70           540                 42.7 ± 2.1%   \n",
       "202207131333_embedding 70           811                 41.8 ± 2.1%   \n",
       "\n",
       "                                                          rec_total  \n",
       "run                    pLDDT_filter prot_length_filter               \n",
       "202207131414_embedding 0            811                 29.0 ± 1.8%  \n",
       "202207121113_embedding 70           540                 28.9 ± 1.8%  \n",
       "202207131333_embedding 70           811                 28.4 ± 1.8%  "
      ]
     },
     "execution_count": 144,
     "metadata": {},
     "output_type": "execute_result"
    }
   ],
   "source": [
    "df = performance_df[performance_df.model == 'embedding']\n",
    "df = df.reset_index().set_index(['run', 'pLDDT_filter', 'prot_length_filter'])\n",
    "pretty_performance(df, ['f1_total', 'acc_total', 'prec_total', 'rec_total'])"
   ]
  },
  {
   "cell_type": "markdown",
   "metadata": {},
   "source": [
    "### There seems to be no significant difference after the filtering. For the rest of the analysis I will only use runs that are filtered."
   ]
  },
  {
   "cell_type": "code",
   "execution_count": 177,
   "metadata": {
    "scrolled": false
   },
   "outputs": [
    {
     "data": {
      "text/html": [
       "<div>\n",
       "<style scoped>\n",
       "    .dataframe tbody tr th:only-of-type {\n",
       "        vertical-align: middle;\n",
       "    }\n",
       "\n",
       "    .dataframe tbody tr th {\n",
       "        vertical-align: top;\n",
       "    }\n",
       "\n",
       "    .dataframe thead th {\n",
       "        text-align: right;\n",
       "    }\n",
       "</style>\n",
       "<table border=\"1\" class=\"dataframe\">\n",
       "  <thead>\n",
       "    <tr style=\"text-align: right;\">\n",
       "      <th></th>\n",
       "      <th>run</th>\n",
       "      <th>model</th>\n",
       "      <th>train_mode</th>\n",
       "      <th>data_type</th>\n",
       "      <th>pLDDT_filter</th>\n",
       "      <th>prot_length_filter</th>\n",
       "    </tr>\n",
       "  </thead>\n",
       "  <tbody>\n",
       "    <tr>\n",
       "      <th>0</th>\n",
       "      <td>202207120223_combinedv1</td>\n",
       "      <td>combinedv1</td>\n",
       "      <td>ligand</td>\n",
       "      <td>combined</td>\n",
       "      <td>70</td>\n",
       "      <td>540</td>\n",
       "    </tr>\n",
       "    <tr>\n",
       "      <th>1</th>\n",
       "      <td>202207121401_combinedv2_1</td>\n",
       "      <td>combinedv2_1</td>\n",
       "      <td>ligand</td>\n",
       "      <td>combined</td>\n",
       "      <td>70</td>\n",
       "      <td>540</td>\n",
       "    </tr>\n",
       "    <tr>\n",
       "      <th>2</th>\n",
       "      <td>202207121144_combinedv2_2</td>\n",
       "      <td>combinedv2_2</td>\n",
       "      <td>ligand</td>\n",
       "      <td>combined</td>\n",
       "      <td>70</td>\n",
       "      <td>540</td>\n",
       "    </tr>\n",
       "    <tr>\n",
       "      <th>3</th>\n",
       "      <td>202207121728_combinedv2_2_bind</td>\n",
       "      <td>combinedv2_2_bind</td>\n",
       "      <td>binding</td>\n",
       "      <td>combined</td>\n",
       "      <td>70</td>\n",
       "      <td>540</td>\n",
       "    </tr>\n",
       "    <tr>\n",
       "      <th>4</th>\n",
       "      <td>202207120217_distmapv1</td>\n",
       "      <td>distmapv1</td>\n",
       "      <td>ligand</td>\n",
       "      <td>distmap</td>\n",
       "      <td>70</td>\n",
       "      <td>540</td>\n",
       "    </tr>\n",
       "    <tr>\n",
       "      <th>5</th>\n",
       "      <td>202207120138_distmapv2</td>\n",
       "      <td>distmapv2</td>\n",
       "      <td>ligand</td>\n",
       "      <td>distmap</td>\n",
       "      <td>70</td>\n",
       "      <td>540</td>\n",
       "    </tr>\n",
       "    <tr>\n",
       "      <th>6</th>\n",
       "      <td>202207121620_distmapv2_bind</td>\n",
       "      <td>distmapv2_bind</td>\n",
       "      <td>binding</td>\n",
       "      <td>distmap</td>\n",
       "      <td>70</td>\n",
       "      <td>540</td>\n",
       "    </tr>\n",
       "    <tr>\n",
       "      <th>7</th>\n",
       "      <td>202207121113_embedding</td>\n",
       "      <td>embedding</td>\n",
       "      <td>ligand</td>\n",
       "      <td>embedding</td>\n",
       "      <td>70</td>\n",
       "      <td>540</td>\n",
       "    </tr>\n",
       "    <tr>\n",
       "      <th>10</th>\n",
       "      <td>202207122348_embedding_bind</td>\n",
       "      <td>embedding_bind</td>\n",
       "      <td>binding</td>\n",
       "      <td>embedding</td>\n",
       "      <td>70</td>\n",
       "      <td>540</td>\n",
       "    </tr>\n",
       "  </tbody>\n",
       "</table>\n",
       "</div>"
      ],
      "text/plain": [
       "                               run              model train_mode  data_type  \\\n",
       "0          202207120223_combinedv1         combinedv1     ligand   combined   \n",
       "1        202207121401_combinedv2_1       combinedv2_1     ligand   combined   \n",
       "2        202207121144_combinedv2_2       combinedv2_2     ligand   combined   \n",
       "3   202207121728_combinedv2_2_bind  combinedv2_2_bind    binding   combined   \n",
       "4           202207120217_distmapv1          distmapv1     ligand    distmap   \n",
       "5           202207120138_distmapv2          distmapv2     ligand    distmap   \n",
       "6      202207121620_distmapv2_bind     distmapv2_bind    binding    distmap   \n",
       "7           202207121113_embedding          embedding     ligand  embedding   \n",
       "10     202207122348_embedding_bind     embedding_bind    binding  embedding   \n",
       "\n",
       "    pLDDT_filter  prot_length_filter  \n",
       "0             70                 540  \n",
       "1             70                 540  \n",
       "2             70                 540  \n",
       "3             70                 540  \n",
       "4             70                 540  \n",
       "5             70                 540  \n",
       "6             70                 540  \n",
       "7             70                 540  \n",
       "10            70                 540  "
      ]
     },
     "execution_count": 177,
     "metadata": {},
     "output_type": "execute_result"
    }
   ],
   "source": [
    "runs_df = runs_df[(runs_df.pLDDT_filter == 70) & (runs_df.prot_length_filter== 540)]\n",
    "performance_df = performance_df[(performance_df.pLDDT_filter == 70) & (performance_df.prot_length_filter== 540)]\n",
    "performance_df.set_index('model', inplace=True)\n",
    "runs_df"
   ]
  },
  {
   "cell_type": "markdown",
   "metadata": {},
   "source": [
    "## Compare models that use distance maps"
   ]
  },
  {
   "cell_type": "markdown",
   "metadata": {},
   "source": [
    "Before testing a model that combines both the distance maps and the embeddings, I wanted to see if I can train a model using just the distance maps an input. I used two different CNN models, distmapv1 and distmapv2. V2 is 1 layer deeper than V1."
   ]
  },
  {
   "cell_type": "markdown",
   "metadata": {},
   "source": [
    "### Ligand class prediction"
   ]
  },
  {
   "cell_type": "code",
   "execution_count": 237,
   "metadata": {},
   "outputs": [
    {
     "name": "stdout",
     "output_type": "stream",
     "text": [
      "Total results\n"
     ]
    },
    {
     "data": {
      "text/html": [
       "<div>\n",
       "<style scoped>\n",
       "    .dataframe tbody tr th:only-of-type {\n",
       "        vertical-align: middle;\n",
       "    }\n",
       "\n",
       "    .dataframe tbody tr th {\n",
       "        vertical-align: top;\n",
       "    }\n",
       "\n",
       "    .dataframe thead th {\n",
       "        text-align: right;\n",
       "    }\n",
       "</style>\n",
       "<table border=\"1\" class=\"dataframe\">\n",
       "  <thead>\n",
       "    <tr style=\"text-align: right;\">\n",
       "      <th></th>\n",
       "      <th>f1_total</th>\n",
       "      <th>acc_total</th>\n",
       "      <th>prec_total</th>\n",
       "      <th>rec_total</th>\n",
       "    </tr>\n",
       "    <tr>\n",
       "      <th>model</th>\n",
       "      <th></th>\n",
       "      <th></th>\n",
       "      <th></th>\n",
       "      <th></th>\n",
       "    </tr>\n",
       "  </thead>\n",
       "  <tbody>\n",
       "    <tr>\n",
       "      <th>distmapv1</th>\n",
       "      <td>0.1 ± 0.1%</td>\n",
       "      <td>94.8 ± 0.5%</td>\n",
       "      <td>0.1 ± 0.2%</td>\n",
       "      <td>0.1 ± 0.1%</td>\n",
       "    </tr>\n",
       "    <tr>\n",
       "      <th>distmapv2</th>\n",
       "      <td>0.0 ± 0.0%</td>\n",
       "      <td>94.8 ± 0.5%</td>\n",
       "      <td>0.0 ± 0.0%</td>\n",
       "      <td>0.0 ± 0.0%</td>\n",
       "    </tr>\n",
       "  </tbody>\n",
       "</table>\n",
       "</div>"
      ],
      "text/plain": [
       "             f1_total    acc_total  prec_total   rec_total\n",
       "model                                                     \n",
       "distmapv1  0.1 ± 0.1%  94.8 ± 0.5%  0.1 ± 0.2%  0.1 ± 0.1%\n",
       "distmapv2  0.0 ± 0.0%  94.8 ± 0.5%  0.0 ± 0.0%  0.0 ± 0.0%"
      ]
     },
     "metadata": {},
     "output_type": "display_data"
    },
    {
     "name": "stderr",
     "output_type": "stream",
     "text": [
      "/tmp/ipykernel_400191/1150877938.py:7: UserWarning: Matplotlib is currently using module://matplotlib_inline.backend_inline, which is a non-GUI backend, so cannot show the figure.\n",
      "  fig.show()\n"
     ]
    },
    {
     "data": {
      "image/png": "[encoded data removed]",
      "text/plain": [
       "<Figure size 432x288 with 1 Axes>"
      ]
     },
     "metadata": {
      "needs_background": "light"
     },
     "output_type": "display_data"
    }
   ],
   "source": [
    "print(\"Total results\")\n",
    "df = performance_df[(performance_df.data_type == 'distmap') & (performance_df.train_mode == 'ligand')]\n",
    "display(pretty_performance(df, ['f1_total', 'acc_total', 'prec_total', 'rec_total']))\n",
    "fig, ax = plt.subplots()\n",
    "ax.set_title(\"F1 score - All predictions\")\n",
    "plot_single_performance(df, 'f1_total', ax)\n",
    "fig.show()"
   ]
  },
  {
   "cell_type": "markdown",
   "metadata": {},
   "source": [
    "The distance maps alone do not contain enough information to deduce the ligand type using a CNN. None of the models seem to learn something."
   ]
  },
  {
   "cell_type": "markdown",
   "metadata": {},
   "source": [
    "### Binary prediction"
   ]
  },
  {
   "cell_type": "code",
   "execution_count": 220,
   "metadata": {},
   "outputs": [
    {
     "name": "stdout",
     "output_type": "stream",
     "text": [
      "Total results\n",
      "Train mode: Ligand\n"
     ]
    },
    {
     "data": {
      "text/html": [
       "<div>\n",
       "<style scoped>\n",
       "    .dataframe tbody tr th:only-of-type {\n",
       "        vertical-align: middle;\n",
       "    }\n",
       "\n",
       "    .dataframe tbody tr th {\n",
       "        vertical-align: top;\n",
       "    }\n",
       "\n",
       "    .dataframe thead th {\n",
       "        text-align: right;\n",
       "    }\n",
       "</style>\n",
       "<table border=\"1\" class=\"dataframe\">\n",
       "  <thead>\n",
       "    <tr style=\"text-align: right;\">\n",
       "      <th></th>\n",
       "      <th>f1_binding</th>\n",
       "      <th>acc_binding</th>\n",
       "      <th>prec_binding</th>\n",
       "      <th>rec_binding</th>\n",
       "      <th>f1_binding_2</th>\n",
       "      <th>acc_binding_2</th>\n",
       "      <th>prec_binding_2</th>\n",
       "      <th>rec_binding_2</th>\n",
       "    </tr>\n",
       "    <tr>\n",
       "      <th>model</th>\n",
       "      <th></th>\n",
       "      <th></th>\n",
       "      <th></th>\n",
       "      <th></th>\n",
       "      <th></th>\n",
       "      <th></th>\n",
       "      <th></th>\n",
       "      <th></th>\n",
       "    </tr>\n",
       "  </thead>\n",
       "  <tbody>\n",
       "    <tr>\n",
       "      <th>distmapv1</th>\n",
       "      <td>0.0 ± 0.0%</td>\n",
       "      <td>89.8 ± 1.0%</td>\n",
       "      <td>0.0 ± 0.0%</td>\n",
       "      <td>0.0 ± 0.0%</td>\n",
       "      <td>0.1 ± 0.2%</td>\n",
       "      <td>89.7 ± 1.0%</td>\n",
       "      <td>0.1 ± 0.2%</td>\n",
       "      <td>0.2 ± 0.3%</td>\n",
       "    </tr>\n",
       "    <tr>\n",
       "      <th>distmapv2</th>\n",
       "      <td>0.0 ± 0.0%</td>\n",
       "      <td>89.8 ± 1.0%</td>\n",
       "      <td>0.0 ± 0.0%</td>\n",
       "      <td>0.0 ± 0.0%</td>\n",
       "      <td>0.0 ± 0.0%</td>\n",
       "      <td>89.8 ± 1.0%</td>\n",
       "      <td>0.0 ± 0.0%</td>\n",
       "      <td>0.0 ± 0.0%</td>\n",
       "    </tr>\n",
       "  </tbody>\n",
       "</table>\n",
       "</div>"
      ],
      "text/plain": [
       "           f1_binding  acc_binding prec_binding rec_binding f1_binding_2  \\\n",
       "model                                                                      \n",
       "distmapv1  0.0 ± 0.0%  89.8 ± 1.0%   0.0 ± 0.0%  0.0 ± 0.0%   0.1 ± 0.2%   \n",
       "distmapv2  0.0 ± 0.0%  89.8 ± 1.0%   0.0 ± 0.0%  0.0 ± 0.0%   0.0 ± 0.0%   \n",
       "\n",
       "          acc_binding_2 prec_binding_2 rec_binding_2  \n",
       "model                                                 \n",
       "distmapv1   89.7 ± 1.0%     0.1 ± 0.2%    0.2 ± 0.3%  \n",
       "distmapv2   89.8 ± 1.0%     0.0 ± 0.0%    0.0 ± 0.0%  "
      ]
     },
     "metadata": {},
     "output_type": "display_data"
    },
    {
     "name": "stdout",
     "output_type": "stream",
     "text": [
      "Train mode: Binary\n"
     ]
    },
    {
     "data": {
      "text/html": [
       "<div>\n",
       "<style scoped>\n",
       "    .dataframe tbody tr th:only-of-type {\n",
       "        vertical-align: middle;\n",
       "    }\n",
       "\n",
       "    .dataframe tbody tr th {\n",
       "        vertical-align: top;\n",
       "    }\n",
       "\n",
       "    .dataframe thead th {\n",
       "        text-align: right;\n",
       "    }\n",
       "</style>\n",
       "<table border=\"1\" class=\"dataframe\">\n",
       "  <thead>\n",
       "    <tr style=\"text-align: right;\">\n",
       "      <th></th>\n",
       "      <th>f1_binding</th>\n",
       "      <th>acc_binding</th>\n",
       "      <th>prec_binding</th>\n",
       "      <th>rec_binding</th>\n",
       "    </tr>\n",
       "    <tr>\n",
       "      <th>model</th>\n",
       "      <th></th>\n",
       "      <th></th>\n",
       "      <th></th>\n",
       "      <th></th>\n",
       "    </tr>\n",
       "  </thead>\n",
       "  <tbody>\n",
       "    <tr>\n",
       "      <th>distmapv1</th>\n",
       "      <td>0.0 ± 0.0%</td>\n",
       "      <td>89.8 ± 1.0%</td>\n",
       "      <td>0.0 ± 0.0%</td>\n",
       "      <td>0.0 ± 0.0%</td>\n",
       "    </tr>\n",
       "    <tr>\n",
       "      <th>distmapv2</th>\n",
       "      <td>0.0 ± 0.0%</td>\n",
       "      <td>89.8 ± 1.0%</td>\n",
       "      <td>0.0 ± 0.0%</td>\n",
       "      <td>0.0 ± 0.0%</td>\n",
       "    </tr>\n",
       "  </tbody>\n",
       "</table>\n",
       "</div>"
      ],
      "text/plain": [
       "           f1_binding  acc_binding prec_binding rec_binding\n",
       "model                                                      \n",
       "distmapv1  0.0 ± 0.0%  89.8 ± 1.0%   0.0 ± 0.0%  0.0 ± 0.0%\n",
       "distmapv2  0.0 ± 0.0%  89.8 ± 1.0%   0.0 ± 0.0%  0.0 ± 0.0%"
      ]
     },
     "metadata": {},
     "output_type": "display_data"
    }
   ],
   "source": [
    "print(\"Total results\")\n",
    "df_ligand = performance_df[(performance_df.data_type == 'distmap') & (performance_df.train_mode == 'ligand')]\n",
    "df_binding = performance_df[(performance_df.data_type == 'distmap') & (performance_df.train_mode == 'ligand')]\n",
    "\n",
    "print(\"Train mode: Ligand\")\n",
    "df = df_ligand\n",
    "display(pretty_performance(df, ['f1_binding', 'acc_binding', 'prec_binding', 'rec_binding',\n",
    "                               'f1_binding_2', 'acc_binding_2', 'prec_binding_2', 'rec_binding_2']))\n",
    "\n",
    "print(\"Train mode: Binary\")\n",
    "df = df_binding\n",
    "display(pretty_performance(df, ['f1_binding', 'acc_binding', 'prec_binding', 'rec_binding']))\n"
   ]
  },
  {
   "cell_type": "markdown",
   "metadata": {},
   "source": [
    "### The performance of the binary classification was similar to multi-class prediction. None of the methods used were able to learn anything."
   ]
  },
  {
   "cell_type": "markdown",
   "metadata": {},
   "source": [
    "## Compare models that use combined data\n",
    "\n",
    "I tried various ways to combine the distance maps and the embeddings into one final model. The final methods are categorized into 2 generation.\n",
    "\n",
    "In the first generation models the data is merged into a 2D matrix. The distance maps are first flattened into a (T, 2T) matrix and then merged with the embeddings resulting in a matrix with dimensions (T, 2T + 1025). The data is then fed into a 2 layer CNN.\n",
    "\n",
    "In the second generation models I am training 2 different models in parallel, one for the embeddings and one for the distance maps, which are then combined into a final model. The embeddings model is a 1D CNN and the distance map model is a 2D CNN that is transformed into 1D.\n"
   ]
  },
  {
   "cell_type": "markdown",
   "metadata": {},
   "source": [
    "### Ligand class prediction"
   ]
  },
  {
   "cell_type": "code",
   "execution_count": 370,
   "metadata": {},
   "outputs": [
    {
     "name": "stdout",
     "output_type": "stream",
     "text": [
      "Total results\n"
     ]
    },
    {
     "data": {
      "text/html": [
       "<div>\n",
       "<style scoped>\n",
       "    .dataframe tbody tr th:only-of-type {\n",
       "        vertical-align: middle;\n",
       "    }\n",
       "\n",
       "    .dataframe tbody tr th {\n",
       "        vertical-align: top;\n",
       "    }\n",
       "\n",
       "    .dataframe thead th {\n",
       "        text-align: right;\n",
       "    }\n",
       "</style>\n",
       "<table border=\"1\" class=\"dataframe\">\n",
       "  <thead>\n",
       "    <tr style=\"text-align: right;\">\n",
       "      <th></th>\n",
       "      <th>f1_total</th>\n",
       "      <th>mcc_total</th>\n",
       "      <th>prec_total</th>\n",
       "      <th>rec_total</th>\n",
       "    </tr>\n",
       "    <tr>\n",
       "      <th>model</th>\n",
       "      <th></th>\n",
       "      <th></th>\n",
       "      <th></th>\n",
       "      <th></th>\n",
       "    </tr>\n",
       "  </thead>\n",
       "  <tbody>\n",
       "    <tr>\n",
       "      <th>combinedv2_2</th>\n",
       "      <td>32.7 ± 1.6%</td>\n",
       "      <td>32.9 ± 1.7%</td>\n",
       "      <td>42.9 ± 2.0%</td>\n",
       "      <td>32.2 ± 1.8%</td>\n",
       "    </tr>\n",
       "    <tr>\n",
       "      <th>combinedv2_1</th>\n",
       "      <td>30.1 ± 1.6%</td>\n",
       "      <td>30.7 ± 1.7%</td>\n",
       "      <td>42.5 ± 2.1%</td>\n",
       "      <td>28.9 ± 1.8%</td>\n",
       "    </tr>\n",
       "    <tr>\n",
       "      <th>combinedv1</th>\n",
       "      <td>0.5 ± 0.4%</td>\n",
       "      <td>0.5 ± 0.4%</td>\n",
       "      <td>0.8 ± 0.7%</td>\n",
       "      <td>0.8 ± 0.7%</td>\n",
       "    </tr>\n",
       "  </tbody>\n",
       "</table>\n",
       "</div>"
      ],
      "text/plain": [
       "                 f1_total    mcc_total   prec_total    rec_total\n",
       "model                                                           \n",
       "combinedv2_2  32.7 ± 1.6%  32.9 ± 1.7%  42.9 ± 2.0%  32.2 ± 1.8%\n",
       "combinedv2_1  30.1 ± 1.6%  30.7 ± 1.7%  42.5 ± 2.1%  28.9 ± 1.8%\n",
       "combinedv1     0.5 ± 0.4%   0.5 ± 0.4%   0.8 ± 0.7%   0.8 ± 0.7%"
      ]
     },
     "metadata": {},
     "output_type": "display_data"
    },
    {
     "data": {
      "image/png": "[encoded data removed]",
      "text/plain": [
       "<Figure size 432x288 with 1 Axes>"
      ]
     },
     "metadata": {
      "needs_background": "light"
     },
     "output_type": "display_data"
    }
   ],
   "source": [
    "print(\"Total results\")\n",
    "columns = ['f1_total', 'mcc_total', 'prec_total', 'rec_total']\n",
    "df = performance_df[(performance_df.data_type == 'combined') & (performance_df.train_mode == 'ligand')]\n",
    "display(pretty_performance(df, columns))\n",
    "fig, ax = plt.subplots()\n",
    "ax.set_title(\"Performance - all predictions\")\n",
    "plot_multimodel_performance(df, columns, ax)"
   ]
  },
  {
   "cell_type": "code",
   "execution_count": 371,
   "metadata": {
    "scrolled": false
   },
   "outputs": [
    {
     "name": "stdout",
     "output_type": "stream",
     "text": [
      "metal\n"
     ]
    },
    {
     "data": {
      "text/html": [
       "<div>\n",
       "<style scoped>\n",
       "    .dataframe tbody tr th:only-of-type {\n",
       "        vertical-align: middle;\n",
       "    }\n",
       "\n",
       "    .dataframe tbody tr th {\n",
       "        vertical-align: top;\n",
       "    }\n",
       "\n",
       "    .dataframe thead th {\n",
       "        text-align: right;\n",
       "    }\n",
       "</style>\n",
       "<table border=\"1\" class=\"dataframe\">\n",
       "  <thead>\n",
       "    <tr style=\"text-align: right;\">\n",
       "      <th></th>\n",
       "      <th>f1_metal</th>\n",
       "      <th>mcc_metal</th>\n",
       "      <th>prec_metal</th>\n",
       "      <th>rec_metal</th>\n",
       "    </tr>\n",
       "    <tr>\n",
       "      <th>model</th>\n",
       "      <th></th>\n",
       "      <th></th>\n",
       "      <th></th>\n",
       "      <th></th>\n",
       "    </tr>\n",
       "  </thead>\n",
       "  <tbody>\n",
       "    <tr>\n",
       "      <th>combinedv2_1</th>\n",
       "      <td>19.2 ± 2.0%</td>\n",
       "      <td>19.3 ± 2.1%</td>\n",
       "      <td>20.8 ± 2.2%</td>\n",
       "      <td>19.9 ± 2.2%</td>\n",
       "    </tr>\n",
       "    <tr>\n",
       "      <th>combinedv2_2</th>\n",
       "      <td>18.1 ± 2.0%</td>\n",
       "      <td>18.2 ± 2.0%</td>\n",
       "      <td>19.7 ± 2.2%</td>\n",
       "      <td>19.0 ± 2.1%</td>\n",
       "    </tr>\n",
       "    <tr>\n",
       "      <th>combinedv1</th>\n",
       "      <td>0.2 ± 0.3%</td>\n",
       "      <td>0.2 ± 0.3%</td>\n",
       "      <td>0.3 ± 0.5%</td>\n",
       "      <td>0.3 ± 0.5%</td>\n",
       "    </tr>\n",
       "  </tbody>\n",
       "</table>\n",
       "</div>"
      ],
      "text/plain": [
       "                 f1_metal    mcc_metal   prec_metal    rec_metal\n",
       "model                                                           \n",
       "combinedv2_1  19.2 ± 2.0%  19.3 ± 2.1%  20.8 ± 2.2%  19.9 ± 2.2%\n",
       "combinedv2_2  18.1 ± 2.0%  18.2 ± 2.0%  19.7 ± 2.2%  19.0 ± 2.1%\n",
       "combinedv1     0.2 ± 0.3%   0.2 ± 0.3%   0.3 ± 0.5%   0.3 ± 0.5%"
      ]
     },
     "metadata": {},
     "output_type": "display_data"
    },
    {
     "name": "stdout",
     "output_type": "stream",
     "text": [
      "small\n"
     ]
    },
    {
     "data": {
      "text/html": [
       "<div>\n",
       "<style scoped>\n",
       "    .dataframe tbody tr th:only-of-type {\n",
       "        vertical-align: middle;\n",
       "    }\n",
       "\n",
       "    .dataframe tbody tr th {\n",
       "        vertical-align: top;\n",
       "    }\n",
       "\n",
       "    .dataframe thead th {\n",
       "        text-align: right;\n",
       "    }\n",
       "</style>\n",
       "<table border=\"1\" class=\"dataframe\">\n",
       "  <thead>\n",
       "    <tr style=\"text-align: right;\">\n",
       "      <th></th>\n",
       "      <th>f1_small</th>\n",
       "      <th>mcc_small</th>\n",
       "      <th>prec_small</th>\n",
       "      <th>rec_small</th>\n",
       "    </tr>\n",
       "    <tr>\n",
       "      <th>model</th>\n",
       "      <th></th>\n",
       "      <th></th>\n",
       "      <th></th>\n",
       "      <th></th>\n",
       "    </tr>\n",
       "  </thead>\n",
       "  <tbody>\n",
       "    <tr>\n",
       "      <th>combinedv2_2</th>\n",
       "      <td>18.1 ± 1.5%</td>\n",
       "      <td>17.5 ± 1.5%</td>\n",
       "      <td>27.5 ± 2.2%</td>\n",
       "      <td>15.8 ± 1.4%</td>\n",
       "    </tr>\n",
       "    <tr>\n",
       "      <th>combinedv2_1</th>\n",
       "      <td>14.8 ± 1.4%</td>\n",
       "      <td>15.1 ± 1.4%</td>\n",
       "      <td>27.6 ± 2.3%</td>\n",
       "      <td>11.8 ± 1.2%</td>\n",
       "    </tr>\n",
       "    <tr>\n",
       "      <th>combinedv1</th>\n",
       "      <td>0.2 ± 0.3%</td>\n",
       "      <td>-0.0 ± 0.3%</td>\n",
       "      <td>0.2 ± 0.3%</td>\n",
       "      <td>0.3 ± 0.4%</td>\n",
       "    </tr>\n",
       "  </tbody>\n",
       "</table>\n",
       "</div>"
      ],
      "text/plain": [
       "                 f1_small    mcc_small   prec_small    rec_small\n",
       "model                                                           \n",
       "combinedv2_2  18.1 ± 1.5%  17.5 ± 1.5%  27.5 ± 2.2%  15.8 ± 1.4%\n",
       "combinedv2_1  14.8 ± 1.4%  15.1 ± 1.4%  27.6 ± 2.3%  11.8 ± 1.2%\n",
       "combinedv1     0.2 ± 0.3%  -0.0 ± 0.3%   0.2 ± 0.3%   0.3 ± 0.4%"
      ]
     },
     "metadata": {},
     "output_type": "display_data"
    },
    {
     "name": "stdout",
     "output_type": "stream",
     "text": [
      "nuclear\n"
     ]
    },
    {
     "data": {
      "text/html": [
       "<div>\n",
       "<style scoped>\n",
       "    .dataframe tbody tr th:only-of-type {\n",
       "        vertical-align: middle;\n",
       "    }\n",
       "\n",
       "    .dataframe tbody tr th {\n",
       "        vertical-align: top;\n",
       "    }\n",
       "\n",
       "    .dataframe thead th {\n",
       "        text-align: right;\n",
       "    }\n",
       "</style>\n",
       "<table border=\"1\" class=\"dataframe\">\n",
       "  <thead>\n",
       "    <tr style=\"text-align: right;\">\n",
       "      <th></th>\n",
       "      <th>f1_nuclear</th>\n",
       "      <th>mcc_nuclear</th>\n",
       "      <th>prec_nuclear</th>\n",
       "      <th>rec_nuclear</th>\n",
       "    </tr>\n",
       "    <tr>\n",
       "      <th>model</th>\n",
       "      <th></th>\n",
       "      <th></th>\n",
       "      <th></th>\n",
       "      <th></th>\n",
       "    </tr>\n",
       "  </thead>\n",
       "  <tbody>\n",
       "    <tr>\n",
       "      <th>combinedv2_1</th>\n",
       "      <td>4.9 ± 1.0%</td>\n",
       "      <td>4.0 ± 0.9%</td>\n",
       "      <td>5.2 ± 1.1%</td>\n",
       "      <td>5.5 ± 1.2%</td>\n",
       "    </tr>\n",
       "    <tr>\n",
       "      <th>combinedv2_2</th>\n",
       "      <td>4.8 ± 1.0%</td>\n",
       "      <td>3.9 ± 0.9%</td>\n",
       "      <td>5.3 ± 1.1%</td>\n",
       "      <td>5.4 ± 1.2%</td>\n",
       "    </tr>\n",
       "    <tr>\n",
       "      <th>combinedv1</th>\n",
       "      <td>0.0 ± 0.0%</td>\n",
       "      <td>0.0 ± 0.0%</td>\n",
       "      <td>0.0 ± 0.0%</td>\n",
       "      <td>0.0 ± 0.0%</td>\n",
       "    </tr>\n",
       "  </tbody>\n",
       "</table>\n",
       "</div>"
      ],
      "text/plain": [
       "              f1_nuclear mcc_nuclear prec_nuclear rec_nuclear\n",
       "model                                                        \n",
       "combinedv2_1  4.9 ± 1.0%  4.0 ± 0.9%   5.2 ± 1.1%  5.5 ± 1.2%\n",
       "combinedv2_2  4.8 ± 1.0%  3.9 ± 0.9%   5.3 ± 1.1%  5.4 ± 1.2%\n",
       "combinedv1    0.0 ± 0.0%  0.0 ± 0.0%   0.0 ± 0.0%  0.0 ± 0.0%"
      ]
     },
     "metadata": {},
     "output_type": "display_data"
    },
    {
     "data": {
      "image/png": "[encoded data removed]",
      "text/plain": [
       "<Figure size 432x288 with 1 Axes>"
      ]
     },
     "metadata": {
      "needs_background": "light"
     },
     "output_type": "display_data"
    },
    {
     "data": {
      "image/png": "[encoded data removed]",
      "text/plain": [
       "<Figure size 432x288 with 1 Axes>"
      ]
     },
     "metadata": {
      "needs_background": "light"
     },
     "output_type": "display_data"
    },
    {
     "data": {
      "image/png": "[encoded data removed]",
      "text/plain": [
       "<Figure size 432x288 with 1 Axes>"
      ]
     },
     "metadata": {
      "needs_background": "light"
     },
     "output_type": "display_data"
    }
   ],
   "source": [
    "for ligand in ligands:\n",
    "    print(ligand)\n",
    "    columns =  ['f1_' + ligand, 'mcc_' + ligand, 'prec_' + ligand, 'rec_' + ligand]\n",
    "    display(pretty_performance(df, columns))\n",
    "    fig, ax = plt.subplots()\n",
    "    ax.set_title('Performance - ' + ligand)\n",
    "    plot_multimodel_performance(df,columns, ax)\n"
   ]
  },
  {
   "cell_type": "markdown",
   "metadata": {},
   "source": [
    "The first generation model fails to learn anything has an F1 score close to 0. In the second generation the story is different. The deeper CNN (*combinedv2_2*) performs better for small molecules, whereas the other ligand classes have a similar performance."
   ]
  },
  {
   "cell_type": "markdown",
   "metadata": {},
   "source": [
    "### Binary prediction"
   ]
  },
  {
   "cell_type": "code",
   "execution_count": 373,
   "metadata": {},
   "outputs": [
    {
     "name": "stdout",
     "output_type": "stream",
     "text": [
      "Total results\n"
     ]
    },
    {
     "data": {
      "text/html": [
       "<div>\n",
       "<style scoped>\n",
       "    .dataframe tbody tr th:only-of-type {\n",
       "        vertical-align: middle;\n",
       "    }\n",
       "\n",
       "    .dataframe tbody tr th {\n",
       "        vertical-align: top;\n",
       "    }\n",
       "\n",
       "    .dataframe thead th {\n",
       "        text-align: right;\n",
       "    }\n",
       "</style>\n",
       "<table border=\"1\" class=\"dataframe\">\n",
       "  <thead>\n",
       "    <tr style=\"text-align: right;\">\n",
       "      <th></th>\n",
       "      <th>f1_binding</th>\n",
       "      <th>mcc_binding</th>\n",
       "      <th>prec_binding</th>\n",
       "      <th>rec_binding</th>\n",
       "    </tr>\n",
       "    <tr>\n",
       "      <th>model</th>\n",
       "      <th></th>\n",
       "      <th></th>\n",
       "      <th></th>\n",
       "      <th></th>\n",
       "    </tr>\n",
       "  </thead>\n",
       "  <tbody>\n",
       "    <tr>\n",
       "      <th>combinedv2_2_ligand_2</th>\n",
       "      <td>36.9 ± 1.7%</td>\n",
       "      <td>34.7 ± 1.8%</td>\n",
       "      <td>45.4 ± 2.1%</td>\n",
       "      <td>38.6 ± 2.0%</td>\n",
       "    </tr>\n",
       "    <tr>\n",
       "      <th>combinedv2_1_ligand_2</th>\n",
       "      <td>34.9 ± 1.8%</td>\n",
       "      <td>33.6 ± 1.8%</td>\n",
       "      <td>46.8 ± 2.2%</td>\n",
       "      <td>35.3 ± 2.0%</td>\n",
       "    </tr>\n",
       "    <tr>\n",
       "      <th>combinedv2_2_ligand</th>\n",
       "      <td>33.1 ± 1.8%</td>\n",
       "      <td>33.1 ± 1.8%</td>\n",
       "      <td>50.4 ± 2.4%</td>\n",
       "      <td>29.5 ± 1.8%</td>\n",
       "    </tr>\n",
       "    <tr>\n",
       "      <th>combinedv2_2_bind_binary</th>\n",
       "      <td>33.0 ± 1.8%</td>\n",
       "      <td>33.0 ± 1.8%</td>\n",
       "      <td>50.3 ± 2.4%</td>\n",
       "      <td>29.5 ± 1.8%</td>\n",
       "    </tr>\n",
       "    <tr>\n",
       "      <th>combinedv2_1_ligand</th>\n",
       "      <td>29.7 ± 1.8%</td>\n",
       "      <td>30.4 ± 1.8%</td>\n",
       "      <td>49.7 ± 2.5%</td>\n",
       "      <td>25.8 ± 1.8%</td>\n",
       "    </tr>\n",
       "  </tbody>\n",
       "</table>\n",
       "</div>"
      ],
      "text/plain": [
       "                           f1_binding  mcc_binding prec_binding  rec_binding\n",
       "model                                                                       \n",
       "combinedv2_2_ligand_2     36.9 ± 1.7%  34.7 ± 1.8%  45.4 ± 2.1%  38.6 ± 2.0%\n",
       "combinedv2_1_ligand_2     34.9 ± 1.8%  33.6 ± 1.8%  46.8 ± 2.2%  35.3 ± 2.0%\n",
       "combinedv2_2_ligand       33.1 ± 1.8%  33.1 ± 1.8%  50.4 ± 2.4%  29.5 ± 1.8%\n",
       "combinedv2_2_bind_binary  33.0 ± 1.8%  33.0 ± 1.8%  50.3 ± 2.4%  29.5 ± 1.8%\n",
       "combinedv2_1_ligand       29.7 ± 1.8%  30.4 ± 1.8%  49.7 ± 2.5%  25.8 ± 1.8%"
      ]
     },
     "metadata": {},
     "output_type": "display_data"
    },
    {
     "data": {
      "image/png": "[encoded data removed]",
      "text/plain": [
       "<Figure size 432x288 with 1 Axes>"
      ]
     },
     "metadata": {
      "needs_background": "light"
     },
     "output_type": "display_data"
    }
   ],
   "source": [
    "print(\"Total results\")\n",
    "\n",
    "columns = ['f1_binding', 'mcc_binding', 'prec_binding', 'rec_binding'] \n",
    "df_ligand_1 = performance_df[(performance_df.data_type == 'combined') & (performance_df.train_mode == 'ligand')]\n",
    "df_ligand_1 = df_ligand_1[columns + list(map(lambda x: x + \"_ci\", columns))]\n",
    "df_ligand_1.index = df_ligand_1.index.map(lambda x: x + \"_ligand\")\n",
    "\n",
    "columns_2 = ['f1_binding_2', 'mcc_binding_2', 'prec_binding_2', 'rec_binding_2']\n",
    "df_ligand_2 = performance_df[(performance_df.data_type == 'combined') & (performance_df.train_mode == 'ligand')]\n",
    "df_ligand_2 = df_ligand_2[columns_2 + list(map(lambda x: x + \"_ci\", columns_2))]\n",
    "df_ligand_2.index = df_ligand_2.index.map(lambda x: x + \"_ligand_2\")\n",
    "df_ligand_2 = df_ligand_2[columns_2 + list(map(lambda x: x + \"_ci\", columns_2))]\n",
    "df_ligand_2.columns = columns + list(map(lambda x: x + \"_ci\", columns))\n",
    "\n",
    "columns = ['f1_binding', 'mcc_binding', 'prec_binding', 'rec_binding'] \n",
    "df_binding = performance_df[(performance_df.data_type == 'combined') & (performance_df.train_mode == 'binding')]\n",
    "df_binding = df_binding[columns + list(map(lambda x: x + \"_ci\", columns))]\n",
    "df_binding.index = df_binding.index.map(lambda x: x + \"_binary\")\n",
    "\n",
    "df = pd.concat([df_ligand_1, df_ligand_2, df_binding])\n",
    "df = df.loc[['combinedv2_2_ligand_2', \n",
    "             'combinedv2_1_ligand_2', \n",
    "             'combinedv2_2_ligand', \n",
    "             'combinedv2_2_bind_binary',\n",
    "             'combinedv2_1_ligand']]\n",
    "\n",
    "display(pretty_performance(df, columns))\n",
    "\n",
    "fig, ax = plt.subplots()\n",
    "ax.set_title(\"Performance - binary prediction\")\n",
    "plot_multimodel_performance(df, columns, ax)"
   ]
  },
  {
   "cell_type": "markdown",
   "metadata": {},
   "source": [
    "The first generation model did not learn anything for the binary prediction task either. The best performing model in terms of F1 score is the model combinedv2_2. \n",
    "\n",
    "The best performing method for the binary classification is ligand_2. The model that was trained solely on the binding annotation performed the worst for the model combinedv2_2."
   ]
  },
  {
   "cell_type": "markdown",
   "metadata": {},
   "source": [
    "### For both tasks the model *combinedv2_2* performes the best in comparison to the other combined models"
   ]
  },
  {
   "cell_type": "markdown",
   "metadata": {},
   "source": [
    "## Compare embeddings against combined models using the test set"
   ]
  },
  {
   "cell_type": "markdown",
   "metadata": {},
   "source": [
    "### Ligand classification"
   ]
  },
  {
   "cell_type": "code",
   "execution_count": null,
   "metadata": {},
   "outputs": [],
   "source": [
    "test_df = runs_df_filtered.set_index('run').loc[['202207121113_embedding', '202207121144_combinedv2_2']].reset_index(). \\\n",
    "    apply(lambda x: get_total(x, test=True), axis =1).set_index('model')"
   ]
  },
  {
   "cell_type": "code",
   "execution_count": 399,
   "metadata": {},
   "outputs": [
    {
     "name": "stdout",
     "output_type": "stream",
     "text": [
      "Total results\n"
     ]
    },
    {
     "data": {
      "text/html": [
       "<div>\n",
       "<style scoped>\n",
       "    .dataframe tbody tr th:only-of-type {\n",
       "        vertical-align: middle;\n",
       "    }\n",
       "\n",
       "    .dataframe tbody tr th {\n",
       "        vertical-align: top;\n",
       "    }\n",
       "\n",
       "    .dataframe thead th {\n",
       "        text-align: right;\n",
       "    }\n",
       "</style>\n",
       "<table border=\"1\" class=\"dataframe\">\n",
       "  <thead>\n",
       "    <tr style=\"text-align: right;\">\n",
       "      <th></th>\n",
       "      <th>f1_total</th>\n",
       "      <th>mcc_total</th>\n",
       "      <th>prec_total</th>\n",
       "      <th>rec_total</th>\n",
       "    </tr>\n",
       "    <tr>\n",
       "      <th>model</th>\n",
       "      <th></th>\n",
       "      <th></th>\n",
       "      <th></th>\n",
       "      <th></th>\n",
       "    </tr>\n",
       "  </thead>\n",
       "  <tbody>\n",
       "    <tr>\n",
       "      <th>combinedv2_2</th>\n",
       "      <td>34.9 ± 2.5%</td>\n",
       "      <td>36.8 ± 2.5%</td>\n",
       "      <td>55.7 ± 3.4%</td>\n",
       "      <td>31.4 ± 2.9%</td>\n",
       "    </tr>\n",
       "    <tr>\n",
       "      <th>embedding</th>\n",
       "      <td>32.0 ± 2.5%</td>\n",
       "      <td>34.5 ± 2.5%</td>\n",
       "      <td>55.8 ± 3.5%</td>\n",
       "      <td>27.5 ± 2.8%</td>\n",
       "    </tr>\n",
       "  </tbody>\n",
       "</table>\n",
       "</div>"
      ],
      "text/plain": [
       "                 f1_total    mcc_total   prec_total    rec_total\n",
       "model                                                           \n",
       "combinedv2_2  34.9 ± 2.5%  36.8 ± 2.5%  55.7 ± 3.4%  31.4 ± 2.9%\n",
       "embedding     32.0 ± 2.5%  34.5 ± 2.5%  55.8 ± 3.5%  27.5 ± 2.8%"
      ]
     },
     "metadata": {},
     "output_type": "display_data"
    },
    {
     "data": {
      "image/png": "[encoded data removed]",
      "text/plain": [
       "<Figure size 432x288 with 1 Axes>"
      ]
     },
     "metadata": {
      "needs_background": "light"
     },
     "output_type": "display_data"
    }
   ],
   "source": [
    "print(\"Total results\")\n",
    "df = test_df\n",
    "columns = ['f1_total', 'mcc_total', 'prec_total', 'rec_total']\n",
    "display(pretty_performance(df, columns))\n",
    "fig, ax = plt.subplots()\n",
    "ax.set_title(\"Performance - all predictions\")\n",
    "plot_multimodel_performance(df, columns, ax)"
   ]
  },
  {
   "cell_type": "code",
   "execution_count": 400,
   "metadata": {
    "scrolled": false
   },
   "outputs": [
    {
     "name": "stdout",
     "output_type": "stream",
     "text": [
      "metal\n"
     ]
    },
    {
     "data": {
      "text/html": [
       "<div>\n",
       "<style scoped>\n",
       "    .dataframe tbody tr th:only-of-type {\n",
       "        vertical-align: middle;\n",
       "    }\n",
       "\n",
       "    .dataframe tbody tr th {\n",
       "        vertical-align: top;\n",
       "    }\n",
       "\n",
       "    .dataframe thead th {\n",
       "        text-align: right;\n",
       "    }\n",
       "</style>\n",
       "<table border=\"1\" class=\"dataframe\">\n",
       "  <thead>\n",
       "    <tr style=\"text-align: right;\">\n",
       "      <th></th>\n",
       "      <th>f1_metal</th>\n",
       "      <th>mcc_metal</th>\n",
       "      <th>prec_metal</th>\n",
       "      <th>rec_metal</th>\n",
       "    </tr>\n",
       "    <tr>\n",
       "      <th>model</th>\n",
       "      <th></th>\n",
       "      <th></th>\n",
       "      <th></th>\n",
       "      <th></th>\n",
       "    </tr>\n",
       "  </thead>\n",
       "  <tbody>\n",
       "    <tr>\n",
       "      <th>embedding</th>\n",
       "      <td>18.9 ± 3.6%</td>\n",
       "      <td>19.2 ± 3.7%</td>\n",
       "      <td>21.5 ± 4.0%</td>\n",
       "      <td>19.5 ± 3.9%</td>\n",
       "    </tr>\n",
       "    <tr>\n",
       "      <th>combinedv2_2</th>\n",
       "      <td>18.7 ± 3.6%</td>\n",
       "      <td>19.1 ± 3.7%</td>\n",
       "      <td>21.6 ± 4.1%</td>\n",
       "      <td>19.0 ± 3.9%</td>\n",
       "    </tr>\n",
       "  </tbody>\n",
       "</table>\n",
       "</div>"
      ],
      "text/plain": [
       "                 f1_metal    mcc_metal   prec_metal    rec_metal\n",
       "model                                                           \n",
       "embedding     18.9 ± 3.6%  19.2 ± 3.7%  21.5 ± 4.0%  19.5 ± 3.9%\n",
       "combinedv2_2  18.7 ± 3.6%  19.1 ± 3.7%  21.6 ± 4.1%  19.0 ± 3.9%"
      ]
     },
     "metadata": {},
     "output_type": "display_data"
    },
    {
     "name": "stdout",
     "output_type": "stream",
     "text": [
      "small\n"
     ]
    },
    {
     "data": {
      "text/html": [
       "<div>\n",
       "<style scoped>\n",
       "    .dataframe tbody tr th:only-of-type {\n",
       "        vertical-align: middle;\n",
       "    }\n",
       "\n",
       "    .dataframe tbody tr th {\n",
       "        vertical-align: top;\n",
       "    }\n",
       "\n",
       "    .dataframe thead th {\n",
       "        text-align: right;\n",
       "    }\n",
       "</style>\n",
       "<table border=\"1\" class=\"dataframe\">\n",
       "  <thead>\n",
       "    <tr style=\"text-align: right;\">\n",
       "      <th></th>\n",
       "      <th>f1_small</th>\n",
       "      <th>mcc_small</th>\n",
       "      <th>prec_small</th>\n",
       "      <th>rec_small</th>\n",
       "    </tr>\n",
       "    <tr>\n",
       "      <th>model</th>\n",
       "      <th></th>\n",
       "      <th></th>\n",
       "      <th></th>\n",
       "      <th></th>\n",
       "    </tr>\n",
       "  </thead>\n",
       "  <tbody>\n",
       "    <tr>\n",
       "      <th>combinedv2_2</th>\n",
       "      <td>25.7 ± 2.9%</td>\n",
       "      <td>26.2 ± 2.9%</td>\n",
       "      <td>42.7 ± 4.5%</td>\n",
       "      <td>21.6 ± 2.7%</td>\n",
       "    </tr>\n",
       "    <tr>\n",
       "      <th>embedding</th>\n",
       "      <td>21.9 ± 2.7%</td>\n",
       "      <td>23.1 ± 2.8%</td>\n",
       "      <td>41.7 ± 4.7%</td>\n",
       "      <td>17.0 ± 2.3%</td>\n",
       "    </tr>\n",
       "  </tbody>\n",
       "</table>\n",
       "</div>"
      ],
      "text/plain": [
       "                 f1_small    mcc_small   prec_small    rec_small\n",
       "model                                                           \n",
       "combinedv2_2  25.7 ± 2.9%  26.2 ± 2.9%  42.7 ± 4.5%  21.6 ± 2.7%\n",
       "embedding     21.9 ± 2.7%  23.1 ± 2.8%  41.7 ± 4.7%  17.0 ± 2.3%"
      ]
     },
     "metadata": {},
     "output_type": "display_data"
    },
    {
     "name": "stdout",
     "output_type": "stream",
     "text": [
      "nuclear\n"
     ]
    },
    {
     "data": {
      "text/html": [
       "<div>\n",
       "<style scoped>\n",
       "    .dataframe tbody tr th:only-of-type {\n",
       "        vertical-align: middle;\n",
       "    }\n",
       "\n",
       "    .dataframe tbody tr th {\n",
       "        vertical-align: top;\n",
       "    }\n",
       "\n",
       "    .dataframe thead th {\n",
       "        text-align: right;\n",
       "    }\n",
       "</style>\n",
       "<table border=\"1\" class=\"dataframe\">\n",
       "  <thead>\n",
       "    <tr style=\"text-align: right;\">\n",
       "      <th></th>\n",
       "      <th>f1_nuclear</th>\n",
       "      <th>mcc_nuclear</th>\n",
       "      <th>prec_nuclear</th>\n",
       "      <th>rec_nuclear</th>\n",
       "    </tr>\n",
       "    <tr>\n",
       "      <th>model</th>\n",
       "      <th></th>\n",
       "      <th></th>\n",
       "      <th></th>\n",
       "      <th></th>\n",
       "    </tr>\n",
       "  </thead>\n",
       "  <tbody>\n",
       "    <tr>\n",
       "      <th>embedding</th>\n",
       "      <td>6.0 ± 2.0%</td>\n",
       "      <td>5.7 ± 1.9%</td>\n",
       "      <td>9.2 ± 2.9%</td>\n",
       "      <td>5.3 ± 1.9%</td>\n",
       "    </tr>\n",
       "    <tr>\n",
       "      <th>combinedv2_2</th>\n",
       "      <td>5.6 ± 1.9%</td>\n",
       "      <td>5.3 ± 1.8%</td>\n",
       "      <td>9.1 ± 2.9%</td>\n",
       "      <td>4.9 ± 1.8%</td>\n",
       "    </tr>\n",
       "  </tbody>\n",
       "</table>\n",
       "</div>"
      ],
      "text/plain": [
       "              f1_nuclear mcc_nuclear prec_nuclear rec_nuclear\n",
       "model                                                        \n",
       "embedding     6.0 ± 2.0%  5.7 ± 1.9%   9.2 ± 2.9%  5.3 ± 1.9%\n",
       "combinedv2_2  5.6 ± 1.9%  5.3 ± 1.8%   9.1 ± 2.9%  4.9 ± 1.8%"
      ]
     },
     "metadata": {},
     "output_type": "display_data"
    },
    {
     "data": {
      "image/png": "[encoded data removed]",
      "text/plain": [
       "<Figure size 432x288 with 1 Axes>"
      ]
     },
     "metadata": {
      "needs_background": "light"
     },
     "output_type": "display_data"
    },
    {
     "data": {
      "image/png": "[encoded data removed]",
      "text/plain": [
       "<Figure size 432x288 with 1 Axes>"
      ]
     },
     "metadata": {
      "needs_background": "light"
     },
     "output_type": "display_data"
    },
    {
     "data": {
      "image/png": "[encoded data removed]",
      "text/plain": [
       "<Figure size 432x288 with 1 Axes>"
      ]
     },
     "metadata": {
      "needs_background": "light"
     },
     "output_type": "display_data"
    }
   ],
   "source": [
    "for ligand in ligands:\n",
    "    print(ligand)\n",
    "    columns =  ['f1_' + ligand, 'mcc_' + ligand, 'prec_' + ligand, 'rec_' + ligand]\n",
    "    display(pretty_performance(df, columns))\n",
    "    fig, ax = plt.subplots()\n",
    "    ax.set_title('Performance - ' + ligand)\n",
    "    plot_multimodel_performance(df,columns, ax)"
   ]
  },
  {
   "cell_type": "markdown",
   "metadata": {},
   "source": [
    "For small molecules the combined method outperforms the method with just the embeddings."
   ]
  },
  {
   "cell_type": "markdown",
   "metadata": {},
   "source": [
    "### Binary prediction"
   ]
  },
  {
   "cell_type": "code",
   "execution_count": 401,
   "metadata": {},
   "outputs": [
    {
     "name": "stdout",
     "output_type": "stream",
     "text": [
      "Total results\n"
     ]
    },
    {
     "data": {
      "text/html": [
       "<div>\n",
       "<style scoped>\n",
       "    .dataframe tbody tr th:only-of-type {\n",
       "        vertical-align: middle;\n",
       "    }\n",
       "\n",
       "    .dataframe tbody tr th {\n",
       "        vertical-align: top;\n",
       "    }\n",
       "\n",
       "    .dataframe thead th {\n",
       "        text-align: right;\n",
       "    }\n",
       "</style>\n",
       "<table border=\"1\" class=\"dataframe\">\n",
       "  <thead>\n",
       "    <tr style=\"text-align: right;\">\n",
       "      <th></th>\n",
       "      <th>f1_binding</th>\n",
       "      <th>mcc_binding</th>\n",
       "      <th>prec_binding</th>\n",
       "      <th>rec_binding</th>\n",
       "    </tr>\n",
       "    <tr>\n",
       "      <th>model</th>\n",
       "      <th></th>\n",
       "      <th></th>\n",
       "      <th></th>\n",
       "      <th></th>\n",
       "    </tr>\n",
       "  </thead>\n",
       "  <tbody>\n",
       "    <tr>\n",
       "      <th>combinedv2_2_ligand_2</th>\n",
       "      <td>39.1 ± 2.7%</td>\n",
       "      <td>38.9 ± 2.6%</td>\n",
       "      <td>58.2 ± 3.6%</td>\n",
       "      <td>36.6 ± 3.2%</td>\n",
       "    </tr>\n",
       "    <tr>\n",
       "      <th>embedding_ligand_2</th>\n",
       "      <td>37.2 ± 2.7%</td>\n",
       "      <td>37.7 ± 2.7%</td>\n",
       "      <td>59.2 ± 3.7%</td>\n",
       "      <td>33.1 ± 3.1%</td>\n",
       "    </tr>\n",
       "    <tr>\n",
       "      <th>combinedv2_2_ligand</th>\n",
       "      <td>34.4 ± 2.7%</td>\n",
       "      <td>36.2 ± 2.7%</td>\n",
       "      <td>62.8 ± 4.0%</td>\n",
       "      <td>28.6 ± 2.9%</td>\n",
       "    </tr>\n",
       "    <tr>\n",
       "      <th>embedding_ligand</th>\n",
       "      <td>30.9 ± 2.7%</td>\n",
       "      <td>33.6 ± 2.7%</td>\n",
       "      <td>63.4 ± 4.2%</td>\n",
       "      <td>24.5 ± 2.8%</td>\n",
       "    </tr>\n",
       "  </tbody>\n",
       "</table>\n",
       "</div>"
      ],
      "text/plain": [
       "                        f1_binding  mcc_binding prec_binding  rec_binding\n",
       "model                                                                    \n",
       "combinedv2_2_ligand_2  39.1 ± 2.7%  38.9 ± 2.6%  58.2 ± 3.6%  36.6 ± 3.2%\n",
       "embedding_ligand_2     37.2 ± 2.7%  37.7 ± 2.7%  59.2 ± 3.7%  33.1 ± 3.1%\n",
       "combinedv2_2_ligand    34.4 ± 2.7%  36.2 ± 2.7%  62.8 ± 4.0%  28.6 ± 2.9%\n",
       "embedding_ligand       30.9 ± 2.7%  33.6 ± 2.7%  63.4 ± 4.2%  24.5 ± 2.8%"
      ]
     },
     "metadata": {},
     "output_type": "display_data"
    },
    {
     "data": {
      "image/png": "[encoded data removed]",
      "text/plain": [
       "<Figure size 432x288 with 1 Axes>"
      ]
     },
     "metadata": {
      "needs_background": "light"
     },
     "output_type": "display_data"
    }
   ],
   "source": [
    "print(\"Total results\")\n",
    "\n",
    "columns = ['f1_binding', 'mcc_binding', 'prec_binding', 'rec_binding'] \n",
    "df_ligand_1 = df[columns + list(map(lambda x: x + \"_ci\", columns))]\n",
    "df_ligand_1.index = df_ligand_1.index.map(lambda x: x + \"_ligand\")\n",
    "\n",
    "columns_2 = ['f1_binding_2', 'mcc_binding_2', 'prec_binding_2', 'rec_binding_2']\n",
    "df_ligand_2 = df[columns_2 + list(map(lambda x: x + \"_ci\", columns_2))]\n",
    "df_ligand_2.index = df_ligand_2.index.map(lambda x: x + \"_ligand_2\")\n",
    "df_ligand_2 = df_ligand_2[columns_2 + list(map(lambda x: x + \"_ci\", columns_2))]\n",
    "df_ligand_2.columns = columns + list(map(lambda x: x + \"_ci\", columns))\n",
    "\n",
    "\n",
    "df_binary = pd.concat([df_ligand_1, df_ligand_2])\n",
    "\n",
    "display(pretty_performance(df_binary, columns))\n",
    "\n",
    "fig, ax = plt.subplots()\n",
    "ax.set_title(\"Performance - binary prediction\")\n",
    "plot_multimodel_performance(df_binary, columns, ax)"
   ]
  },
  {
   "cell_type": "markdown",
   "metadata": {},
   "source": [
    "The combined model outperfoms the model that includes just the embeddings for the binary prediction as well."
   ]
  },
  {
   "cell_type": "markdown",
   "metadata": {},
   "source": [
    "### Next steps:\n",
    "### Is there a correlation between performance and pLDDT\n",
    "### Is there a correlation between performance and RI\n",
    "### Visualize best predictions"
   ]
  },
  {
   "cell_type": "code",
   "execution_count": 213,
   "metadata": {
    "scrolled": false
   },
   "outputs": [
    {
     "name": "stdout",
     "output_type": "stream",
     "text": [
      "Total results\n"
     ]
    },
    {
     "data": {
      "text/html": [
       "<div>\n",
       "<style scoped>\n",
       "    .dataframe tbody tr th:only-of-type {\n",
       "        vertical-align: middle;\n",
       "    }\n",
       "\n",
       "    .dataframe tbody tr th {\n",
       "        vertical-align: top;\n",
       "    }\n",
       "\n",
       "    .dataframe thead th {\n",
       "        text-align: right;\n",
       "    }\n",
       "</style>\n",
       "<table border=\"1\" class=\"dataframe\">\n",
       "  <thead>\n",
       "    <tr style=\"text-align: right;\">\n",
       "      <th></th>\n",
       "      <th>f1_total</th>\n",
       "      <th>acc_total</th>\n",
       "      <th>prec_total</th>\n",
       "      <th>rec_total</th>\n",
       "    </tr>\n",
       "    <tr>\n",
       "      <th>model</th>\n",
       "      <th></th>\n",
       "      <th></th>\n",
       "      <th></th>\n",
       "      <th></th>\n",
       "    </tr>\n",
       "  </thead>\n",
       "  <tbody>\n",
       "    <tr>\n",
       "      <th>combinedv2_2</th>\n",
       "      <td>32.7 ± 1.6%</td>\n",
       "      <td>95.3 ± 0.2%</td>\n",
       "      <td>42.9 ± 2.0%</td>\n",
       "      <td>32.2 ± 1.8%</td>\n",
       "    </tr>\n",
       "    <tr>\n",
       "      <th>combinedv2_1</th>\n",
       "      <td>30.1 ± 1.6%</td>\n",
       "      <td>95.3 ± 0.3%</td>\n",
       "      <td>42.5 ± 2.1%</td>\n",
       "      <td>28.9 ± 1.8%</td>\n",
       "    </tr>\n",
       "    <tr>\n",
       "      <th>embedding</th>\n",
       "      <td>30.0 ± 1.6%</td>\n",
       "      <td>95.3 ± 0.2%</td>\n",
       "      <td>42.7 ± 2.1%</td>\n",
       "      <td>28.9 ± 1.8%</td>\n",
       "    </tr>\n",
       "    <tr>\n",
       "      <th>combinedv1</th>\n",
       "      <td>0.5 ± 0.4%</td>\n",
       "      <td>94.6 ± 0.6%</td>\n",
       "      <td>0.8 ± 0.7%</td>\n",
       "      <td>0.8 ± 0.7%</td>\n",
       "    </tr>\n",
       "    <tr>\n",
       "      <th>distmapv1</th>\n",
       "      <td>0.1 ± 0.1%</td>\n",
       "      <td>94.8 ± 0.5%</td>\n",
       "      <td>0.1 ± 0.2%</td>\n",
       "      <td>0.1 ± 0.1%</td>\n",
       "    </tr>\n",
       "    <tr>\n",
       "      <th>distmapv2</th>\n",
       "      <td>0.0 ± 0.0%</td>\n",
       "      <td>94.8 ± 0.5%</td>\n",
       "      <td>0.0 ± 0.0%</td>\n",
       "      <td>0.0 ± 0.0%</td>\n",
       "    </tr>\n",
       "  </tbody>\n",
       "</table>\n",
       "</div>"
      ],
      "text/plain": [
       "                 f1_total    acc_total   prec_total    rec_total\n",
       "model                                                           \n",
       "combinedv2_2  32.7 ± 1.6%  95.3 ± 0.2%  42.9 ± 2.0%  32.2 ± 1.8%\n",
       "combinedv2_1  30.1 ± 1.6%  95.3 ± 0.3%  42.5 ± 2.1%  28.9 ± 1.8%\n",
       "embedding     30.0 ± 1.6%  95.3 ± 0.2%  42.7 ± 2.1%  28.9 ± 1.8%\n",
       "combinedv1     0.5 ± 0.4%  94.6 ± 0.6%   0.8 ± 0.7%   0.8 ± 0.7%\n",
       "distmapv1      0.1 ± 0.1%  94.8 ± 0.5%   0.1 ± 0.2%   0.1 ± 0.1%\n",
       "distmapv2      0.0 ± 0.0%  94.8 ± 0.5%   0.0 ± 0.0%   0.0 ± 0.0%"
      ]
     },
     "metadata": {},
     "output_type": "display_data"
    },
    {
     "name": "stderr",
     "output_type": "stream",
     "text": [
      "/tmp/ipykernel_400191/1903359553.py:7: UserWarning: Matplotlib is currently using module://matplotlib_inline.backend_inline, which is a non-GUI backend, so cannot show the figure.\n",
      "  fig.show()\n"
     ]
    },
    {
     "data": {
      "image/png": "[encoded data removed]",
      "text/plain": [
       "<Figure size 432x288 with 1 Axes>"
      ]
     },
     "metadata": {
      "needs_background": "light"
     },
     "output_type": "display_data"
    }
   ],
   "source": [
    "print(\"Total results\")\n",
    "df = performance_df[(performance_df.model in ['combinedv2_2', 'embedding']]\n",
    "display(pretty_performance(df, ['f1_total', 'acc_total', 'prec_total', 'rec_total']))\n",
    "fig, ax = plt.subplots()\n",
    "ax.set_title(\"F1 score - All predictions\")\n",
    "plot_performance(df, 'f1_total', ax)\n",
    "fig.show()"
   ]
  },
  {
   "cell_type": "code",
   "execution_count": 212,
   "metadata": {
    "scrolled": false
   },
   "outputs": [
    {
     "name": "stdout",
     "output_type": "stream",
     "text": [
      "metal\n"
     ]
    },
    {
     "data": {
      "text/html": [
       "<div>\n",
       "<style scoped>\n",
       "    .dataframe tbody tr th:only-of-type {\n",
       "        vertical-align: middle;\n",
       "    }\n",
       "\n",
       "    .dataframe tbody tr th {\n",
       "        vertical-align: top;\n",
       "    }\n",
       "\n",
       "    .dataframe thead th {\n",
       "        text-align: right;\n",
       "    }\n",
       "</style>\n",
       "<table border=\"1\" class=\"dataframe\">\n",
       "  <thead>\n",
       "    <tr style=\"text-align: right;\">\n",
       "      <th></th>\n",
       "      <th>f1_metal</th>\n",
       "      <th>acc_metal</th>\n",
       "      <th>prec_metal</th>\n",
       "      <th>rec_metal</th>\n",
       "    </tr>\n",
       "    <tr>\n",
       "      <th>model</th>\n",
       "      <th></th>\n",
       "      <th></th>\n",
       "      <th></th>\n",
       "      <th></th>\n",
       "    </tr>\n",
       "  </thead>\n",
       "  <tbody>\n",
       "    <tr>\n",
       "      <th>embedding</th>\n",
       "      <td>19.2 ± 2.0%</td>\n",
       "      <td>98.2 ± 0.2%</td>\n",
       "      <td>20.9 ± 2.2%</td>\n",
       "      <td>19.9 ± 2.2%</td>\n",
       "    </tr>\n",
       "    <tr>\n",
       "      <th>combinedv2_1</th>\n",
       "      <td>19.2 ± 2.0%</td>\n",
       "      <td>98.2 ± 0.2%</td>\n",
       "      <td>20.8 ± 2.2%</td>\n",
       "      <td>19.9 ± 2.2%</td>\n",
       "    </tr>\n",
       "    <tr>\n",
       "      <th>combinedv2_2</th>\n",
       "      <td>18.1 ± 2.0%</td>\n",
       "      <td>98.1 ± 0.2%</td>\n",
       "      <td>19.7 ± 2.2%</td>\n",
       "      <td>19.0 ± 2.1%</td>\n",
       "    </tr>\n",
       "    <tr>\n",
       "      <th>combinedv1</th>\n",
       "      <td>0.2 ± 0.3%</td>\n",
       "      <td>98.2 ± 0.4%</td>\n",
       "      <td>0.3 ± 0.5%</td>\n",
       "      <td>0.3 ± 0.5%</td>\n",
       "    </tr>\n",
       "    <tr>\n",
       "      <th>distmapv1</th>\n",
       "      <td>0.0 ± 0.0%</td>\n",
       "      <td>98.5 ± 0.3%</td>\n",
       "      <td>0.0 ± 0.0%</td>\n",
       "      <td>0.0 ± 0.0%</td>\n",
       "    </tr>\n",
       "    <tr>\n",
       "      <th>distmapv2</th>\n",
       "      <td>0.0 ± 0.0%</td>\n",
       "      <td>98.5 ± 0.3%</td>\n",
       "      <td>0.0 ± 0.0%</td>\n",
       "      <td>0.0 ± 0.0%</td>\n",
       "    </tr>\n",
       "  </tbody>\n",
       "</table>\n",
       "</div>"
      ],
      "text/plain": [
       "                 f1_metal    acc_metal   prec_metal    rec_metal\n",
       "model                                                           \n",
       "embedding     19.2 ± 2.0%  98.2 ± 0.2%  20.9 ± 2.2%  19.9 ± 2.2%\n",
       "combinedv2_1  19.2 ± 2.0%  98.2 ± 0.2%  20.8 ± 2.2%  19.9 ± 2.2%\n",
       "combinedv2_2  18.1 ± 2.0%  98.1 ± 0.2%  19.7 ± 2.2%  19.0 ± 2.1%\n",
       "combinedv1     0.2 ± 0.3%  98.2 ± 0.4%   0.3 ± 0.5%   0.3 ± 0.5%\n",
       "distmapv1      0.0 ± 0.0%  98.5 ± 0.3%   0.0 ± 0.0%   0.0 ± 0.0%\n",
       "distmapv2      0.0 ± 0.0%  98.5 ± 0.3%   0.0 ± 0.0%   0.0 ± 0.0%"
      ]
     },
     "metadata": {},
     "output_type": "display_data"
    },
    {
     "name": "stdout",
     "output_type": "stream",
     "text": [
      "small\n"
     ]
    },
    {
     "name": "stderr",
     "output_type": "stream",
     "text": [
      "/tmp/ipykernel_400191/2826265424.py:7: UserWarning: Matplotlib is currently using module://matplotlib_inline.backend_inline, which is a non-GUI backend, so cannot show the figure.\n",
      "  fig.show()\n"
     ]
    },
    {
     "data": {
      "text/html": [
       "<div>\n",
       "<style scoped>\n",
       "    .dataframe tbody tr th:only-of-type {\n",
       "        vertical-align: middle;\n",
       "    }\n",
       "\n",
       "    .dataframe tbody tr th {\n",
       "        vertical-align: top;\n",
       "    }\n",
       "\n",
       "    .dataframe thead th {\n",
       "        text-align: right;\n",
       "    }\n",
       "</style>\n",
       "<table border=\"1\" class=\"dataframe\">\n",
       "  <thead>\n",
       "    <tr style=\"text-align: right;\">\n",
       "      <th></th>\n",
       "      <th>f1_small</th>\n",
       "      <th>acc_small</th>\n",
       "      <th>prec_small</th>\n",
       "      <th>rec_small</th>\n",
       "    </tr>\n",
       "    <tr>\n",
       "      <th>model</th>\n",
       "      <th></th>\n",
       "      <th></th>\n",
       "      <th></th>\n",
       "      <th></th>\n",
       "    </tr>\n",
       "  </thead>\n",
       "  <tbody>\n",
       "    <tr>\n",
       "      <th>combinedv2_2</th>\n",
       "      <td>18.1 ± 1.5%</td>\n",
       "      <td>93.8 ± 0.4%</td>\n",
       "      <td>27.5 ± 2.2%</td>\n",
       "      <td>15.8 ± 1.4%</td>\n",
       "    </tr>\n",
       "    <tr>\n",
       "      <th>combinedv2_1</th>\n",
       "      <td>14.8 ± 1.4%</td>\n",
       "      <td>93.9 ± 0.4%</td>\n",
       "      <td>27.6 ± 2.3%</td>\n",
       "      <td>11.8 ± 1.2%</td>\n",
       "    </tr>\n",
       "    <tr>\n",
       "      <th>embedding</th>\n",
       "      <td>14.7 ± 1.4%</td>\n",
       "      <td>93.9 ± 0.4%</td>\n",
       "      <td>26.5 ± 2.3%</td>\n",
       "      <td>12.1 ± 1.3%</td>\n",
       "    </tr>\n",
       "    <tr>\n",
       "      <th>combinedv1</th>\n",
       "      <td>0.2 ± 0.3%</td>\n",
       "      <td>93.1 ± 0.9%</td>\n",
       "      <td>0.2 ± 0.3%</td>\n",
       "      <td>0.3 ± 0.4%</td>\n",
       "    </tr>\n",
       "    <tr>\n",
       "      <th>distmapv1</th>\n",
       "      <td>0.1 ± 0.2%</td>\n",
       "      <td>93.4 ± 0.9%</td>\n",
       "      <td>0.1 ± 0.2%</td>\n",
       "      <td>0.2 ± 0.3%</td>\n",
       "    </tr>\n",
       "    <tr>\n",
       "      <th>distmapv2</th>\n",
       "      <td>0.0 ± 0.0%</td>\n",
       "      <td>93.4 ± 0.8%</td>\n",
       "      <td>0.0 ± 0.0%</td>\n",
       "      <td>0.0 ± 0.0%</td>\n",
       "    </tr>\n",
       "  </tbody>\n",
       "</table>\n",
       "</div>"
      ],
      "text/plain": [
       "                 f1_small    acc_small   prec_small    rec_small\n",
       "model                                                           \n",
       "combinedv2_2  18.1 ± 1.5%  93.8 ± 0.4%  27.5 ± 2.2%  15.8 ± 1.4%\n",
       "combinedv2_1  14.8 ± 1.4%  93.9 ± 0.4%  27.6 ± 2.3%  11.8 ± 1.2%\n",
       "embedding     14.7 ± 1.4%  93.9 ± 0.4%  26.5 ± 2.3%  12.1 ± 1.3%\n",
       "combinedv1     0.2 ± 0.3%  93.1 ± 0.9%   0.2 ± 0.3%   0.3 ± 0.4%\n",
       "distmapv1      0.1 ± 0.2%  93.4 ± 0.9%   0.1 ± 0.2%   0.2 ± 0.3%\n",
       "distmapv2      0.0 ± 0.0%  93.4 ± 0.8%   0.0 ± 0.0%   0.0 ± 0.0%"
      ]
     },
     "metadata": {},
     "output_type": "display_data"
    },
    {
     "name": "stdout",
     "output_type": "stream",
     "text": [
      "nuclear\n"
     ]
    },
    {
     "name": "stderr",
     "output_type": "stream",
     "text": [
      "/tmp/ipykernel_400191/2826265424.py:7: UserWarning: Matplotlib is currently using module://matplotlib_inline.backend_inline, which is a non-GUI backend, so cannot show the figure.\n",
      "  fig.show()\n"
     ]
    },
    {
     "data": {
      "text/html": [
       "<div>\n",
       "<style scoped>\n",
       "    .dataframe tbody tr th:only-of-type {\n",
       "        vertical-align: middle;\n",
       "    }\n",
       "\n",
       "    .dataframe tbody tr th {\n",
       "        vertical-align: top;\n",
       "    }\n",
       "\n",
       "    .dataframe thead th {\n",
       "        text-align: right;\n",
       "    }\n",
       "</style>\n",
       "<table border=\"1\" class=\"dataframe\">\n",
       "  <thead>\n",
       "    <tr style=\"text-align: right;\">\n",
       "      <th></th>\n",
       "      <th>f1_nuclear</th>\n",
       "      <th>acc_nuclear</th>\n",
       "      <th>prec_nuclear</th>\n",
       "      <th>rec_nuclear</th>\n",
       "    </tr>\n",
       "    <tr>\n",
       "      <th>model</th>\n",
       "      <th></th>\n",
       "      <th></th>\n",
       "      <th></th>\n",
       "      <th></th>\n",
       "    </tr>\n",
       "  </thead>\n",
       "  <tbody>\n",
       "    <tr>\n",
       "      <th>combinedv2_1</th>\n",
       "      <td>4.9 ± 1.0%</td>\n",
       "      <td>97.5 ± 0.4%</td>\n",
       "      <td>5.2 ± 1.1%</td>\n",
       "      <td>5.5 ± 1.2%</td>\n",
       "    </tr>\n",
       "    <tr>\n",
       "      <th>embedding</th>\n",
       "      <td>4.8 ± 1.0%</td>\n",
       "      <td>97.7 ± 0.4%</td>\n",
       "      <td>5.2 ± 1.1%</td>\n",
       "      <td>5.3 ± 1.2%</td>\n",
       "    </tr>\n",
       "    <tr>\n",
       "      <th>combinedv2_2</th>\n",
       "      <td>4.8 ± 1.0%</td>\n",
       "      <td>97.6 ± 0.4%</td>\n",
       "      <td>5.3 ± 1.1%</td>\n",
       "      <td>5.4 ± 1.2%</td>\n",
       "    </tr>\n",
       "    <tr>\n",
       "      <th>combinedv1</th>\n",
       "      <td>0.0 ± 0.0%</td>\n",
       "      <td>97.7 ± 0.9%</td>\n",
       "      <td>0.0 ± 0.0%</td>\n",
       "      <td>0.0 ± 0.0%</td>\n",
       "    </tr>\n",
       "    <tr>\n",
       "      <th>distmapv1</th>\n",
       "      <td>0.0 ± 0.0%</td>\n",
       "      <td>97.7 ± 0.9%</td>\n",
       "      <td>0.0 ± 0.0%</td>\n",
       "      <td>0.0 ± 0.0%</td>\n",
       "    </tr>\n",
       "    <tr>\n",
       "      <th>distmapv2</th>\n",
       "      <td>0.0 ± 0.0%</td>\n",
       "      <td>97.7 ± 0.9%</td>\n",
       "      <td>0.0 ± 0.0%</td>\n",
       "      <td>0.0 ± 0.0%</td>\n",
       "    </tr>\n",
       "  </tbody>\n",
       "</table>\n",
       "</div>"
      ],
      "text/plain": [
       "              f1_nuclear  acc_nuclear prec_nuclear rec_nuclear\n",
       "model                                                         \n",
       "combinedv2_1  4.9 ± 1.0%  97.5 ± 0.4%   5.2 ± 1.1%  5.5 ± 1.2%\n",
       "embedding     4.8 ± 1.0%  97.7 ± 0.4%   5.2 ± 1.1%  5.3 ± 1.2%\n",
       "combinedv2_2  4.8 ± 1.0%  97.6 ± 0.4%   5.3 ± 1.1%  5.4 ± 1.2%\n",
       "combinedv1    0.0 ± 0.0%  97.7 ± 0.9%   0.0 ± 0.0%  0.0 ± 0.0%\n",
       "distmapv1     0.0 ± 0.0%  97.7 ± 0.9%   0.0 ± 0.0%  0.0 ± 0.0%\n",
       "distmapv2     0.0 ± 0.0%  97.7 ± 0.9%   0.0 ± 0.0%  0.0 ± 0.0%"
      ]
     },
     "metadata": {},
     "output_type": "display_data"
    },
    {
     "name": "stderr",
     "output_type": "stream",
     "text": [
      "/tmp/ipykernel_400191/2826265424.py:7: UserWarning: Matplotlib is currently using module://matplotlib_inline.backend_inline, which is a non-GUI backend, so cannot show the figure.\n",
      "  fig.show()\n"
     ]
    },
    {
     "data": {
      "image/png": "[encoded data removed]",
      "text/plain": [
       "<Figure size 432x288 with 1 Axes>"
      ]
     },
     "metadata": {
      "needs_background": "light"
     },
     "output_type": "display_data"
    },
    {
     "data": {
      "image/png": "[encoded data removed]",
      "text/plain": [
       "<Figure size 432x288 with 1 Axes>"
      ]
     },
     "metadata": {
      "needs_background": "light"
     },
     "output_type": "display_data"
    },
    {
     "data": {
      "image/png": "[encoded data removed]",
      "text/plain": [
       "<Figure size 432x288 with 1 Axes>"
      ]
     },
     "metadata": {
      "needs_background": "light"
     },
     "output_type": "display_data"
    }
   ],
   "source": [
    "for ligand in ligands:\n",
    "    print(ligand)\n",
    "    display(pretty_performance(df, ['f1_' + ligand, 'acc_' + ligand, 'prec_' + ligand, 'rec_' + ligand]))\n",
    "    fig, ax = plt.subplots()\n",
    "    ax.set_title(\"F1 score - \" + ligand)\n",
    "    plot_performance(df, 'f1_total', ax)\n",
    "    fig.show()"
   ]
  },
  {
   "cell_type": "markdown",
   "metadata": {},
   "source": [
    "### The best performing models are obviously combinedv2_2"
   ]
  },
  {
   "cell_type": "markdown",
   "metadata": {},
   "source": [
    "## Compare models that predict binding to any molecule"
   ]
  },
  {
   "cell_type": "code",
   "execution_count": null,
   "metadata": {},
   "outputs": [],
   "source": [
    "for binding in ['binding', 'binding_2']:\n",
    "    print(ligand)\n",
    "    display(pretty_performance(df, ['f1_' + ligand, 'acc_' + ligand, 'prec_' + ligand, 'rec_' + ligand]))\n",
    "    fig, ax = plt.subplots()\n",
    "    ax.set_title(\"F1 score - \" + ligand)\n",
    "    plot_performance(df, 'f1_total', ax)\n",
    "    fig.show()"
   ]
  },
  {
   "cell_type": "code",
   "execution_count": null,
   "metadata": {
    "scrolled": false
   },
   "outputs": [],
   "source": [
    "print(\"Small molecules\")\n",
    "pretty_performance(df, ['f1_small', 'acc_small', 'prec_small', 'rec_small'])"
   ]
  },
  {
   "cell_type": "code",
   "execution_count": 162,
   "metadata": {
    "scrolled": false
   },
   "outputs": [
    {
     "name": "stderr",
     "output_type": "stream",
     "text": [
      "/tmp/ipykernel_400191/1467676384.py:3: UserWarning: Matplotlib is currently using module://matplotlib_inline.backend_inline, which is a non-GUI backend, so cannot show the figure.\n",
      "  fig.show()\n"
     ]
    },
    {
     "data": {
      "image/png": "[encoded data removed]",
      "text/plain": [
       "<Figure size 432x288 with 1 Axes>"
      ]
     },
     "metadata": {
      "needs_background": "light"
     },
     "output_type": "display_data"
    }
   ],
   "source": [
    "fig, ax = plt.subplots()\n",
    "plot_performance(df, 'f1_total', ax)\n",
    "fig.show()"
   ]
  },
  {
   "cell_type": "code",
   "execution_count": 83,
   "metadata": {
    "scrolled": false
   },
   "outputs": [
    {
     "data": {
      "text/html": [
       "<div>\n",
       "<style scoped>\n",
       "    .dataframe tbody tr th:only-of-type {\n",
       "        vertical-align: middle;\n",
       "    }\n",
       "\n",
       "    .dataframe tbody tr th {\n",
       "        vertical-align: top;\n",
       "    }\n",
       "\n",
       "    .dataframe thead th {\n",
       "        text-align: right;\n",
       "    }\n",
       "</style>\n",
       "<table border=\"1\" class=\"dataframe\">\n",
       "  <thead>\n",
       "    <tr style=\"text-align: right;\">\n",
       "      <th></th>\n",
       "      <th>run</th>\n",
       "      <th>pLDDT_filter</th>\n",
       "      <th>prot_length_filter</th>\n",
       "      <th>f1_total</th>\n",
       "      <th>f1_total_ci</th>\n",
       "      <th>f1_binding</th>\n",
       "      <th>f1_binding_ci</th>\n",
       "    </tr>\n",
       "  </thead>\n",
       "  <tbody>\n",
       "    <tr>\n",
       "      <th>9</th>\n",
       "      <td>202207131414_embedding</td>\n",
       "      <td>0</td>\n",
       "      <td>811</td>\n",
       "      <td>0.301</td>\n",
       "      <td>0.016</td>\n",
       "      <td>0.294</td>\n",
       "      <td>0.017</td>\n",
       "    </tr>\n",
       "    <tr>\n",
       "      <th>7</th>\n",
       "      <td>202207121113_embedding</td>\n",
       "      <td>70</td>\n",
       "      <td>540</td>\n",
       "      <td>0.300</td>\n",
       "      <td>0.016</td>\n",
       "      <td>0.297</td>\n",
       "      <td>0.017</td>\n",
       "    </tr>\n",
       "    <tr>\n",
       "      <th>8</th>\n",
       "      <td>202207131333_embedding</td>\n",
       "      <td>70</td>\n",
       "      <td>811</td>\n",
       "      <td>0.293</td>\n",
       "      <td>0.016</td>\n",
       "      <td>0.294</td>\n",
       "      <td>0.017</td>\n",
       "    </tr>\n",
       "  </tbody>\n",
       "</table>\n",
       "</div>"
      ],
      "text/plain": [
       "                      run  pLDDT_filter  prot_length_filter  f1_total  \\\n",
       "9  202207131414_embedding             0                 811     0.301   \n",
       "7  202207121113_embedding            70                 540     0.300   \n",
       "8  202207131333_embedding            70                 811     0.293   \n",
       "\n",
       "   f1_total_ci  f1_binding  f1_binding_ci  \n",
       "9        0.016       0.294          0.017  \n",
       "7        0.016       0.297          0.017  \n",
       "8        0.016       0.294          0.017  "
      ]
     },
     "execution_count": 83,
     "metadata": {},
     "output_type": "execute_result"
    }
   ],
   "source": []
  },
  {
   "cell_type": "code",
   "execution_count": 3,
   "metadata": {
    "pycharm": {
     "name": "#%%\n"
    },
    "scrolled": false
   },
   "outputs": [],
   "source": [
    "#tags = ['emb_filtered', 'emb_total', 'emb_binary_filtered', 'cnn_combined_2', 'cnn_combined_3', 'cnn_combined_binary_3']\n",
    "tags = ['emb_filtered', 'cnn_combined_3']\n",
    "\n",
    "\n",
    "performance_df = {tag: read_performance_df(tag) for tag in tags}\n",
    "\n",
    "predictions_df = {tag: read_predictions_df(tag) for tag in tags}"
   ]
  },
  {
   "cell_type": "code",
   "execution_count": 7,
   "metadata": {
    "pycharm": {
     "name": "#%%\n"
    },
    "scrolled": false
   },
   "outputs": [],
   "source": [
    "df = predictions_df['emb_filtered']\n",
    "perf = Performance.df_to_performance(df[df.cutoff == 0.5], is_train=False)"
   ]
  },
  {
   "cell_type": "code",
   "execution_count": 16,
   "metadata": {
    "pycharm": {
     "name": "#%%\n"
    },
    "scrolled": false
   },
   "outputs": [
    {
     "name": "stdout",
     "output_type": "stream",
     "text": [
      "{'mcc': '0.35 ± 0.03 %', 'f1': '0.33 ± 0.03 %', 'rec': '0.293 ± 0.03 %', 'prec': '0.54 ± 0.04 %'}\n"
     ]
    },
    {
     "ename": "ValueError",
     "evalue": "If using all scalar values, you must pass an index",
     "output_type": "error",
     "traceback": [
      "\u001b[0;31m---------------------------------------------------------------------------\u001b[0m",
      "\u001b[0;31mValueError\u001b[0m                                Traceback (most recent call last)",
      "Input \u001b[0;32mIn [16]\u001b[0m, in \u001b[0;36m<cell line: 3>\u001b[0;34m()\u001b[0m\n\u001b[1;32m      1\u001b[0m perf\u001b[38;5;241m.\u001b[39mto_dict()\n\u001b[1;32m      2\u001b[0m fig, ax \u001b[38;5;241m=\u001b[39m plt\u001b[38;5;241m.\u001b[39msubplots()\n\u001b[0;32m----> 3\u001b[0m \u001b[43mPlots\u001b[49m\u001b[38;5;241;43m.\u001b[39;49m\u001b[43mplot_performance_table\u001b[49m\u001b[43m(\u001b[49m\u001b[43mperf\u001b[49m\u001b[38;5;241;43m.\u001b[39;49m\u001b[43mto_dict\u001b[49m\u001b[43m(\u001b[49m\u001b[43m)\u001b[49m\u001b[43m,\u001b[49m\u001b[43m \u001b[49m\u001b[43max\u001b[49m\u001b[38;5;241;43m=\u001b[39;49m\u001b[43max\u001b[49m\u001b[43m,\u001b[49m\u001b[43m \u001b[49m\u001b[43mclass_label\u001b[49m\u001b[38;5;241;43m=\u001b[39;49m\u001b[38;5;124;43m'\u001b[39;49m\u001b[38;5;124;43mtotal\u001b[39;49m\u001b[38;5;124;43m'\u001b[39;49m\u001b[43m)\u001b[49m\n\u001b[1;32m      4\u001b[0m fig\u001b[38;5;241m.\u001b[39mshow()\n",
      "File \u001b[0;32m~/Projects/Python/bind-af2-embed/src/plots.py:239\u001b[0m, in \u001b[0;36mPlots.plot_performance_table\u001b[0;34m(metrics, ax, class_label)\u001b[0m\n\u001b[1;32m    237\u001b[0m results \u001b[38;5;241m=\u001b[39m {labels[i]: \u001b[38;5;124mf\u001b[39m\u001b[38;5;124m'\u001b[39m\u001b[38;5;132;01m{\u001b[39;00m\u001b[38;5;28mstr\u001b[39m(means[i])\u001b[38;5;132;01m}\u001b[39;00m\u001b[38;5;124m ± %0.2f %%\u001b[39m\u001b[38;5;124m'\u001b[39m \u001b[38;5;241m%\u001b[39m cis[i] \u001b[38;5;28;01mfor\u001b[39;00m i \u001b[38;5;129;01min\u001b[39;00m \u001b[38;5;28mrange\u001b[39m(\u001b[38;5;28mlen\u001b[39m(labels))}\n\u001b[1;32m    238\u001b[0m \u001b[38;5;28mprint\u001b[39m(results)\n\u001b[0;32m--> 239\u001b[0m df \u001b[38;5;241m=\u001b[39m \u001b[43mpd\u001b[49m\u001b[38;5;241;43m.\u001b[39;49m\u001b[43mDataFrame\u001b[49m\u001b[38;5;241;43m.\u001b[39;49m\u001b[43mfrom_dict\u001b[49m\u001b[43m(\u001b[49m\u001b[43mresults\u001b[49m\u001b[43m)\u001b[49m\n\u001b[1;32m    240\u001b[0m \u001b[38;5;28mprint\u001b[39m(df)\n\u001b[1;32m    241\u001b[0m ax\u001b[38;5;241m.\u001b[39mtable(cellText\u001b[38;5;241m=\u001b[39mdf\u001b[38;5;241m.\u001b[39mvalues, colLabels\u001b[38;5;241m=\u001b[39mdf\u001b[38;5;241m.\u001b[39mcolumns, loc\u001b[38;5;241m=\u001b[39m\u001b[38;5;124m'\u001b[39m\u001b[38;5;124mcenter\u001b[39m\u001b[38;5;124m'\u001b[39m)\n",
      "File \u001b[0;32m~/Projects/Python/bind-af2-embed/venv/lib/python3.8/site-packages/pandas/core/frame.py:1677\u001b[0m, in \u001b[0;36mDataFrame.from_dict\u001b[0;34m(cls, data, orient, dtype, columns)\u001b[0m\n\u001b[1;32m   1674\u001b[0m     \u001b[38;5;28;01mraise\u001b[39;00m \u001b[38;5;167;01mValueError\u001b[39;00m(\u001b[38;5;124m\"\u001b[39m\u001b[38;5;124monly recognize index or columns for orient\u001b[39m\u001b[38;5;124m\"\u001b[39m)\n\u001b[1;32m   1676\u001b[0m \u001b[38;5;28;01mif\u001b[39;00m orient \u001b[38;5;241m!=\u001b[39m \u001b[38;5;124m\"\u001b[39m\u001b[38;5;124mtight\u001b[39m\u001b[38;5;124m\"\u001b[39m:\n\u001b[0;32m-> 1677\u001b[0m     \u001b[38;5;28;01mreturn\u001b[39;00m \u001b[38;5;28;43mcls\u001b[39;49m\u001b[43m(\u001b[49m\u001b[43mdata\u001b[49m\u001b[43m,\u001b[49m\u001b[43m \u001b[49m\u001b[43mindex\u001b[49m\u001b[38;5;241;43m=\u001b[39;49m\u001b[43mindex\u001b[49m\u001b[43m,\u001b[49m\u001b[43m \u001b[49m\u001b[43mcolumns\u001b[49m\u001b[38;5;241;43m=\u001b[39;49m\u001b[43mcolumns\u001b[49m\u001b[43m,\u001b[49m\u001b[43m \u001b[49m\u001b[43mdtype\u001b[49m\u001b[38;5;241;43m=\u001b[39;49m\u001b[43mdtype\u001b[49m\u001b[43m)\u001b[49m\n\u001b[1;32m   1678\u001b[0m \u001b[38;5;28;01melse\u001b[39;00m:\n\u001b[1;32m   1679\u001b[0m     realdata \u001b[38;5;241m=\u001b[39m data[\u001b[38;5;124m\"\u001b[39m\u001b[38;5;124mdata\u001b[39m\u001b[38;5;124m\"\u001b[39m]\n",
      "File \u001b[0;32m~/Projects/Python/bind-af2-embed/venv/lib/python3.8/site-packages/pandas/core/frame.py:636\u001b[0m, in \u001b[0;36mDataFrame.__init__\u001b[0;34m(self, data, index, columns, dtype, copy)\u001b[0m\n\u001b[1;32m    630\u001b[0m     mgr \u001b[38;5;241m=\u001b[39m \u001b[38;5;28mself\u001b[39m\u001b[38;5;241m.\u001b[39m_init_mgr(\n\u001b[1;32m    631\u001b[0m         data, axes\u001b[38;5;241m=\u001b[39m{\u001b[38;5;124m\"\u001b[39m\u001b[38;5;124mindex\u001b[39m\u001b[38;5;124m\"\u001b[39m: index, \u001b[38;5;124m\"\u001b[39m\u001b[38;5;124mcolumns\u001b[39m\u001b[38;5;124m\"\u001b[39m: columns}, dtype\u001b[38;5;241m=\u001b[39mdtype, copy\u001b[38;5;241m=\u001b[39mcopy\n\u001b[1;32m    632\u001b[0m     )\n\u001b[1;32m    634\u001b[0m \u001b[38;5;28;01melif\u001b[39;00m \u001b[38;5;28misinstance\u001b[39m(data, \u001b[38;5;28mdict\u001b[39m):\n\u001b[1;32m    635\u001b[0m     \u001b[38;5;66;03m# GH#38939 de facto copy defaults to False only in non-dict cases\u001b[39;00m\n\u001b[0;32m--> 636\u001b[0m     mgr \u001b[38;5;241m=\u001b[39m \u001b[43mdict_to_mgr\u001b[49m\u001b[43m(\u001b[49m\u001b[43mdata\u001b[49m\u001b[43m,\u001b[49m\u001b[43m \u001b[49m\u001b[43mindex\u001b[49m\u001b[43m,\u001b[49m\u001b[43m \u001b[49m\u001b[43mcolumns\u001b[49m\u001b[43m,\u001b[49m\u001b[43m \u001b[49m\u001b[43mdtype\u001b[49m\u001b[38;5;241;43m=\u001b[39;49m\u001b[43mdtype\u001b[49m\u001b[43m,\u001b[49m\u001b[43m \u001b[49m\u001b[43mcopy\u001b[49m\u001b[38;5;241;43m=\u001b[39;49m\u001b[43mcopy\u001b[49m\u001b[43m,\u001b[49m\u001b[43m \u001b[49m\u001b[43mtyp\u001b[49m\u001b[38;5;241;43m=\u001b[39;49m\u001b[43mmanager\u001b[49m\u001b[43m)\u001b[49m\n\u001b[1;32m    637\u001b[0m \u001b[38;5;28;01melif\u001b[39;00m \u001b[38;5;28misinstance\u001b[39m(data, ma\u001b[38;5;241m.\u001b[39mMaskedArray):\n\u001b[1;32m    638\u001b[0m     \u001b[38;5;28;01mimport\u001b[39;00m \u001b[38;5;21;01mnumpy\u001b[39;00m\u001b[38;5;21;01m.\u001b[39;00m\u001b[38;5;21;01mma\u001b[39;00m\u001b[38;5;21;01m.\u001b[39;00m\u001b[38;5;21;01mmrecords\u001b[39;00m \u001b[38;5;28;01mas\u001b[39;00m \u001b[38;5;21;01mmrecords\u001b[39;00m\n",
      "File \u001b[0;32m~/Projects/Python/bind-af2-embed/venv/lib/python3.8/site-packages/pandas/core/internals/construction.py:502\u001b[0m, in \u001b[0;36mdict_to_mgr\u001b[0;34m(data, index, columns, dtype, typ, copy)\u001b[0m\n\u001b[1;32m    494\u001b[0m     arrays \u001b[38;5;241m=\u001b[39m [\n\u001b[1;32m    495\u001b[0m         x\n\u001b[1;32m    496\u001b[0m         \u001b[38;5;28;01mif\u001b[39;00m \u001b[38;5;129;01mnot\u001b[39;00m \u001b[38;5;28mhasattr\u001b[39m(x, \u001b[38;5;124m\"\u001b[39m\u001b[38;5;124mdtype\u001b[39m\u001b[38;5;124m\"\u001b[39m) \u001b[38;5;129;01mor\u001b[39;00m \u001b[38;5;129;01mnot\u001b[39;00m \u001b[38;5;28misinstance\u001b[39m(x\u001b[38;5;241m.\u001b[39mdtype, ExtensionDtype)\n\u001b[1;32m    497\u001b[0m         \u001b[38;5;28;01melse\u001b[39;00m x\u001b[38;5;241m.\u001b[39mcopy()\n\u001b[1;32m    498\u001b[0m         \u001b[38;5;28;01mfor\u001b[39;00m x \u001b[38;5;129;01min\u001b[39;00m arrays\n\u001b[1;32m    499\u001b[0m     ]\n\u001b[1;32m    500\u001b[0m     \u001b[38;5;66;03m# TODO: can we get rid of the dt64tz special case above?\u001b[39;00m\n\u001b[0;32m--> 502\u001b[0m \u001b[38;5;28;01mreturn\u001b[39;00m \u001b[43marrays_to_mgr\u001b[49m\u001b[43m(\u001b[49m\u001b[43marrays\u001b[49m\u001b[43m,\u001b[49m\u001b[43m \u001b[49m\u001b[43mcolumns\u001b[49m\u001b[43m,\u001b[49m\u001b[43m \u001b[49m\u001b[43mindex\u001b[49m\u001b[43m,\u001b[49m\u001b[43m \u001b[49m\u001b[43mdtype\u001b[49m\u001b[38;5;241;43m=\u001b[39;49m\u001b[43mdtype\u001b[49m\u001b[43m,\u001b[49m\u001b[43m \u001b[49m\u001b[43mtyp\u001b[49m\u001b[38;5;241;43m=\u001b[39;49m\u001b[43mtyp\u001b[49m\u001b[43m,\u001b[49m\u001b[43m \u001b[49m\u001b[43mconsolidate\u001b[49m\u001b[38;5;241;43m=\u001b[39;49m\u001b[43mcopy\u001b[49m\u001b[43m)\u001b[49m\n",
      "File \u001b[0;32m~/Projects/Python/bind-af2-embed/venv/lib/python3.8/site-packages/pandas/core/internals/construction.py:120\u001b[0m, in \u001b[0;36marrays_to_mgr\u001b[0;34m(arrays, columns, index, dtype, verify_integrity, typ, consolidate)\u001b[0m\n\u001b[1;32m    117\u001b[0m \u001b[38;5;28;01mif\u001b[39;00m verify_integrity:\n\u001b[1;32m    118\u001b[0m     \u001b[38;5;66;03m# figure out the index, if necessary\u001b[39;00m\n\u001b[1;32m    119\u001b[0m     \u001b[38;5;28;01mif\u001b[39;00m index \u001b[38;5;129;01mis\u001b[39;00m \u001b[38;5;28;01mNone\u001b[39;00m:\n\u001b[0;32m--> 120\u001b[0m         index \u001b[38;5;241m=\u001b[39m \u001b[43m_extract_index\u001b[49m\u001b[43m(\u001b[49m\u001b[43marrays\u001b[49m\u001b[43m)\u001b[49m\n\u001b[1;32m    121\u001b[0m     \u001b[38;5;28;01melse\u001b[39;00m:\n\u001b[1;32m    122\u001b[0m         index \u001b[38;5;241m=\u001b[39m ensure_index(index)\n",
      "File \u001b[0;32m~/Projects/Python/bind-af2-embed/venv/lib/python3.8/site-packages/pandas/core/internals/construction.py:664\u001b[0m, in \u001b[0;36m_extract_index\u001b[0;34m(data)\u001b[0m\n\u001b[1;32m    661\u001b[0m         \u001b[38;5;28;01mraise\u001b[39;00m \u001b[38;5;167;01mValueError\u001b[39;00m(\u001b[38;5;124m\"\u001b[39m\u001b[38;5;124mPer-column arrays must each be 1-dimensional\u001b[39m\u001b[38;5;124m\"\u001b[39m)\n\u001b[1;32m    663\u001b[0m \u001b[38;5;28;01mif\u001b[39;00m \u001b[38;5;129;01mnot\u001b[39;00m indexes \u001b[38;5;129;01mand\u001b[39;00m \u001b[38;5;129;01mnot\u001b[39;00m raw_lengths:\n\u001b[0;32m--> 664\u001b[0m     \u001b[38;5;28;01mraise\u001b[39;00m \u001b[38;5;167;01mValueError\u001b[39;00m(\u001b[38;5;124m\"\u001b[39m\u001b[38;5;124mIf using all scalar values, you must pass an index\u001b[39m\u001b[38;5;124m\"\u001b[39m)\n\u001b[1;32m    666\u001b[0m \u001b[38;5;28;01melif\u001b[39;00m have_series:\n\u001b[1;32m    667\u001b[0m     index \u001b[38;5;241m=\u001b[39m union_indexes(indexes)\n",
      "\u001b[0;31mValueError\u001b[0m: If using all scalar values, you must pass an index"
     ]
    },
    {
     "data": {
      "image/png": "[encoded data removed]",
      "text/plain": [
       "<Figure size 432x288 with 1 Axes>"
      ]
     },
     "metadata": {
      "needs_background": "light"
     },
     "output_type": "display_data"
    }
   ],
   "source": [
    "perf.to_dict()\n",
    "fig, ax = plt.subplots()\n",
    "Plots.plot_performance_table(perf.to_dict(), ax=ax, class_label='total')\n",
    "fig.show()"
   ]
  },
  {
   "cell_type": "code",
   "execution_count": null,
   "metadata": {
    "pycharm": {
     "name": "#%%\n"
    },
    "scrolled": false
   },
   "outputs": [],
   "source": [
    "def get_mean_ci(vec):\n",
    "    \"\"\"\n",
    "    Calculate mean and 95% CI for a given vector\n",
    "    :param vec: vector\n",
    "    :return: mean and ci\n",
    "    \"\"\"\n",
    "    mean = round(np.average(vec), 3)\n",
    "    if len(vec) > 1:\n",
    "        ci = round(np.std(vec)/math.sqrt(len(vec)) * t.ppf((1 + 0.95) / 2, len(vec)), 3)\n",
    "    else:\n",
    "        ci = 0\n",
    "\n",
    "    return mean, ci\n",
    "\n",
    "ci_values_per_tag = {}\n",
    "for tag, df in performance_df.items():\n",
    "    columns = df.columns[1:-2]\n",
    "    ci_values = {}\n",
    "    for column in columns:\n",
    "        mean, ci = get_mean_ci(df[0:-1][column])\n",
    "        ci_values[column] = f'{str(mean)} ± %0.2f' % ci\n",
    "    ci_values_per_tag[tag] = ci_values\n",
    "\n",
    "df=pd.DataFrame.from_dict(ci_values_per_tag, orient='index')\n",
    "df.to_csv('stats.csv')\n",
    "#     mean, ci = get_mean_ci(df[0:-1].f1_total)\n",
    "#     print(df[0:-1])\n",
    "#     print(f'{tag}: f1 total = {str(mean)} +- {str(ci)}')               "
   ]
  },
  {
   "cell_type": "code",
   "execution_count": 20,
   "metadata": {
    "pycharm": {
     "name": "#%%\n"
    },
    "scrolled": false
   },
   "outputs": [],
   "source": [
    "def get_mean_ci(vec):\n",
    "    \"\"\"\n",
    "    Calculate mean and 95% CI for a given vector\n",
    "    :param vec: vector\n",
    "    :return: mean and ci\n",
    "    \"\"\"\n",
    "    mean = round(np.average(vec), 3)\n",
    "    if len(vec) > 1:\n",
    "        ci = round(np.std(vec)/math.sqrt(len(vec)) * t.ppf((1 + 0.95) / 2, len(vec)), 3)\n",
    "    else:\n",
    "        ci = 0\n",
    "\n",
    "    return mean, ci\n",
    "\n",
    "ci_values_per_tag = {}\n",
    "for tag, df in performance_df.items():\n",
    "    columns = df.columns[1:-2]\n",
    "    ci_values = {}\n",
    "    for column in columns:\n",
    "        mean, ci = get_mean_ci(df[0:-1][column])\n",
    "        ci_values[column] = f'{str(mean)} ± %0.2f' % ci\n",
    "    ci_values_per_tag[tag] = ci_values\n",
    "\n",
    "df=pd.DataFrame.from_dict(ci_values_per_tag, orient='index')\n",
    "df.to_csv('stats.csv')\n",
    "#     mean, ci = get_mean_ci(df[0:-1].f1_total)\n",
    "#     print(df[0:-1])\n",
    "#     print(f'{tag}: f1 total = {str(mean)} +- {str(ci)}')               "
   ]
  },
  {
   "cell_type": "code",
   "execution_count": 21,
   "metadata": {
    "pycharm": {
     "name": "#%%\n"
    },
    "scrolled": false
   },
   "outputs": [
    {
     "data": {
      "image/png": "[encoded data removed]",
      "text/plain": [
       "<Figure size 432x288 with 1 Axes>"
      ]
     },
     "metadata": {
      "needs_background": "light"
     },
     "output_type": "display_data"
    }
   ],
   "source": [
    "def plot_roc(y_true, y_score, tag: str, ax: plt.axes, col: str):\n",
    "    fpr, tpr, _ = roc_curve(y_true, y_score)\n",
    "    roc_auc = auc(fpr, tpr)\n",
    "\n",
    "    ax.plot(\n",
    "        fpr,\n",
    "        tpr,\n",
    "        color=col,\n",
    "        lw=2,\n",
    "        label=f\"{tag} (area = %0.2f)\" % roc_auc,\n",
    "    )\n",
    "\n",
    "def get_df(df, ligand=None):\n",
    "    if ligand is None:\n",
    "        return df\n",
    "    return df[df.ligand == ligand]\n",
    "    \n",
    "fig, ax = plt.subplots()\n",
    "colors = [\"darkorange\",\"green\", \"blue\"]\n",
    "def plot_rocs(ligand=None):\n",
    "    i = 0\n",
    "    for tag, df in predictions_df.items():\n",
    "        plot_roc(get_df(df, ligand=ligand)['target'], get_df(df,ligand=ligand)['prediction'], tag, ax,col=colors[i])\n",
    "        i+=1\n",
    "\n",
    "    ax.plot([0, 1], [0, 1], color=\"navy\", lw=2, linestyle=\"--\")\n",
    "    ax.set_xlim([0.0, 1.0])\n",
    "    ax.set_ylim([0.0, 1.05])\n",
    "    ax.set_xlabel(\"False Positive Rate\")\n",
    "    ax.set_ylabel(\"True Positive Rate\")\n",
    "    ax.set_title(\"ROC curve\" )\n",
    "    ax.legend(loc=\"lower right\")\n",
    "plot_rocs()\n",
    "#plot_rocs(ligand='binding')"
   ]
  },
  {
   "cell_type": "code",
   "execution_count": 5,
   "metadata": {
    "pycharm": {
     "name": "#%%\n"
    },
    "scrolled": false
   },
   "outputs": [],
   "source": [
    "counts = df[['target', 'prediction']].value_counts()\n",
    "tp = counts.loc[(1,1)] / sum(counts)\n",
    "fp = counts.loc[(0,1)] / sum(counts)\n",
    "tn = counts.loc[(0,0)] / sum(counts)\n",
    "fn = counts.loc[(1,0)] / sum(counts)"
   ]
  },
  {
   "cell_type": "code",
   "execution_count": 6,
   "metadata": {
    "pycharm": {
     "name": "#%%\n"
    },
    "scrolled": false
   },
   "outputs": [
    {
     "data": {
      "text/html": [
       "<div>\n",
       "<style scoped>\n",
       "    .dataframe tbody tr th:only-of-type {\n",
       "        vertical-align: middle;\n",
       "    }\n",
       "\n",
       "    .dataframe tbody tr th {\n",
       "        vertical-align: top;\n",
       "    }\n",
       "\n",
       "    .dataframe thead th {\n",
       "        text-align: right;\n",
       "    }\n",
       "</style>\n",
       "<table border=\"1\" class=\"dataframe\">\n",
       "  <thead>\n",
       "    <tr style=\"text-align: right;\">\n",
       "      <th></th>\n",
       "      <th>tag</th>\n",
       "      <th>protd_id</th>\n",
       "      <th>position</th>\n",
       "      <th>ligand</th>\n",
       "      <th>target</th>\n",
       "      <th>prediction</th>\n",
       "      <th>cutoff</th>\n",
       "      <th>ri</th>\n",
       "      <th>prob</th>\n",
       "      <th>loss</th>\n",
       "    </tr>\n",
       "  </thead>\n",
       "  <tbody>\n",
       "    <tr>\n",
       "      <th>393</th>\n",
       "      <td>test</td>\n",
       "      <td>O25094</td>\n",
       "      <td>33</td>\n",
       "      <td>small</td>\n",
       "      <td>1.0</td>\n",
       "      <td>1</td>\n",
       "      <td>0.5</td>\n",
       "      <td>1.026</td>\n",
       "      <td>0.557</td>\n",
       "      <td>0.000</td>\n",
       "    </tr>\n",
       "    <tr>\n",
       "      <th>397</th>\n",
       "      <td>test</td>\n",
       "      <td>O25094</td>\n",
       "      <td>37</td>\n",
       "      <td>small</td>\n",
       "      <td>1.0</td>\n",
       "      <td>1</td>\n",
       "      <td>0.5</td>\n",
       "      <td>0.396</td>\n",
       "      <td>0.522</td>\n",
       "      <td>0.000</td>\n",
       "    </tr>\n",
       "    <tr>\n",
       "      <th>450</th>\n",
       "      <td>test</td>\n",
       "      <td>O25094</td>\n",
       "      <td>90</td>\n",
       "      <td>small</td>\n",
       "      <td>1.0</td>\n",
       "      <td>1</td>\n",
       "      <td>0.5</td>\n",
       "      <td>0.180</td>\n",
       "      <td>0.510</td>\n",
       "      <td>0.000</td>\n",
       "    </tr>\n",
       "    <tr>\n",
       "      <th>451</th>\n",
       "      <td>test</td>\n",
       "      <td>O25094</td>\n",
       "      <td>91</td>\n",
       "      <td>small</td>\n",
       "      <td>1.0</td>\n",
       "      <td>1</td>\n",
       "      <td>0.5</td>\n",
       "      <td>0.864</td>\n",
       "      <td>0.548</td>\n",
       "      <td>0.000</td>\n",
       "    </tr>\n",
       "    <tr>\n",
       "      <th>452</th>\n",
       "      <td>test</td>\n",
       "      <td>O25094</td>\n",
       "      <td>92</td>\n",
       "      <td>small</td>\n",
       "      <td>1.0</td>\n",
       "      <td>0</td>\n",
       "      <td>0.5</td>\n",
       "      <td>0.486</td>\n",
       "      <td>0.473</td>\n",
       "      <td>0.000</td>\n",
       "    </tr>\n",
       "    <tr>\n",
       "      <th>...</th>\n",
       "      <td>...</td>\n",
       "      <td>...</td>\n",
       "      <td>...</td>\n",
       "      <td>...</td>\n",
       "      <td>...</td>\n",
       "      <td>...</td>\n",
       "      <td>...</td>\n",
       "      <td>...</td>\n",
       "      <td>...</td>\n",
       "      <td>...</td>\n",
       "    </tr>\n",
       "    <tr>\n",
       "      <th>250662</th>\n",
       "      <td>test</td>\n",
       "      <td>Q9HAN9</td>\n",
       "      <td>185</td>\n",
       "      <td>binding</td>\n",
       "      <td>1.0</td>\n",
       "      <td>0</td>\n",
       "      <td>0.5</td>\n",
       "      <td>3.996</td>\n",
       "      <td>0.278</td>\n",
       "      <td>627.031</td>\n",
       "    </tr>\n",
       "    <tr>\n",
       "      <th>250691</th>\n",
       "      <td>test</td>\n",
       "      <td>Q9HAN9</td>\n",
       "      <td>214</td>\n",
       "      <td>binding</td>\n",
       "      <td>1.0</td>\n",
       "      <td>0</td>\n",
       "      <td>0.5</td>\n",
       "      <td>8.874</td>\n",
       "      <td>0.007</td>\n",
       "      <td>2245.562</td>\n",
       "    </tr>\n",
       "    <tr>\n",
       "      <th>250695</th>\n",
       "      <td>test</td>\n",
       "      <td>Q9HAN9</td>\n",
       "      <td>218</td>\n",
       "      <td>binding</td>\n",
       "      <td>1.0</td>\n",
       "      <td>0</td>\n",
       "      <td>0.5</td>\n",
       "      <td>5.400</td>\n",
       "      <td>0.200</td>\n",
       "      <td>1334.799</td>\n",
       "    </tr>\n",
       "    <tr>\n",
       "      <th>250696</th>\n",
       "      <td>test</td>\n",
       "      <td>Q9HAN9</td>\n",
       "      <td>219</td>\n",
       "      <td>binding</td>\n",
       "      <td>1.0</td>\n",
       "      <td>0</td>\n",
       "      <td>0.5</td>\n",
       "      <td>3.600</td>\n",
       "      <td>0.300</td>\n",
       "      <td>862.029</td>\n",
       "    </tr>\n",
       "    <tr>\n",
       "      <th>250745</th>\n",
       "      <td>test</td>\n",
       "      <td>Q9HAN9</td>\n",
       "      <td>268</td>\n",
       "      <td>binding</td>\n",
       "      <td>1.0</td>\n",
       "      <td>0</td>\n",
       "      <td>0.5</td>\n",
       "      <td>9.000</td>\n",
       "      <td>0.000</td>\n",
       "      <td>4472.968</td>\n",
       "    </tr>\n",
       "  </tbody>\n",
       "</table>\n",
       "<p>12126 rows × 10 columns</p>\n",
       "</div>"
      ],
      "text/plain": [
       "         tag protd_id  position   ligand  target  prediction  cutoff     ri  \\\n",
       "393     test   O25094        33    small     1.0           1     0.5  1.026   \n",
       "397     test   O25094        37    small     1.0           1     0.5  0.396   \n",
       "450     test   O25094        90    small     1.0           1     0.5  0.180   \n",
       "451     test   O25094        91    small     1.0           1     0.5  0.864   \n",
       "452     test   O25094        92    small     1.0           0     0.5  0.486   \n",
       "...      ...      ...       ...      ...     ...         ...     ...    ...   \n",
       "250662  test   Q9HAN9       185  binding     1.0           0     0.5  3.996   \n",
       "250691  test   Q9HAN9       214  binding     1.0           0     0.5  8.874   \n",
       "250695  test   Q9HAN9       218  binding     1.0           0     0.5  5.400   \n",
       "250696  test   Q9HAN9       219  binding     1.0           0     0.5  3.600   \n",
       "250745  test   Q9HAN9       268  binding     1.0           0     0.5  9.000   \n",
       "\n",
       "         prob      loss  \n",
       "393     0.557     0.000  \n",
       "397     0.522     0.000  \n",
       "450     0.510     0.000  \n",
       "451     0.548     0.000  \n",
       "452     0.473     0.000  \n",
       "...       ...       ...  \n",
       "250662  0.278   627.031  \n",
       "250691  0.007  2245.562  \n",
       "250695  0.200  1334.799  \n",
       "250696  0.300   862.029  \n",
       "250745  0.000  4472.968  \n",
       "\n",
       "[12126 rows x 10 columns]"
      ]
     },
     "execution_count": 6,
     "metadata": {},
     "output_type": "execute_result"
    }
   ],
   "source": [
    "df[df.target == 1]"
   ]
  },
  {
   "cell_type": "code",
   "execution_count": 45,
   "metadata": {
    "pycharm": {
     "name": "#%%\n"
    },
    "scrolled": false
   },
   "outputs": [
    {
     "data": {
      "text/plain": [
       "136.207361801911"
      ]
     },
     "execution_count": 45,
     "metadata": {},
     "output_type": "execute_result"
    }
   ],
   "source": [
    "df.loss.mean()"
   ]
  },
  {
   "cell_type": "code",
   "execution_count": 64,
   "metadata": {
    "pycharm": {
     "name": "#%%\n"
    },
    "scrolled": false
   },
   "outputs": [
    {
     "name": "stderr",
     "output_type": "stream",
     "text": [
      "/tmp/ipykernel_7867/3335055868.py:20: UserWarning: Matplotlib is currently using module://matplotlib_inline.backend_inline, which is a non-GUI backend, so cannot show the figure.\n",
      "  fig.show()\n"
     ]
    },
    {
     "data": {
      "image/png": "[encoded data removed]",
      "text/plain": [
       "<Figure size 432x288 with 1 Axes>"
      ]
     },
     "metadata": {
      "needs_background": "light"
     },
     "output_type": "display_data"
    }
   ],
   "source": [
    "import numpy as np\n",
    "from ml.common import Performance\n",
    "import matplotlib.pyplot as plt\n",
    "\n",
    "cutoffs = df.cutoff.unique()\n",
    "rec = []\n",
    "prec = []\n",
    "covonebind = []\n",
    "for cutoff in cutoffs:\n",
    "    performance = Performance.df_to_performance(df[df.cutoff==cutoff])\n",
    "    rec.append(performance['rec_total'])\n",
    "    prec.append(performance['prec_total'])\n",
    "    covonebind.append(performance['covonebind_total'])\n",
    "\n",
    "fig, ax = plt.subplots()\n",
    "ax.plot(cutoffs, rec,color='green', label='Recall')\n",
    "ax.plot(cutoffs, prec,color='blue', label='Precission')\n",
    "ax.plot(cutoffs, covonebind,color='orange', label = \"CovOneBind\")\n",
    "ax.legend()\n",
    "fig.show()"
   ]
  },
  {
   "cell_type": "code",
   "execution_count": 46,
   "metadata": {
    "pycharm": {
     "name": "#%%\n"
    },
    "scrolled": false
   },
   "outputs": [
    {
     "name": "stdout",
     "output_type": "stream",
     "text": [
      "1e-05\n"
     ]
    },
    {
     "name": "stderr",
     "output_type": "stream",
     "text": [
      "/tmp/ipykernel_7867/2613190845.py:1: FutureWarning: Indexing with multiple keys (implicitly converted to a tuple of keys) will be deprecated, use a list instead.\n",
      "  df1 = df.groupby('protd_id')['prediction', 'target'].sum()\n"
     ]
    }
   ],
   "source": [
    "df1 = df.groupby('protd_id')['prediction', 'target'].sum()\n",
    "covonebind = len(df1[df1.prediction > 0])/len(df1[df1.target > 0])\n",
    "print(1e-5)"
   ]
  },
  {
   "cell_type": "code",
   "execution_count": 42,
   "metadata": {
    "pycharm": {
     "name": "#%%\n"
    },
    "scrolled": false
   },
   "outputs": [
    {
     "data": {
      "text/html": [
       "<div>\n",
       "<style scoped>\n",
       "    .dataframe tbody tr th:only-of-type {\n",
       "        vertical-align: middle;\n",
       "    }\n",
       "\n",
       "    .dataframe tbody tr th {\n",
       "        vertical-align: top;\n",
       "    }\n",
       "\n",
       "    .dataframe thead th {\n",
       "        text-align: right;\n",
       "    }\n",
       "</style>\n",
       "<table border=\"1\" class=\"dataframe\">\n",
       "  <thead>\n",
       "    <tr style=\"text-align: right;\">\n",
       "      <th></th>\n",
       "      <th>tag</th>\n",
       "      <th>protd_id</th>\n",
       "      <th>position</th>\n",
       "      <th>ligand</th>\n",
       "      <th>target</th>\n",
       "      <th>prediction</th>\n",
       "      <th>cutoff</th>\n",
       "      <th>ri</th>\n",
       "      <th>prob</th>\n",
       "      <th>loss</th>\n",
       "    </tr>\n",
       "  </thead>\n",
       "  <tbody>\n",
       "    <tr>\n",
       "      <th>0</th>\n",
       "      <td>validation_epoch_19</td>\n",
       "      <td>P0AE05</td>\n",
       "      <td>0</td>\n",
       "      <td>metal</td>\n",
       "      <td>0.0</td>\n",
       "      <td>1</td>\n",
       "      <td>0.0</td>\n",
       "      <td>inf</td>\n",
       "      <td>7.150692e-04</td>\n",
       "      <td>0.126600</td>\n",
       "    </tr>\n",
       "    <tr>\n",
       "      <th>1</th>\n",
       "      <td>validation_epoch_19</td>\n",
       "      <td>P0AE05</td>\n",
       "      <td>1</td>\n",
       "      <td>metal</td>\n",
       "      <td>0.0</td>\n",
       "      <td>1</td>\n",
       "      <td>0.0</td>\n",
       "      <td>inf</td>\n",
       "      <td>1.505545e-04</td>\n",
       "      <td>0.026670</td>\n",
       "    </tr>\n",
       "    <tr>\n",
       "      <th>2</th>\n",
       "      <td>validation_epoch_19</td>\n",
       "      <td>P0AE05</td>\n",
       "      <td>2</td>\n",
       "      <td>metal</td>\n",
       "      <td>0.0</td>\n",
       "      <td>1</td>\n",
       "      <td>0.0</td>\n",
       "      <td>inf</td>\n",
       "      <td>5.079052e-07</td>\n",
       "      <td>0.000000</td>\n",
       "    </tr>\n",
       "    <tr>\n",
       "      <th>3</th>\n",
       "      <td>validation_epoch_19</td>\n",
       "      <td>P0AE05</td>\n",
       "      <td>3</td>\n",
       "      <td>metal</td>\n",
       "      <td>0.0</td>\n",
       "      <td>1</td>\n",
       "      <td>0.0</td>\n",
       "      <td>inf</td>\n",
       "      <td>5.576067e-07</td>\n",
       "      <td>0.000169</td>\n",
       "    </tr>\n",
       "    <tr>\n",
       "      <th>4</th>\n",
       "      <td>validation_epoch_19</td>\n",
       "      <td>P0AE05</td>\n",
       "      <td>4</td>\n",
       "      <td>metal</td>\n",
       "      <td>0.0</td>\n",
       "      <td>1</td>\n",
       "      <td>0.0</td>\n",
       "      <td>inf</td>\n",
       "      <td>3.618223e-07</td>\n",
       "      <td>0.000000</td>\n",
       "    </tr>\n",
       "    <tr>\n",
       "      <th>...</th>\n",
       "      <td>...</td>\n",
       "      <td>...</td>\n",
       "      <td>...</td>\n",
       "      <td>...</td>\n",
       "      <td>...</td>\n",
       "      <td>...</td>\n",
       "      <td>...</td>\n",
       "      <td>...</td>\n",
       "      <td>...</td>\n",
       "      <td>...</td>\n",
       "    </tr>\n",
       "    <tr>\n",
       "      <th>72235</th>\n",
       "      <td>validation_epoch_19</td>\n",
       "      <td>D1BQI7</td>\n",
       "      <td>213</td>\n",
       "      <td>binding</td>\n",
       "      <td>0.0</td>\n",
       "      <td>0</td>\n",
       "      <td>0.9</td>\n",
       "      <td>8.965245</td>\n",
       "      <td>3.475481e-03</td>\n",
       "      <td>0.758943</td>\n",
       "    </tr>\n",
       "    <tr>\n",
       "      <th>72236</th>\n",
       "      <td>validation_epoch_19</td>\n",
       "      <td>D1BQI7</td>\n",
       "      <td>214</td>\n",
       "      <td>binding</td>\n",
       "      <td>0.0</td>\n",
       "      <td>0</td>\n",
       "      <td>0.9</td>\n",
       "      <td>8.990463</td>\n",
       "      <td>9.536662e-04</td>\n",
       "      <td>0.208005</td>\n",
       "    </tr>\n",
       "    <tr>\n",
       "      <th>72237</th>\n",
       "      <td>validation_epoch_19</td>\n",
       "      <td>D1BQI7</td>\n",
       "      <td>215</td>\n",
       "      <td>binding</td>\n",
       "      <td>0.0</td>\n",
       "      <td>0</td>\n",
       "      <td>0.9</td>\n",
       "      <td>8.984796</td>\n",
       "      <td>1.520480e-03</td>\n",
       "      <td>0.331706</td>\n",
       "    </tr>\n",
       "    <tr>\n",
       "      <th>72238</th>\n",
       "      <td>validation_epoch_19</td>\n",
       "      <td>D1BQI7</td>\n",
       "      <td>216</td>\n",
       "      <td>binding</td>\n",
       "      <td>0.0</td>\n",
       "      <td>0</td>\n",
       "      <td>0.9</td>\n",
       "      <td>8.881128</td>\n",
       "      <td>1.188718e-02</td>\n",
       "      <td>2.606871</td>\n",
       "    </tr>\n",
       "    <tr>\n",
       "      <th>72239</th>\n",
       "      <td>validation_epoch_19</td>\n",
       "      <td>D1BQI7</td>\n",
       "      <td>217</td>\n",
       "      <td>binding</td>\n",
       "      <td>0.0</td>\n",
       "      <td>0</td>\n",
       "      <td>0.9</td>\n",
       "      <td>8.922716</td>\n",
       "      <td>7.728423e-03</td>\n",
       "      <td>1.691379</td>\n",
       "    </tr>\n",
       "  </tbody>\n",
       "</table>\n",
       "<p>72240 rows × 10 columns</p>\n",
       "</div>"
      ],
      "text/plain": [
       "                       tag protd_id  position   ligand  target  prediction  \\\n",
       "0      validation_epoch_19   P0AE05         0    metal     0.0           1   \n",
       "1      validation_epoch_19   P0AE05         1    metal     0.0           1   \n",
       "2      validation_epoch_19   P0AE05         2    metal     0.0           1   \n",
       "3      validation_epoch_19   P0AE05         3    metal     0.0           1   \n",
       "4      validation_epoch_19   P0AE05         4    metal     0.0           1   \n",
       "...                    ...      ...       ...      ...     ...         ...   \n",
       "72235  validation_epoch_19   D1BQI7       213  binding     0.0           0   \n",
       "72236  validation_epoch_19   D1BQI7       214  binding     0.0           0   \n",
       "72237  validation_epoch_19   D1BQI7       215  binding     0.0           0   \n",
       "72238  validation_epoch_19   D1BQI7       216  binding     0.0           0   \n",
       "72239  validation_epoch_19   D1BQI7       217  binding     0.0           0   \n",
       "\n",
       "       cutoff        ri          prob      loss  \n",
       "0         0.0       inf  7.150692e-04  0.126600  \n",
       "1         0.0       inf  1.505545e-04  0.026670  \n",
       "2         0.0       inf  5.079052e-07  0.000000  \n",
       "3         0.0       inf  5.576067e-07  0.000169  \n",
       "4         0.0       inf  3.618223e-07  0.000000  \n",
       "...       ...       ...           ...       ...  \n",
       "72235     0.9  8.965245  3.475481e-03  0.758943  \n",
       "72236     0.9  8.990463  9.536662e-04  0.208005  \n",
       "72237     0.9  8.984796  1.520480e-03  0.331706  \n",
       "72238     0.9  8.881128  1.188718e-02  2.606871  \n",
       "72239     0.9  8.922716  7.728423e-03  1.691379  \n",
       "\n",
       "[72240 rows x 10 columns]"
      ]
     },
     "execution_count": 42,
     "metadata": {},
     "output_type": "execute_result"
    }
   ],
   "source": [
    "df"
   ]
  },
  {
   "cell_type": "code",
   "execution_count": 17,
   "metadata": {
    "pycharm": {
     "name": "#%%\n"
    },
    "scrolled": false
   },
   "outputs": [
    {
     "data": {
      "image/png": "[encoded data removed]",
      "text/plain": [
       "<Figure size 432x288 with 1 Axes>"
      ]
     },
     "metadata": {
      "needs_background": "light"
     },
     "output_type": "display_data"
    }
   ],
   "source": [
    "import matplotlib.pyplot as plt\n",
    "import numpy as np\n",
    "from plots import Plots\n",
    "\n",
    "fig1, ax1 = plt.subplots()\n",
    "Plots.plot_hist(df.prob, ax=ax1, title='Probability')"
   ]
  },
  {
   "cell_type": "code",
   "execution_count": 60,
   "metadata": {
    "pycharm": {
     "name": "#%%\n"
    },
    "scrolled": false
   },
   "outputs": [
    {
     "data": {
      "text/plain": [
       "array([0. , 0.1, 0.2, 0.3, 0.4, 0.5, 0.6, 0.7, 0.8, 1. ])"
      ]
     },
     "execution_count": 60,
     "metadata": {},
     "output_type": "execute_result"
    }
   ],
   "source": [
    "cutoffs = np.linspace(0, 1, 10, endpoint=True)\n",
    "cutoffs = (cutoffs * 10).astype(int) / 10"
   ]
  },
  {
   "cell_type": "code",
   "execution_count": 53,
   "metadata": {
    "pycharm": {
     "name": "#%%\n"
    },
    "scrolled": false
   },
   "outputs": [],
   "source": []
  },
  {
   "cell_type": "code",
   "execution_count": null,
   "metadata": {
    "pycharm": {
     "name": "#%%\n"
    },
    "scrolled": false
   },
   "outputs": [],
   "source": []
  }
 ],
 "metadata": {
  "kernelspec": {
   "display_name": "Python 3 (ipykernel)",
   "language": "python",
   "name": "python3"
  },
  "language_info": {
   "codemirror_mode": {
    "name": "ipython",
    "version": 3
   },
   "file_extension": ".py",
   "mimetype": "text/x-python",
   "name": "python",
   "nbconvert_exporter": "python",
   "pygments_lexer": "ipython3",
   "version": "3.10.5"
  }
 },
 "nbformat": 4,
 "nbformat_minor": 1
}
