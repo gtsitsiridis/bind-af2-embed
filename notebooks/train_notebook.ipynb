{
 "cells": [
  {
   "cell_type": "code",
   "execution_count": 1,
   "metadata": {
    "collapsed": true,
    "pycharm": {
     "name": "#%%\n"
    }
   },
   "outputs": [],
   "source": [
    "\n",
    "import sys\n",
    "\n",
    "sys.path.insert(0, '/home/george/Projects/Python/bind-af2-embed/src')\n",
    "\n",
    "# Import dependencies\n",
    "%load_ext autoreload\n",
    "%autoreload 2\n",
    "\n",
    "import pandas as pd\n",
    "from config import AppConfig\n",
    "from plots import Plots"
   ]
  },
  {
   "cell_type": "markdown",
   "source": [
    "### Read predictions files"
   ],
   "metadata": {
    "collapsed": false,
    "pycharm": {
     "name": "#%% md\n"
    }
   }
  },
  {
   "cell_type": "code",
   "execution_count": 61,
   "outputs": [],
   "source": [
    "tag = '202207051137_CNN1D_EMBEDDINGS'\n",
    "\n",
    "config = AppConfig()\n",
    "predictions_path = config.get_ml_predictions_path()\n",
    "predictions_path = predictions_path / tag / 'validation_total.csv'\n",
    "df = pd.read_csv(str(predictions_path))"
   ],
   "metadata": {
    "collapsed": false,
    "pycharm": {
     "name": "#%%\n"
    }
   }
  },
  {
   "cell_type": "code",
   "execution_count": 5,
   "outputs": [],
   "source": [
    "counts = df[['target', 'prediction']].value_counts()\n",
    "tp = counts.loc[(1,1)] / sum(counts)\n",
    "fp = counts.loc[(0,1)] / sum(counts)\n",
    "tn = counts.loc[(0,0)] / sum(counts)\n",
    "fn = counts.loc[(1,0)] / sum(counts)"
   ],
   "metadata": {
    "collapsed": false,
    "pycharm": {
     "name": "#%%\n"
    }
   }
  },
  {
   "cell_type": "code",
   "execution_count": 6,
   "outputs": [
    {
     "data": {
      "text/plain": "         tag protd_id  position   ligand  target  prediction  cutoff     ri  \\\n393     test   O25094        33    small     1.0           1     0.5  1.026   \n397     test   O25094        37    small     1.0           1     0.5  0.396   \n450     test   O25094        90    small     1.0           1     0.5  0.180   \n451     test   O25094        91    small     1.0           1     0.5  0.864   \n452     test   O25094        92    small     1.0           0     0.5  0.486   \n...      ...      ...       ...      ...     ...         ...     ...    ...   \n250662  test   Q9HAN9       185  binding     1.0           0     0.5  3.996   \n250691  test   Q9HAN9       214  binding     1.0           0     0.5  8.874   \n250695  test   Q9HAN9       218  binding     1.0           0     0.5  5.400   \n250696  test   Q9HAN9       219  binding     1.0           0     0.5  3.600   \n250745  test   Q9HAN9       268  binding     1.0           0     0.5  9.000   \n\n         prob      loss  \n393     0.557     0.000  \n397     0.522     0.000  \n450     0.510     0.000  \n451     0.548     0.000  \n452     0.473     0.000  \n...       ...       ...  \n250662  0.278   627.031  \n250691  0.007  2245.562  \n250695  0.200  1334.799  \n250696  0.300   862.029  \n250745  0.000  4472.968  \n\n[12126 rows x 10 columns]",
      "text/html": "<div>\n<style scoped>\n    .dataframe tbody tr th:only-of-type {\n        vertical-align: middle;\n    }\n\n    .dataframe tbody tr th {\n        vertical-align: top;\n    }\n\n    .dataframe thead th {\n        text-align: right;\n    }\n</style>\n<table border=\"1\" class=\"dataframe\">\n  <thead>\n    <tr style=\"text-align: right;\">\n      <th></th>\n      <th>tag</th>\n      <th>protd_id</th>\n      <th>position</th>\n      <th>ligand</th>\n      <th>target</th>\n      <th>prediction</th>\n      <th>cutoff</th>\n      <th>ri</th>\n      <th>prob</th>\n      <th>loss</th>\n    </tr>\n  </thead>\n  <tbody>\n    <tr>\n      <th>393</th>\n      <td>test</td>\n      <td>O25094</td>\n      <td>33</td>\n      <td>small</td>\n      <td>1.0</td>\n      <td>1</td>\n      <td>0.5</td>\n      <td>1.026</td>\n      <td>0.557</td>\n      <td>0.000</td>\n    </tr>\n    <tr>\n      <th>397</th>\n      <td>test</td>\n      <td>O25094</td>\n      <td>37</td>\n      <td>small</td>\n      <td>1.0</td>\n      <td>1</td>\n      <td>0.5</td>\n      <td>0.396</td>\n      <td>0.522</td>\n      <td>0.000</td>\n    </tr>\n    <tr>\n      <th>450</th>\n      <td>test</td>\n      <td>O25094</td>\n      <td>90</td>\n      <td>small</td>\n      <td>1.0</td>\n      <td>1</td>\n      <td>0.5</td>\n      <td>0.180</td>\n      <td>0.510</td>\n      <td>0.000</td>\n    </tr>\n    <tr>\n      <th>451</th>\n      <td>test</td>\n      <td>O25094</td>\n      <td>91</td>\n      <td>small</td>\n      <td>1.0</td>\n      <td>1</td>\n      <td>0.5</td>\n      <td>0.864</td>\n      <td>0.548</td>\n      <td>0.000</td>\n    </tr>\n    <tr>\n      <th>452</th>\n      <td>test</td>\n      <td>O25094</td>\n      <td>92</td>\n      <td>small</td>\n      <td>1.0</td>\n      <td>0</td>\n      <td>0.5</td>\n      <td>0.486</td>\n      <td>0.473</td>\n      <td>0.000</td>\n    </tr>\n    <tr>\n      <th>...</th>\n      <td>...</td>\n      <td>...</td>\n      <td>...</td>\n      <td>...</td>\n      <td>...</td>\n      <td>...</td>\n      <td>...</td>\n      <td>...</td>\n      <td>...</td>\n      <td>...</td>\n    </tr>\n    <tr>\n      <th>250662</th>\n      <td>test</td>\n      <td>Q9HAN9</td>\n      <td>185</td>\n      <td>binding</td>\n      <td>1.0</td>\n      <td>0</td>\n      <td>0.5</td>\n      <td>3.996</td>\n      <td>0.278</td>\n      <td>627.031</td>\n    </tr>\n    <tr>\n      <th>250691</th>\n      <td>test</td>\n      <td>Q9HAN9</td>\n      <td>214</td>\n      <td>binding</td>\n      <td>1.0</td>\n      <td>0</td>\n      <td>0.5</td>\n      <td>8.874</td>\n      <td>0.007</td>\n      <td>2245.562</td>\n    </tr>\n    <tr>\n      <th>250695</th>\n      <td>test</td>\n      <td>Q9HAN9</td>\n      <td>218</td>\n      <td>binding</td>\n      <td>1.0</td>\n      <td>0</td>\n      <td>0.5</td>\n      <td>5.400</td>\n      <td>0.200</td>\n      <td>1334.799</td>\n    </tr>\n    <tr>\n      <th>250696</th>\n      <td>test</td>\n      <td>Q9HAN9</td>\n      <td>219</td>\n      <td>binding</td>\n      <td>1.0</td>\n      <td>0</td>\n      <td>0.5</td>\n      <td>3.600</td>\n      <td>0.300</td>\n      <td>862.029</td>\n    </tr>\n    <tr>\n      <th>250745</th>\n      <td>test</td>\n      <td>Q9HAN9</td>\n      <td>268</td>\n      <td>binding</td>\n      <td>1.0</td>\n      <td>0</td>\n      <td>0.5</td>\n      <td>9.000</td>\n      <td>0.000</td>\n      <td>4472.968</td>\n    </tr>\n  </tbody>\n</table>\n<p>12126 rows × 10 columns</p>\n</div>"
     },
     "execution_count": 6,
     "metadata": {},
     "output_type": "execute_result"
    }
   ],
   "source": [
    "df[df.target == 1]"
   ],
   "metadata": {
    "collapsed": false,
    "pycharm": {
     "name": "#%%\n"
    }
   }
  },
  {
   "cell_type": "code",
   "execution_count": 45,
   "outputs": [
    {
     "data": {
      "text/plain": "136.207361801911"
     },
     "execution_count": 45,
     "metadata": {},
     "output_type": "execute_result"
    }
   ],
   "source": [
    "df.loss.mean()"
   ],
   "metadata": {
    "collapsed": false,
    "pycharm": {
     "name": "#%%\n"
    }
   }
  },
  {
   "cell_type": "code",
   "execution_count": 64,
   "outputs": [
    {
     "name": "stderr",
     "output_type": "stream",
     "text": [
      "/tmp/ipykernel_7867/3335055868.py:20: UserWarning: Matplotlib is currently using module://matplotlib_inline.backend_inline, which is a non-GUI backend, so cannot show the figure.\n",
      "  fig.show()\n"
     ]
    },
    {
     "data": {
      "text/plain": "<Figure size 432x288 with 1 Axes>",
      "image/png": "[encoded data removed]"
     },
     "metadata": {
      "needs_background": "light"
     },
     "output_type": "display_data"
    }
   ],
   "source": [
    "import numpy as np\n",
    "from ml.common import Performance\n",
    "import matplotlib.pyplot as plt\n",
    "\n",
    "cutoffs = df.cutoff.unique()\n",
    "rec = []\n",
    "prec = []\n",
    "covonebind = []\n",
    "for cutoff in cutoffs:\n",
    "    performance = Performance.df_to_performance(df[df.cutoff==cutoff])\n",
    "    rec.append(performance['rec_total'])\n",
    "    prec.append(performance['prec_total'])\n",
    "    covonebind.append(performance['covonebind_total'])\n",
    "\n",
    "fig, ax = plt.subplots()\n",
    "ax.plot(cutoffs, rec,color='green', label='Recall')\n",
    "ax.plot(cutoffs, prec,color='blue', label='Precission')\n",
    "ax.plot(cutoffs, covonebind,color='orange', label = \"CovOneBind\")\n",
    "ax.legend()\n",
    "fig.show()"
   ],
   "metadata": {
    "collapsed": false,
    "pycharm": {
     "name": "#%%\n"
    }
   }
  },
  {
   "cell_type": "code",
   "execution_count": 46,
   "outputs": [
    {
     "name": "stdout",
     "output_type": "stream",
     "text": [
      "1e-05\n"
     ]
    },
    {
     "name": "stderr",
     "output_type": "stream",
     "text": [
      "/tmp/ipykernel_7867/2613190845.py:1: FutureWarning: Indexing with multiple keys (implicitly converted to a tuple of keys) will be deprecated, use a list instead.\n",
      "  df1 = df.groupby('protd_id')['prediction', 'target'].sum()\n"
     ]
    }
   ],
   "source": [
    "df1 = df.groupby('protd_id')['prediction', 'target'].sum()\n",
    "covonebind = len(df1[df1.prediction > 0])/len(df1[df1.target > 0])\n",
    "print(1e-5)"
   ],
   "metadata": {
    "collapsed": false,
    "pycharm": {
     "name": "#%%\n"
    }
   }
  },
  {
   "cell_type": "code",
   "execution_count": 42,
   "outputs": [
    {
     "data": {
      "text/plain": "                       tag protd_id  position   ligand  target  prediction  \\\n0      validation_epoch_19   P0AE05         0    metal     0.0           1   \n1      validation_epoch_19   P0AE05         1    metal     0.0           1   \n2      validation_epoch_19   P0AE05         2    metal     0.0           1   \n3      validation_epoch_19   P0AE05         3    metal     0.0           1   \n4      validation_epoch_19   P0AE05         4    metal     0.0           1   \n...                    ...      ...       ...      ...     ...         ...   \n72235  validation_epoch_19   D1BQI7       213  binding     0.0           0   \n72236  validation_epoch_19   D1BQI7       214  binding     0.0           0   \n72237  validation_epoch_19   D1BQI7       215  binding     0.0           0   \n72238  validation_epoch_19   D1BQI7       216  binding     0.0           0   \n72239  validation_epoch_19   D1BQI7       217  binding     0.0           0   \n\n       cutoff        ri          prob      loss  \n0         0.0       inf  7.150692e-04  0.126600  \n1         0.0       inf  1.505545e-04  0.026670  \n2         0.0       inf  5.079052e-07  0.000000  \n3         0.0       inf  5.576067e-07  0.000169  \n4         0.0       inf  3.618223e-07  0.000000  \n...       ...       ...           ...       ...  \n72235     0.9  8.965245  3.475481e-03  0.758943  \n72236     0.9  8.990463  9.536662e-04  0.208005  \n72237     0.9  8.984796  1.520480e-03  0.331706  \n72238     0.9  8.881128  1.188718e-02  2.606871  \n72239     0.9  8.922716  7.728423e-03  1.691379  \n\n[72240 rows x 10 columns]",
      "text/html": "<div>\n<style scoped>\n    .dataframe tbody tr th:only-of-type {\n        vertical-align: middle;\n    }\n\n    .dataframe tbody tr th {\n        vertical-align: top;\n    }\n\n    .dataframe thead th {\n        text-align: right;\n    }\n</style>\n<table border=\"1\" class=\"dataframe\">\n  <thead>\n    <tr style=\"text-align: right;\">\n      <th></th>\n      <th>tag</th>\n      <th>protd_id</th>\n      <th>position</th>\n      <th>ligand</th>\n      <th>target</th>\n      <th>prediction</th>\n      <th>cutoff</th>\n      <th>ri</th>\n      <th>prob</th>\n      <th>loss</th>\n    </tr>\n  </thead>\n  <tbody>\n    <tr>\n      <th>0</th>\n      <td>validation_epoch_19</td>\n      <td>P0AE05</td>\n      <td>0</td>\n      <td>metal</td>\n      <td>0.0</td>\n      <td>1</td>\n      <td>0.0</td>\n      <td>inf</td>\n      <td>7.150692e-04</td>\n      <td>0.126600</td>\n    </tr>\n    <tr>\n      <th>1</th>\n      <td>validation_epoch_19</td>\n      <td>P0AE05</td>\n      <td>1</td>\n      <td>metal</td>\n      <td>0.0</td>\n      <td>1</td>\n      <td>0.0</td>\n      <td>inf</td>\n      <td>1.505545e-04</td>\n      <td>0.026670</td>\n    </tr>\n    <tr>\n      <th>2</th>\n      <td>validation_epoch_19</td>\n      <td>P0AE05</td>\n      <td>2</td>\n      <td>metal</td>\n      <td>0.0</td>\n      <td>1</td>\n      <td>0.0</td>\n      <td>inf</td>\n      <td>5.079052e-07</td>\n      <td>0.000000</td>\n    </tr>\n    <tr>\n      <th>3</th>\n      <td>validation_epoch_19</td>\n      <td>P0AE05</td>\n      <td>3</td>\n      <td>metal</td>\n      <td>0.0</td>\n      <td>1</td>\n      <td>0.0</td>\n      <td>inf</td>\n      <td>5.576067e-07</td>\n      <td>0.000169</td>\n    </tr>\n    <tr>\n      <th>4</th>\n      <td>validation_epoch_19</td>\n      <td>P0AE05</td>\n      <td>4</td>\n      <td>metal</td>\n      <td>0.0</td>\n      <td>1</td>\n      <td>0.0</td>\n      <td>inf</td>\n      <td>3.618223e-07</td>\n      <td>0.000000</td>\n    </tr>\n    <tr>\n      <th>...</th>\n      <td>...</td>\n      <td>...</td>\n      <td>...</td>\n      <td>...</td>\n      <td>...</td>\n      <td>...</td>\n      <td>...</td>\n      <td>...</td>\n      <td>...</td>\n      <td>...</td>\n    </tr>\n    <tr>\n      <th>72235</th>\n      <td>validation_epoch_19</td>\n      <td>D1BQI7</td>\n      <td>213</td>\n      <td>binding</td>\n      <td>0.0</td>\n      <td>0</td>\n      <td>0.9</td>\n      <td>8.965245</td>\n      <td>3.475481e-03</td>\n      <td>0.758943</td>\n    </tr>\n    <tr>\n      <th>72236</th>\n      <td>validation_epoch_19</td>\n      <td>D1BQI7</td>\n      <td>214</td>\n      <td>binding</td>\n      <td>0.0</td>\n      <td>0</td>\n      <td>0.9</td>\n      <td>8.990463</td>\n      <td>9.536662e-04</td>\n      <td>0.208005</td>\n    </tr>\n    <tr>\n      <th>72237</th>\n      <td>validation_epoch_19</td>\n      <td>D1BQI7</td>\n      <td>215</td>\n      <td>binding</td>\n      <td>0.0</td>\n      <td>0</td>\n      <td>0.9</td>\n      <td>8.984796</td>\n      <td>1.520480e-03</td>\n      <td>0.331706</td>\n    </tr>\n    <tr>\n      <th>72238</th>\n      <td>validation_epoch_19</td>\n      <td>D1BQI7</td>\n      <td>216</td>\n      <td>binding</td>\n      <td>0.0</td>\n      <td>0</td>\n      <td>0.9</td>\n      <td>8.881128</td>\n      <td>1.188718e-02</td>\n      <td>2.606871</td>\n    </tr>\n    <tr>\n      <th>72239</th>\n      <td>validation_epoch_19</td>\n      <td>D1BQI7</td>\n      <td>217</td>\n      <td>binding</td>\n      <td>0.0</td>\n      <td>0</td>\n      <td>0.9</td>\n      <td>8.922716</td>\n      <td>7.728423e-03</td>\n      <td>1.691379</td>\n    </tr>\n  </tbody>\n</table>\n<p>72240 rows × 10 columns</p>\n</div>"
     },
     "execution_count": 42,
     "metadata": {},
     "output_type": "execute_result"
    }
   ],
   "source": [
    "df"
   ],
   "metadata": {
    "collapsed": false,
    "pycharm": {
     "name": "#%%\n"
    }
   }
  },
  {
   "cell_type": "code",
   "execution_count": 17,
   "outputs": [
    {
     "data": {
      "text/plain": "<Figure size 432x288 with 1 Axes>",
      "image/png": "[encoded data removed]"
     },
     "metadata": {
      "needs_background": "light"
     },
     "output_type": "display_data"
    }
   ],
   "source": [
    "import matplotlib.pyplot as plt\n",
    "import numpy as np\n",
    "from plots import Plots\n",
    "\n",
    "fig1, ax1 = plt.subplots()\n",
    "Plots.plot_hist(df.prob, ax=ax1, title='Probability')"
   ],
   "metadata": {
    "collapsed": false,
    "pycharm": {
     "name": "#%%\n"
    }
   }
  },
  {
   "cell_type": "code",
   "execution_count": 60,
   "outputs": [
    {
     "data": {
      "text/plain": "array([0. , 0.1, 0.2, 0.3, 0.4, 0.5, 0.6, 0.7, 0.8, 1. ])"
     },
     "execution_count": 60,
     "metadata": {},
     "output_type": "execute_result"
    }
   ],
   "source": [
    "cutoffs = np.linspace(0, 1, 10, endpoint=True)\n",
    "cutoffs = (cutoffs * 10).astype(int) / 10"
   ],
   "metadata": {
    "collapsed": false,
    "pycharm": {
     "name": "#%%\n"
    }
   }
  },
  {
   "cell_type": "code",
   "execution_count": 53,
   "outputs": [],
   "source": [],
   "metadata": {
    "collapsed": false,
    "pycharm": {
     "name": "#%%\n"
    }
   }
  },
  {
   "cell_type": "code",
   "execution_count": null,
   "outputs": [],
   "source": [],
   "metadata": {
    "collapsed": false,
    "pycharm": {
     "name": "#%%\n"
    }
   }
  }
 ],
 "metadata": {
  "kernelspec": {
   "display_name": "Python 3",
   "language": "python",
   "name": "python3"
  },
  "language_info": {
   "codemirror_mode": {
    "name": "ipython",
    "version": 2
   },
   "file_extension": ".py",
   "mimetype": "text/x-python",
   "name": "python",
   "nbconvert_exporter": "python",
   "pygments_lexer": "ipython2",
   "version": "2.7.6"
  }
 },
 "nbformat": 4,
 "nbformat_minor": 0
}