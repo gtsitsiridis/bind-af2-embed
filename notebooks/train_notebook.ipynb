{
 "cells": [
  {
   "cell_type": "code",
   "execution_count": 38,
   "metadata": {
    "pycharm": {
     "name": "#%%\n"
    }
   },
   "outputs": [
    {
     "name": "stdout",
     "output_type": "stream",
     "text": [
      "The autoreload extension is already loaded. To reload it, use:\n",
      "  %reload_ext autoreload\n"
     ]
    }
   ],
   "source": [
    "\n",
    "import sys\n",
    "\n",
    "sys.path.insert(0, '/home/george/Projects/Python/bind-af2-embed/src')\n",
    "sys.path.insert(0, '/Users/tsitsiridis/Projects/bind-af2-embed/src')\n",
    "\n",
    "\n",
    "# Import dependencies\n",
    "%load_ext autoreload\n",
    "%autoreload 2\n",
    "\n",
    "import pandas as pd\n",
    "from config import AppConfig\n",
    "from plots import Plots\n",
    "from ml.common import Performance\n",
    "import numpy as np\n",
    "import math\n",
    "from scipy.stats import t\n",
    "import matplotlib.pyplot as plt\n",
    "from sklearn.metrics import confusion_matrix, roc_curve, auc"
   ]
  },
  {
   "cell_type": "markdown",
   "metadata": {
    "pycharm": {
     "name": "#%% md\n"
    }
   },
   "source": [
    "### Read predictions files"
   ]
  },
  {
   "cell_type": "code",
   "execution_count": 27,
   "metadata": {
    "pycharm": {
     "name": "#%%\n"
    }
   },
   "outputs": [],
   "source": [
    "def read_predictions_df(tag: str, cutoff: float = 0.5) -> Performance:\n",
    "    config = AppConfig()\n",
    "    predictions_path = config.get_ml_predictions_path()\n",
    "    predictions_path = predictions_path / tag / 'test_total.csv'\n",
    "    df = pd.read_csv(str(predictions_path))\n",
    "    return df\n",
    "\n",
    "def read_performance_df(tag: str, cutoff: float = 0.5) -> pd.DataFrame:\n",
    "    config = AppConfig()\n",
    "    perf_path = config.get_ml_model_path()\n",
    "    perf_path = perf_path / tag / 'model_test_perf.csv'\n",
    "    df = pd.read_csv(str(perf_path))\n",
    "    return df"
   ]
  },
  {
   "cell_type": "code",
   "execution_count": 49,
   "metadata": {},
   "outputs": [],
   "source": [
    "tags = ['emb_filtered', 'emb_total', 'emb_binary_filtered']\n",
    "performance_df = {tag: read_performance_df(tag) for tag in tags}\n",
    "predictions_df = {tag: read_predictions_df(tag) for tag in tags}"
   ]
  },
  {
   "cell_type": "code",
   "execution_count": 63,
   "metadata": {},
   "outputs": [
    {
     "data": {
      "text/html": [
       "<div>\n",
       "<style scoped>\n",
       "    .dataframe tbody tr th:only-of-type {\n",
       "        vertical-align: middle;\n",
       "    }\n",
       "\n",
       "    .dataframe tbody tr th {\n",
       "        vertical-align: top;\n",
       "    }\n",
       "\n",
       "    .dataframe thead th {\n",
       "        text-align: right;\n",
       "    }\n",
       "</style>\n",
       "<table border=\"1\" class=\"dataframe\">\n",
       "  <thead>\n",
       "    <tr style=\"text-align: right;\">\n",
       "      <th></th>\n",
       "      <th>loss_metal</th>\n",
       "      <th>acc_metal</th>\n",
       "      <th>prec_metal</th>\n",
       "      <th>rec_metal</th>\n",
       "      <th>f1_metal</th>\n",
       "      <th>mcc_metal</th>\n",
       "      <th>covonebind_metal</th>\n",
       "      <th>loss_nuclear</th>\n",
       "      <th>acc_nuclear</th>\n",
       "      <th>prec_nuclear</th>\n",
       "      <th>...</th>\n",
       "      <th>prec_binding</th>\n",
       "      <th>rec_binding</th>\n",
       "      <th>f1_binding</th>\n",
       "      <th>mcc_binding</th>\n",
       "      <th>covonebind_binding</th>\n",
       "      <th>loss_total</th>\n",
       "      <th>acc_total</th>\n",
       "      <th>prec_total</th>\n",
       "      <th>rec_total</th>\n",
       "      <th>f1_total</th>\n",
       "    </tr>\n",
       "  </thead>\n",
       "  <tbody>\n",
       "    <tr>\n",
       "      <th>emb_filtered</th>\n",
       "      <td>65.54 ± 3.33</td>\n",
       "      <td>0.981 ± 0.00</td>\n",
       "      <td>0.375 ± 0.03</td>\n",
       "      <td>0.368 ± 0.02</td>\n",
       "      <td>0.371 ± 0.01</td>\n",
       "      <td>0.362 ± 0.01</td>\n",
       "      <td>0.731 ± 0.04</td>\n",
       "      <td>84.876 ± 9.86</td>\n",
       "      <td>0.977 ± 0.00</td>\n",
       "      <td>0.521 ± 0.03</td>\n",
       "      <td>...</td>\n",
       "      <td>0.676 ± 0.01</td>\n",
       "      <td>0.214 ± 0.02</td>\n",
       "      <td>0.324 ± 0.02</td>\n",
       "      <td>0.348 ± 0.02</td>\n",
       "      <td>0.891 ± 0.01</td>\n",
       "      <td>66.498 ± 3.02</td>\n",
       "      <td>0.953 ± 0.00</td>\n",
       "      <td>0.558 ± 0.01</td>\n",
       "      <td>0.241 ± 0.02</td>\n",
       "      <td>0.337 ± 0.02</td>\n",
       "    </tr>\n",
       "    <tr>\n",
       "      <th>emb_total</th>\n",
       "      <td>64.656 ± 4.01</td>\n",
       "      <td>0.983 ± 0.00</td>\n",
       "      <td>0.405 ± 0.04</td>\n",
       "      <td>0.354 ± 0.03</td>\n",
       "      <td>0.375 ± 0.01</td>\n",
       "      <td>0.369 ± 0.01</td>\n",
       "      <td>0.697 ± 0.06</td>\n",
       "      <td>88.304 ± 10.14</td>\n",
       "      <td>0.978 ± 0.00</td>\n",
       "      <td>0.537 ± 0.03</td>\n",
       "      <td>...</td>\n",
       "      <td>0.705 ± 0.03</td>\n",
       "      <td>0.171 ± 0.05</td>\n",
       "      <td>0.271 ± 0.07</td>\n",
       "      <td>0.316 ± 0.04</td>\n",
       "      <td>0.859 ± 0.05</td>\n",
       "      <td>67.821 ± 3.16</td>\n",
       "      <td>0.954 ± 0.00</td>\n",
       "      <td>0.572 ± 0.01</td>\n",
       "      <td>0.208 ± 0.04</td>\n",
       "      <td>0.303 ± 0.04</td>\n",
       "    </tr>\n",
       "    <tr>\n",
       "      <th>emb_binary_filtered</th>\n",
       "      <td>0.0 ± 0.00</td>\n",
       "      <td>0.469 ± 0.38</td>\n",
       "      <td>0.02 ± 0.01</td>\n",
       "      <td>0.579 ± 0.26</td>\n",
       "      <td>0.038 ± 0.01</td>\n",
       "      <td>-0.001 ± 0.08</td>\n",
       "      <td>0.998 ± 0.01</td>\n",
       "      <td>0.0 ± 0.00</td>\n",
       "      <td>0.751 ± 0.26</td>\n",
       "      <td>0.053 ± 0.02</td>\n",
       "      <td>...</td>\n",
       "      <td>0.647 ± 0.02</td>\n",
       "      <td>0.259 ± 0.02</td>\n",
       "      <td>0.369 ± 0.02</td>\n",
       "      <td>0.373 ± 0.01</td>\n",
       "      <td>0.92 ± 0.01</td>\n",
       "      <td>14.392 ± 0.25</td>\n",
       "      <td>0.642 ± 0.23</td>\n",
       "      <td>0.081 ± 0.05</td>\n",
       "      <td>0.399 ± 0.14</td>\n",
       "      <td>0.121 ± 0.05</td>\n",
       "    </tr>\n",
       "  </tbody>\n",
       "</table>\n",
       "<p>3 rows × 33 columns</p>\n",
       "</div>"
      ],
      "text/plain": [
       "                        loss_metal     acc_metal    prec_metal     rec_metal  \\\n",
       "emb_filtered          65.54 ± 3.33  0.981 ± 0.00  0.375 ± 0.03  0.368 ± 0.02   \n",
       "emb_total            64.656 ± 4.01  0.983 ± 0.00  0.405 ± 0.04  0.354 ± 0.03   \n",
       "emb_binary_filtered     0.0 ± 0.00  0.469 ± 0.38   0.02 ± 0.01  0.579 ± 0.26   \n",
       "\n",
       "                         f1_metal      mcc_metal covonebind_metal  \\\n",
       "emb_filtered         0.371 ± 0.01   0.362 ± 0.01     0.731 ± 0.04   \n",
       "emb_total            0.375 ± 0.01   0.369 ± 0.01     0.697 ± 0.06   \n",
       "emb_binary_filtered  0.038 ± 0.01  -0.001 ± 0.08     0.998 ± 0.01   \n",
       "\n",
       "                       loss_nuclear   acc_nuclear  prec_nuclear  ...  \\\n",
       "emb_filtered          84.876 ± 9.86  0.977 ± 0.00  0.521 ± 0.03  ...   \n",
       "emb_total            88.304 ± 10.14  0.978 ± 0.00  0.537 ± 0.03  ...   \n",
       "emb_binary_filtered      0.0 ± 0.00  0.751 ± 0.26  0.053 ± 0.02  ...   \n",
       "\n",
       "                     prec_binding   rec_binding    f1_binding   mcc_binding  \\\n",
       "emb_filtered         0.676 ± 0.01  0.214 ± 0.02  0.324 ± 0.02  0.348 ± 0.02   \n",
       "emb_total            0.705 ± 0.03  0.171 ± 0.05  0.271 ± 0.07  0.316 ± 0.04   \n",
       "emb_binary_filtered  0.647 ± 0.02  0.259 ± 0.02  0.369 ± 0.02  0.373 ± 0.01   \n",
       "\n",
       "                    covonebind_binding     loss_total     acc_total  \\\n",
       "emb_filtered              0.891 ± 0.01  66.498 ± 3.02  0.953 ± 0.00   \n",
       "emb_total                 0.859 ± 0.05  67.821 ± 3.16  0.954 ± 0.00   \n",
       "emb_binary_filtered        0.92 ± 0.01  14.392 ± 0.25  0.642 ± 0.23   \n",
       "\n",
       "                       prec_total     rec_total      f1_total  \n",
       "emb_filtered         0.558 ± 0.01  0.241 ± 0.02  0.337 ± 0.02  \n",
       "emb_total            0.572 ± 0.01  0.208 ± 0.04  0.303 ± 0.04  \n",
       "emb_binary_filtered  0.081 ± 0.05  0.399 ± 0.14  0.121 ± 0.05  \n",
       "\n",
       "[3 rows x 33 columns]"
      ]
     },
     "execution_count": 63,
     "metadata": {},
     "output_type": "execute_result"
    }
   ],
   "source": [
    "def get_mean_ci(vec):\n",
    "    \"\"\"\n",
    "    Calculate mean and 95% CI for a given vector\n",
    "    :param vec: vector\n",
    "    :return: mean and ci\n",
    "    \"\"\"\n",
    "    mean = round(np.average(vec), 3)\n",
    "    if len(vec) > 1:\n",
    "        ci = round(np.std(vec)/math.sqrt(len(vec)) * t.ppf((1 + 0.95) / 2, len(vec)), 3)\n",
    "    else:\n",
    "        ci = 0\n",
    "\n",
    "    return mean, ci\n",
    "\n",
    "ci_values_per_tag = {}\n",
    "for tag, df in performance_df.items():\n",
    "    columns = df.columns[1:-2]\n",
    "    ci_values = {}\n",
    "    for column in columns:\n",
    "        mean, ci = get_mean_ci(df[0:-1][column])\n",
    "        ci_values[column] = f'{str(mean)} ± %0.2f' % ci\n",
    "    ci_values_per_tag[tag] = ci_values\n",
    "\n",
    "pd.DataFrame.from_dict(ci_values_per_tag, orient='index')\n",
    "#     mean, ci = get_mean_ci(df[0:-1].f1_total)\n",
    "#     print(df[0:-1])\n",
    "#     print(f'{tag}: f1 total = {str(mean)} +- {str(ci)}')               "
   ]
  },
  {
   "cell_type": "code",
   "execution_count": 55,
   "metadata": {},
   "outputs": [
    {
     "data": {
      "image/png": "[encoded data removed]",
      "text/plain": [
       "<Figure size 432x288 with 1 Axes>"
      ]
     },
     "metadata": {
      "needs_background": "light"
     },
     "output_type": "display_data"
    }
   ],
   "source": [
    "def plot_roc(y_true, y_score, tag: str, ax: plt.axes, col: str):\n",
    "    fpr, tpr, _ = roc_curve(y_true, y_score)\n",
    "    roc_auc = auc(fpr, tpr)\n",
    "\n",
    "    ax.plot(\n",
    "        fpr,\n",
    "        tpr,\n",
    "        color=col,\n",
    "        lw=2,\n",
    "        label=f\"{tag} (area = %0.2f)\" % roc_auc,\n",
    "    )\n",
    "\n",
    "def get_df(df, ligand=None):\n",
    "    if ligand is None:\n",
    "        return df\n",
    "    return df[df.ligand == ligand]\n",
    "    \n",
    "fig, ax = plt.subplots()\n",
    "colors = [\"darkorange\",\"green\", \"blue\"]\n",
    "def plot_rocs(ligand=None):\n",
    "    i = 0\n",
    "    for tag, df in predictions_df.items():\n",
    "        plot_roc(get_df(df, ligand=ligand)['target'], get_df(df,ligand=ligand)['prediction'], tag, ax,col=colors[i])\n",
    "        i+=1\n",
    "\n",
    "    ax.plot([0, 1], [0, 1], color=\"navy\", lw=2, linestyle=\"--\")\n",
    "    ax.set_xlim([0.0, 1.0])\n",
    "    ax.set_ylim([0.0, 1.05])\n",
    "    ax.set_xlabel(\"False Positive Rate\")\n",
    "    ax.set_ylabel(\"True Positive Rate\")\n",
    "    ax.set_title(\"ROC curve\" )\n",
    "    ax.legend(loc=\"lower right\")\n",
    "plot_rocs(ligand='binding')"
   ]
  },
  {
   "cell_type": "code",
   "execution_count": 5,
   "metadata": {
    "pycharm": {
     "name": "#%%\n"
    }
   },
   "outputs": [],
   "source": [
    "counts = df[['target', 'prediction']].value_counts()\n",
    "tp = counts.loc[(1,1)] / sum(counts)\n",
    "fp = counts.loc[(0,1)] / sum(counts)\n",
    "tn = counts.loc[(0,0)] / sum(counts)\n",
    "fn = counts.loc[(1,0)] / sum(counts)"
   ]
  },
  {
   "cell_type": "code",
   "execution_count": 6,
   "metadata": {
    "pycharm": {
     "name": "#%%\n"
    }
   },
   "outputs": [
    {
     "data": {
      "text/html": [
       "<div>\n",
       "<style scoped>\n",
       "    .dataframe tbody tr th:only-of-type {\n",
       "        vertical-align: middle;\n",
       "    }\n",
       "\n",
       "    .dataframe tbody tr th {\n",
       "        vertical-align: top;\n",
       "    }\n",
       "\n",
       "    .dataframe thead th {\n",
       "        text-align: right;\n",
       "    }\n",
       "</style>\n",
       "<table border=\"1\" class=\"dataframe\">\n",
       "  <thead>\n",
       "    <tr style=\"text-align: right;\">\n",
       "      <th></th>\n",
       "      <th>tag</th>\n",
       "      <th>protd_id</th>\n",
       "      <th>position</th>\n",
       "      <th>ligand</th>\n",
       "      <th>target</th>\n",
       "      <th>prediction</th>\n",
       "      <th>cutoff</th>\n",
       "      <th>ri</th>\n",
       "      <th>prob</th>\n",
       "      <th>loss</th>\n",
       "    </tr>\n",
       "  </thead>\n",
       "  <tbody>\n",
       "    <tr>\n",
       "      <th>393</th>\n",
       "      <td>test</td>\n",
       "      <td>O25094</td>\n",
       "      <td>33</td>\n",
       "      <td>small</td>\n",
       "      <td>1.0</td>\n",
       "      <td>1</td>\n",
       "      <td>0.5</td>\n",
       "      <td>1.026</td>\n",
       "      <td>0.557</td>\n",
       "      <td>0.000</td>\n",
       "    </tr>\n",
       "    <tr>\n",
       "      <th>397</th>\n",
       "      <td>test</td>\n",
       "      <td>O25094</td>\n",
       "      <td>37</td>\n",
       "      <td>small</td>\n",
       "      <td>1.0</td>\n",
       "      <td>1</td>\n",
       "      <td>0.5</td>\n",
       "      <td>0.396</td>\n",
       "      <td>0.522</td>\n",
       "      <td>0.000</td>\n",
       "    </tr>\n",
       "    <tr>\n",
       "      <th>450</th>\n",
       "      <td>test</td>\n",
       "      <td>O25094</td>\n",
       "      <td>90</td>\n",
       "      <td>small</td>\n",
       "      <td>1.0</td>\n",
       "      <td>1</td>\n",
       "      <td>0.5</td>\n",
       "      <td>0.180</td>\n",
       "      <td>0.510</td>\n",
       "      <td>0.000</td>\n",
       "    </tr>\n",
       "    <tr>\n",
       "      <th>451</th>\n",
       "      <td>test</td>\n",
       "      <td>O25094</td>\n",
       "      <td>91</td>\n",
       "      <td>small</td>\n",
       "      <td>1.0</td>\n",
       "      <td>1</td>\n",
       "      <td>0.5</td>\n",
       "      <td>0.864</td>\n",
       "      <td>0.548</td>\n",
       "      <td>0.000</td>\n",
       "    </tr>\n",
       "    <tr>\n",
       "      <th>452</th>\n",
       "      <td>test</td>\n",
       "      <td>O25094</td>\n",
       "      <td>92</td>\n",
       "      <td>small</td>\n",
       "      <td>1.0</td>\n",
       "      <td>0</td>\n",
       "      <td>0.5</td>\n",
       "      <td>0.486</td>\n",
       "      <td>0.473</td>\n",
       "      <td>0.000</td>\n",
       "    </tr>\n",
       "    <tr>\n",
       "      <th>...</th>\n",
       "      <td>...</td>\n",
       "      <td>...</td>\n",
       "      <td>...</td>\n",
       "      <td>...</td>\n",
       "      <td>...</td>\n",
       "      <td>...</td>\n",
       "      <td>...</td>\n",
       "      <td>...</td>\n",
       "      <td>...</td>\n",
       "      <td>...</td>\n",
       "    </tr>\n",
       "    <tr>\n",
       "      <th>250662</th>\n",
       "      <td>test</td>\n",
       "      <td>Q9HAN9</td>\n",
       "      <td>185</td>\n",
       "      <td>binding</td>\n",
       "      <td>1.0</td>\n",
       "      <td>0</td>\n",
       "      <td>0.5</td>\n",
       "      <td>3.996</td>\n",
       "      <td>0.278</td>\n",
       "      <td>627.031</td>\n",
       "    </tr>\n",
       "    <tr>\n",
       "      <th>250691</th>\n",
       "      <td>test</td>\n",
       "      <td>Q9HAN9</td>\n",
       "      <td>214</td>\n",
       "      <td>binding</td>\n",
       "      <td>1.0</td>\n",
       "      <td>0</td>\n",
       "      <td>0.5</td>\n",
       "      <td>8.874</td>\n",
       "      <td>0.007</td>\n",
       "      <td>2245.562</td>\n",
       "    </tr>\n",
       "    <tr>\n",
       "      <th>250695</th>\n",
       "      <td>test</td>\n",
       "      <td>Q9HAN9</td>\n",
       "      <td>218</td>\n",
       "      <td>binding</td>\n",
       "      <td>1.0</td>\n",
       "      <td>0</td>\n",
       "      <td>0.5</td>\n",
       "      <td>5.400</td>\n",
       "      <td>0.200</td>\n",
       "      <td>1334.799</td>\n",
       "    </tr>\n",
       "    <tr>\n",
       "      <th>250696</th>\n",
       "      <td>test</td>\n",
       "      <td>Q9HAN9</td>\n",
       "      <td>219</td>\n",
       "      <td>binding</td>\n",
       "      <td>1.0</td>\n",
       "      <td>0</td>\n",
       "      <td>0.5</td>\n",
       "      <td>3.600</td>\n",
       "      <td>0.300</td>\n",
       "      <td>862.029</td>\n",
       "    </tr>\n",
       "    <tr>\n",
       "      <th>250745</th>\n",
       "      <td>test</td>\n",
       "      <td>Q9HAN9</td>\n",
       "      <td>268</td>\n",
       "      <td>binding</td>\n",
       "      <td>1.0</td>\n",
       "      <td>0</td>\n",
       "      <td>0.5</td>\n",
       "      <td>9.000</td>\n",
       "      <td>0.000</td>\n",
       "      <td>4472.968</td>\n",
       "    </tr>\n",
       "  </tbody>\n",
       "</table>\n",
       "<p>12126 rows × 10 columns</p>\n",
       "</div>"
      ],
      "text/plain": [
       "         tag protd_id  position   ligand  target  prediction  cutoff     ri  \\\n",
       "393     test   O25094        33    small     1.0           1     0.5  1.026   \n",
       "397     test   O25094        37    small     1.0           1     0.5  0.396   \n",
       "450     test   O25094        90    small     1.0           1     0.5  0.180   \n",
       "451     test   O25094        91    small     1.0           1     0.5  0.864   \n",
       "452     test   O25094        92    small     1.0           0     0.5  0.486   \n",
       "...      ...      ...       ...      ...     ...         ...     ...    ...   \n",
       "250662  test   Q9HAN9       185  binding     1.0           0     0.5  3.996   \n",
       "250691  test   Q9HAN9       214  binding     1.0           0     0.5  8.874   \n",
       "250695  test   Q9HAN9       218  binding     1.0           0     0.5  5.400   \n",
       "250696  test   Q9HAN9       219  binding     1.0           0     0.5  3.600   \n",
       "250745  test   Q9HAN9       268  binding     1.0           0     0.5  9.000   \n",
       "\n",
       "         prob      loss  \n",
       "393     0.557     0.000  \n",
       "397     0.522     0.000  \n",
       "450     0.510     0.000  \n",
       "451     0.548     0.000  \n",
       "452     0.473     0.000  \n",
       "...       ...       ...  \n",
       "250662  0.278   627.031  \n",
       "250691  0.007  2245.562  \n",
       "250695  0.200  1334.799  \n",
       "250696  0.300   862.029  \n",
       "250745  0.000  4472.968  \n",
       "\n",
       "[12126 rows x 10 columns]"
      ]
     },
     "execution_count": 6,
     "metadata": {},
     "output_type": "execute_result"
    }
   ],
   "source": [
    "df[df.target == 1]"
   ]
  },
  {
   "cell_type": "code",
   "execution_count": 45,
   "metadata": {
    "pycharm": {
     "name": "#%%\n"
    }
   },
   "outputs": [
    {
     "data": {
      "text/plain": [
       "136.207361801911"
      ]
     },
     "execution_count": 45,
     "metadata": {},
     "output_type": "execute_result"
    }
   ],
   "source": [
    "df.loss.mean()"
   ]
  },
  {
   "cell_type": "code",
   "execution_count": 64,
   "metadata": {
    "pycharm": {
     "name": "#%%\n"
    }
   },
   "outputs": [
    {
     "name": "stderr",
     "output_type": "stream",
     "text": [
      "/tmp/ipykernel_7867/3335055868.py:20: UserWarning: Matplotlib is currently using module://matplotlib_inline.backend_inline, which is a non-GUI backend, so cannot show the figure.\n",
      "  fig.show()\n"
     ]
    },
    {
     "data": {
      "image/png": "[encoded data removed]",
      "text/plain": [
       "<Figure size 432x288 with 1 Axes>"
      ]
     },
     "metadata": {
      "needs_background": "light"
     },
     "output_type": "display_data"
    }
   ],
   "source": [
    "import numpy as np\n",
    "from ml.common import Performance\n",
    "import matplotlib.pyplot as plt\n",
    "\n",
    "cutoffs = df.cutoff.unique()\n",
    "rec = []\n",
    "prec = []\n",
    "covonebind = []\n",
    "for cutoff in cutoffs:\n",
    "    performance = Performance.df_to_performance(df[df.cutoff==cutoff])\n",
    "    rec.append(performance['rec_total'])\n",
    "    prec.append(performance['prec_total'])\n",
    "    covonebind.append(performance['covonebind_total'])\n",
    "\n",
    "fig, ax = plt.subplots()\n",
    "ax.plot(cutoffs, rec,color='green', label='Recall')\n",
    "ax.plot(cutoffs, prec,color='blue', label='Precission')\n",
    "ax.plot(cutoffs, covonebind,color='orange', label = \"CovOneBind\")\n",
    "ax.legend()\n",
    "fig.show()"
   ]
  },
  {
   "cell_type": "code",
   "execution_count": 46,
   "metadata": {
    "pycharm": {
     "name": "#%%\n"
    }
   },
   "outputs": [
    {
     "name": "stdout",
     "output_type": "stream",
     "text": [
      "1e-05\n"
     ]
    },
    {
     "name": "stderr",
     "output_type": "stream",
     "text": [
      "/tmp/ipykernel_7867/2613190845.py:1: FutureWarning: Indexing with multiple keys (implicitly converted to a tuple of keys) will be deprecated, use a list instead.\n",
      "  df1 = df.groupby('protd_id')['prediction', 'target'].sum()\n"
     ]
    }
   ],
   "source": [
    "df1 = df.groupby('protd_id')['prediction', 'target'].sum()\n",
    "covonebind = len(df1[df1.prediction > 0])/len(df1[df1.target > 0])\n",
    "print(1e-5)"
   ]
  },
  {
   "cell_type": "code",
   "execution_count": 42,
   "metadata": {
    "pycharm": {
     "name": "#%%\n"
    }
   },
   "outputs": [
    {
     "data": {
      "text/html": [
       "<div>\n",
       "<style scoped>\n",
       "    .dataframe tbody tr th:only-of-type {\n",
       "        vertical-align: middle;\n",
       "    }\n",
       "\n",
       "    .dataframe tbody tr th {\n",
       "        vertical-align: top;\n",
       "    }\n",
       "\n",
       "    .dataframe thead th {\n",
       "        text-align: right;\n",
       "    }\n",
       "</style>\n",
       "<table border=\"1\" class=\"dataframe\">\n",
       "  <thead>\n",
       "    <tr style=\"text-align: right;\">\n",
       "      <th></th>\n",
       "      <th>tag</th>\n",
       "      <th>protd_id</th>\n",
       "      <th>position</th>\n",
       "      <th>ligand</th>\n",
       "      <th>target</th>\n",
       "      <th>prediction</th>\n",
       "      <th>cutoff</th>\n",
       "      <th>ri</th>\n",
       "      <th>prob</th>\n",
       "      <th>loss</th>\n",
       "    </tr>\n",
       "  </thead>\n",
       "  <tbody>\n",
       "    <tr>\n",
       "      <th>0</th>\n",
       "      <td>validation_epoch_19</td>\n",
       "      <td>P0AE05</td>\n",
       "      <td>0</td>\n",
       "      <td>metal</td>\n",
       "      <td>0.0</td>\n",
       "      <td>1</td>\n",
       "      <td>0.0</td>\n",
       "      <td>inf</td>\n",
       "      <td>7.150692e-04</td>\n",
       "      <td>0.126600</td>\n",
       "    </tr>\n",
       "    <tr>\n",
       "      <th>1</th>\n",
       "      <td>validation_epoch_19</td>\n",
       "      <td>P0AE05</td>\n",
       "      <td>1</td>\n",
       "      <td>metal</td>\n",
       "      <td>0.0</td>\n",
       "      <td>1</td>\n",
       "      <td>0.0</td>\n",
       "      <td>inf</td>\n",
       "      <td>1.505545e-04</td>\n",
       "      <td>0.026670</td>\n",
       "    </tr>\n",
       "    <tr>\n",
       "      <th>2</th>\n",
       "      <td>validation_epoch_19</td>\n",
       "      <td>P0AE05</td>\n",
       "      <td>2</td>\n",
       "      <td>metal</td>\n",
       "      <td>0.0</td>\n",
       "      <td>1</td>\n",
       "      <td>0.0</td>\n",
       "      <td>inf</td>\n",
       "      <td>5.079052e-07</td>\n",
       "      <td>0.000000</td>\n",
       "    </tr>\n",
       "    <tr>\n",
       "      <th>3</th>\n",
       "      <td>validation_epoch_19</td>\n",
       "      <td>P0AE05</td>\n",
       "      <td>3</td>\n",
       "      <td>metal</td>\n",
       "      <td>0.0</td>\n",
       "      <td>1</td>\n",
       "      <td>0.0</td>\n",
       "      <td>inf</td>\n",
       "      <td>5.576067e-07</td>\n",
       "      <td>0.000169</td>\n",
       "    </tr>\n",
       "    <tr>\n",
       "      <th>4</th>\n",
       "      <td>validation_epoch_19</td>\n",
       "      <td>P0AE05</td>\n",
       "      <td>4</td>\n",
       "      <td>metal</td>\n",
       "      <td>0.0</td>\n",
       "      <td>1</td>\n",
       "      <td>0.0</td>\n",
       "      <td>inf</td>\n",
       "      <td>3.618223e-07</td>\n",
       "      <td>0.000000</td>\n",
       "    </tr>\n",
       "    <tr>\n",
       "      <th>...</th>\n",
       "      <td>...</td>\n",
       "      <td>...</td>\n",
       "      <td>...</td>\n",
       "      <td>...</td>\n",
       "      <td>...</td>\n",
       "      <td>...</td>\n",
       "      <td>...</td>\n",
       "      <td>...</td>\n",
       "      <td>...</td>\n",
       "      <td>...</td>\n",
       "    </tr>\n",
       "    <tr>\n",
       "      <th>72235</th>\n",
       "      <td>validation_epoch_19</td>\n",
       "      <td>D1BQI7</td>\n",
       "      <td>213</td>\n",
       "      <td>binding</td>\n",
       "      <td>0.0</td>\n",
       "      <td>0</td>\n",
       "      <td>0.9</td>\n",
       "      <td>8.965245</td>\n",
       "      <td>3.475481e-03</td>\n",
       "      <td>0.758943</td>\n",
       "    </tr>\n",
       "    <tr>\n",
       "      <th>72236</th>\n",
       "      <td>validation_epoch_19</td>\n",
       "      <td>D1BQI7</td>\n",
       "      <td>214</td>\n",
       "      <td>binding</td>\n",
       "      <td>0.0</td>\n",
       "      <td>0</td>\n",
       "      <td>0.9</td>\n",
       "      <td>8.990463</td>\n",
       "      <td>9.536662e-04</td>\n",
       "      <td>0.208005</td>\n",
       "    </tr>\n",
       "    <tr>\n",
       "      <th>72237</th>\n",
       "      <td>validation_epoch_19</td>\n",
       "      <td>D1BQI7</td>\n",
       "      <td>215</td>\n",
       "      <td>binding</td>\n",
       "      <td>0.0</td>\n",
       "      <td>0</td>\n",
       "      <td>0.9</td>\n",
       "      <td>8.984796</td>\n",
       "      <td>1.520480e-03</td>\n",
       "      <td>0.331706</td>\n",
       "    </tr>\n",
       "    <tr>\n",
       "      <th>72238</th>\n",
       "      <td>validation_epoch_19</td>\n",
       "      <td>D1BQI7</td>\n",
       "      <td>216</td>\n",
       "      <td>binding</td>\n",
       "      <td>0.0</td>\n",
       "      <td>0</td>\n",
       "      <td>0.9</td>\n",
       "      <td>8.881128</td>\n",
       "      <td>1.188718e-02</td>\n",
       "      <td>2.606871</td>\n",
       "    </tr>\n",
       "    <tr>\n",
       "      <th>72239</th>\n",
       "      <td>validation_epoch_19</td>\n",
       "      <td>D1BQI7</td>\n",
       "      <td>217</td>\n",
       "      <td>binding</td>\n",
       "      <td>0.0</td>\n",
       "      <td>0</td>\n",
       "      <td>0.9</td>\n",
       "      <td>8.922716</td>\n",
       "      <td>7.728423e-03</td>\n",
       "      <td>1.691379</td>\n",
       "    </tr>\n",
       "  </tbody>\n",
       "</table>\n",
       "<p>72240 rows × 10 columns</p>\n",
       "</div>"
      ],
      "text/plain": [
       "                       tag protd_id  position   ligand  target  prediction  \\\n",
       "0      validation_epoch_19   P0AE05         0    metal     0.0           1   \n",
       "1      validation_epoch_19   P0AE05         1    metal     0.0           1   \n",
       "2      validation_epoch_19   P0AE05         2    metal     0.0           1   \n",
       "3      validation_epoch_19   P0AE05         3    metal     0.0           1   \n",
       "4      validation_epoch_19   P0AE05         4    metal     0.0           1   \n",
       "...                    ...      ...       ...      ...     ...         ...   \n",
       "72235  validation_epoch_19   D1BQI7       213  binding     0.0           0   \n",
       "72236  validation_epoch_19   D1BQI7       214  binding     0.0           0   \n",
       "72237  validation_epoch_19   D1BQI7       215  binding     0.0           0   \n",
       "72238  validation_epoch_19   D1BQI7       216  binding     0.0           0   \n",
       "72239  validation_epoch_19   D1BQI7       217  binding     0.0           0   \n",
       "\n",
       "       cutoff        ri          prob      loss  \n",
       "0         0.0       inf  7.150692e-04  0.126600  \n",
       "1         0.0       inf  1.505545e-04  0.026670  \n",
       "2         0.0       inf  5.079052e-07  0.000000  \n",
       "3         0.0       inf  5.576067e-07  0.000169  \n",
       "4         0.0       inf  3.618223e-07  0.000000  \n",
       "...       ...       ...           ...       ...  \n",
       "72235     0.9  8.965245  3.475481e-03  0.758943  \n",
       "72236     0.9  8.990463  9.536662e-04  0.208005  \n",
       "72237     0.9  8.984796  1.520480e-03  0.331706  \n",
       "72238     0.9  8.881128  1.188718e-02  2.606871  \n",
       "72239     0.9  8.922716  7.728423e-03  1.691379  \n",
       "\n",
       "[72240 rows x 10 columns]"
      ]
     },
     "execution_count": 42,
     "metadata": {},
     "output_type": "execute_result"
    }
   ],
   "source": [
    "df"
   ]
  },
  {
   "cell_type": "code",
   "execution_count": 17,
   "metadata": {
    "pycharm": {
     "name": "#%%\n"
    }
   },
   "outputs": [
    {
     "data": {
      "image/png": "[encoded data removed]",
      "text/plain": [
       "<Figure size 432x288 with 1 Axes>"
      ]
     },
     "metadata": {
      "needs_background": "light"
     },
     "output_type": "display_data"
    }
   ],
   "source": [
    "import matplotlib.pyplot as plt\n",
    "import numpy as np\n",
    "from plots import Plots\n",
    "\n",
    "fig1, ax1 = plt.subplots()\n",
    "Plots.plot_hist(df.prob, ax=ax1, title='Probability')"
   ]
  },
  {
   "cell_type": "code",
   "execution_count": 60,
   "metadata": {
    "pycharm": {
     "name": "#%%\n"
    }
   },
   "outputs": [
    {
     "data": {
      "text/plain": [
       "array([0. , 0.1, 0.2, 0.3, 0.4, 0.5, 0.6, 0.7, 0.8, 1. ])"
      ]
     },
     "execution_count": 60,
     "metadata": {},
     "output_type": "execute_result"
    }
   ],
   "source": [
    "cutoffs = np.linspace(0, 1, 10, endpoint=True)\n",
    "cutoffs = (cutoffs * 10).astype(int) / 10"
   ]
  },
  {
   "cell_type": "code",
   "execution_count": 53,
   "metadata": {
    "pycharm": {
     "name": "#%%\n"
    }
   },
   "outputs": [],
   "source": []
  },
  {
   "cell_type": "code",
   "execution_count": null,
   "metadata": {
    "pycharm": {
     "name": "#%%\n"
    }
   },
   "outputs": [],
   "source": []
  }
 ],
 "metadata": {
  "kernelspec": {
   "display_name": "Python 3 (ipykernel)",
   "language": "python",
   "name": "python3"
  },
  "language_info": {
   "codemirror_mode": {
    "name": "ipython",
    "version": 3
   },
   "file_extension": ".py",
   "mimetype": "text/x-python",
   "name": "python",
   "nbconvert_exporter": "python",
   "pygments_lexer": "ipython3",
   "version": "3.8.9"
  }
 },
 "nbformat": 4,
 "nbformat_minor": 1
}
